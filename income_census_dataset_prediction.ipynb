{
  "nbformat": 4,
  "nbformat_minor": 0,
  "metadata": {
    "colab": {
      "provenance": [],
      "authorship_tag": "ABX9TyO9IW0pCKsDzHqbhx6/giqt",
      "include_colab_link": true
    },
    "kernelspec": {
      "name": "python3",
      "display_name": "Python 3"
    },
    "language_info": {
      "name": "python"
    }
  },
  "cells": [
    {
      "cell_type": "markdown",
      "metadata": {
        "id": "view-in-github",
        "colab_type": "text"
      },
      "source": [
        "<a href=\"https://colab.research.google.com/github/Abhishekpratapsingh321/Income_census_prediction/blob/main/income_census_dataset_prediction.ipynb\" target=\"_parent\"><img src=\"https://colab.research.google.com/assets/colab-badge.svg\" alt=\"Open In Colab\"/></a>"
      ]
    },
    {
      "cell_type": "markdown",
      "source": [
        "Importing important libraries"
      ],
      "metadata": {
        "id": "JKtSb0fN8vkA"
      }
    },
    {
      "cell_type": "code",
      "source": [
        "from google.colab import files\n",
        "import io\n",
        "import requests\n",
        "import os\n",
        "import numpy as np\n",
        "import pandas as pd\n",
        "import seaborn as sns\n",
        "import matplotlib.pyplot as plt\n",
        "%matplotlib inline\n",
        "plt.rcParams['figure.figsize'] = [10,8]\n",
        "import pdb\n",
        "from scipy import stats\n",
        "from sklearn.preprocessing import StandardScaler\n",
        "from sklearn.preprocessing import MinMaxScaler\n",
        "from sklearn.model_selection import train_test_split\n",
        "\n",
        "from sklearn.model_selection import KFold, RepeatedKFold\n",
        "from sklearn.dummy import DummyClassifier\n",
        "from sklearn.linear_model import LogisticRegression \n",
        "from sklearn.tree import DecisionTreeClassifier\n",
        "from sklearn import tree\n",
        "from sklearn.ensemble import RandomForestClassifier\n",
        "import xgboost as xgb\n",
        "from sklearn.metrics import accuracy_score\n",
        "from sklearn.metrics import recall_score\n",
        "from sklearn.metrics import precision_score\n",
        "from sklearn.metrics import f1_score\n",
        "from sklearn.metrics import confusion_matrix, ConfusionMatrixDisplay\n",
        "from sklearn.metrics import classification_report\n",
        "from sklearn.model_selection import RandomizedSearchCV"
      ],
      "metadata": {
        "id": "Rl2jJw4q82vo"
      },
      "execution_count": null,
      "outputs": []
    },
    {
      "cell_type": "markdown",
      "source": [
        "Feature Information:\n",
        "\n",
        "1:  age: continuous.\n",
        "\n",
        "2:  workclass: Private, Self-emp-not-inc, Self-emp-inc, Federal-gov, Local-gov, \n",
        "State-gov, Without-pay, Never-worked.\n",
        "\n",
        "3:  fnlwgt: continuous.\n",
        "\n",
        "4:  education: Bachelors, Some-college, 11th, HS-grad, Prof-school, Assoc-acdm, Assoc-voc, 9th, 7th-8th, 12th, Masters, 1st-4th, 10th, Doctorate, 5th-6th, Preschool.\n",
        "\n",
        "5:  education-num: continuous.\n",
        "\n",
        "6:  marital-status: Married-civ-spouse, Divorced, Never-married, Separated, Widowed, Married-spouse-absent, Married-AF-spouse.\n",
        "\n",
        "7:  occupation: Tech-support, Craft-repair, Other-service, Sales, Exec-managerial, Prof-specialty, Handlers-cleaners, Machine-op-inspct, Adm-clerical, Farming-fishing, Transport-moving, Priv-house-serv, Protective-serv, Armed-Forces.\n",
        "\n",
        "8:  relationship: Wife, Own-child, Husband, Not-in-family, Other-relative, Unmarried.\n",
        "\n",
        "9:  race: White, Asian-Pac-Islander, Amer-Indian-Eskimo, Other, Black.\n",
        "\n",
        "10:  sex: Female, Male.\n",
        "\n",
        "11:  capital-gain: continuous.\n",
        "\n",
        "12:  capital-loss: continuous.\n",
        "\n",
        "13:  hours-per-week: continuous.\n",
        "\n",
        "14:  native-country: United-States, Cambodia, England, Puerto-Rico, Canada, Germany, Outlying-US(Guam-USVI-etc), India, Japan, Greece, South, China, Cuba, Iran, Honduras, Philippines, Italy, Poland, Jamaica, Vietnam, Mexico, Portugal, Ireland, France, Dominican-Republic, Laos, Ecuador, Taiwan, Haiti, Columbia, Hungary, Guatemala, Nicaragua, Scotland, Thailand, Yugoslavia, El-Salvador, Trinadad&Tobago, Peru, Hong, Holand-Netherlands.\n",
        "\n",
        "15:  income: >50K, <=50K.\n"
      ],
      "metadata": {
        "id": "RSJvJmyTGM6K"
      }
    },
    {
      "cell_type": "markdown",
      "source": [
        "Loading Training Dataset and creating dataframe"
      ],
      "metadata": {
        "id": "7c_njCY-H2pB"
      }
    },
    {
      "cell_type": "code",
      "source": [
        "\n",
        "df=pd.read_csv(\"https://archive.ics.uci.edu/ml/machine-learning-databases/adult/adult.data\",names=['age', 'workclass', 'fnlwgt', 'education', 'education-num', 'marital-status', 'occupation', 'relationship', 'race', 'sex', 'capital-gain',\t'capital-loss',\t'hours-per-week',\t'native-country',\t'income'])\n"
      ],
      "metadata": {
        "id": "K0DlWXOq9JWE"
      },
      "execution_count": null,
      "outputs": []
    },
    {
      "cell_type": "markdown",
      "source": [
        "Loading Test Dataset and creating Dataframe"
      ],
      "metadata": {
        "id": "nbnedrbcI04g"
      }
    },
    {
      "cell_type": "code",
      "source": [
        "df_test=pd.read_csv(\"https://archive.ics.uci.edu/ml/machine-learning-databases/adult/adult.test\",names=['age', 'workclass', 'fnlwgt', 'education', 'education-num', 'marital-status', 'occupation', 'relationship', 'race', 'sex', 'capital-gain',\t'capital-loss',\t'hours-per-week',\t'native-country',\t'income'])\n"
      ],
      "metadata": {
        "id": "Y3ESjvb3I94v"
      },
      "execution_count": null,
      "outputs": []
    },
    {
      "cell_type": "code",
      "source": [
        "df.head()"
      ],
      "metadata": {
        "colab": {
          "base_uri": "https://localhost:8080/",
          "height": 337
        },
        "id": "9qe38uiDJLLQ",
        "outputId": "dff2f5f7-2987-4163-fe58-c2c3c42e6de1"
      },
      "execution_count": null,
      "outputs": [
        {
          "output_type": "execute_result",
          "data": {
            "text/plain": [
              "   age          workclass  fnlwgt   education  education-num  \\\n",
              "0   39          State-gov   77516   Bachelors             13   \n",
              "1   50   Self-emp-not-inc   83311   Bachelors             13   \n",
              "2   38            Private  215646     HS-grad              9   \n",
              "3   53            Private  234721        11th              7   \n",
              "4   28            Private  338409   Bachelors             13   \n",
              "\n",
              "        marital-status          occupation    relationship    race      sex  \\\n",
              "0        Never-married        Adm-clerical   Not-in-family   White     Male   \n",
              "1   Married-civ-spouse     Exec-managerial         Husband   White     Male   \n",
              "2             Divorced   Handlers-cleaners   Not-in-family   White     Male   \n",
              "3   Married-civ-spouse   Handlers-cleaners         Husband   Black     Male   \n",
              "4   Married-civ-spouse      Prof-specialty            Wife   Black   Female   \n",
              "\n",
              "   capital-gain  capital-loss  hours-per-week  native-country  income  \n",
              "0          2174             0              40   United-States   <=50K  \n",
              "1             0             0              13   United-States   <=50K  \n",
              "2             0             0              40   United-States   <=50K  \n",
              "3             0             0              40   United-States   <=50K  \n",
              "4             0             0              40            Cuba   <=50K  "
            ],
            "text/html": [
              "\n",
              "  <div id=\"df-5a9dd428-21c1-49cd-8ffa-796f4c25ada0\">\n",
              "    <div class=\"colab-df-container\">\n",
              "      <div>\n",
              "<style scoped>\n",
              "    .dataframe tbody tr th:only-of-type {\n",
              "        vertical-align: middle;\n",
              "    }\n",
              "\n",
              "    .dataframe tbody tr th {\n",
              "        vertical-align: top;\n",
              "    }\n",
              "\n",
              "    .dataframe thead th {\n",
              "        text-align: right;\n",
              "    }\n",
              "</style>\n",
              "<table border=\"1\" class=\"dataframe\">\n",
              "  <thead>\n",
              "    <tr style=\"text-align: right;\">\n",
              "      <th></th>\n",
              "      <th>age</th>\n",
              "      <th>workclass</th>\n",
              "      <th>fnlwgt</th>\n",
              "      <th>education</th>\n",
              "      <th>education-num</th>\n",
              "      <th>marital-status</th>\n",
              "      <th>occupation</th>\n",
              "      <th>relationship</th>\n",
              "      <th>race</th>\n",
              "      <th>sex</th>\n",
              "      <th>capital-gain</th>\n",
              "      <th>capital-loss</th>\n",
              "      <th>hours-per-week</th>\n",
              "      <th>native-country</th>\n",
              "      <th>income</th>\n",
              "    </tr>\n",
              "  </thead>\n",
              "  <tbody>\n",
              "    <tr>\n",
              "      <th>0</th>\n",
              "      <td>39</td>\n",
              "      <td>State-gov</td>\n",
              "      <td>77516</td>\n",
              "      <td>Bachelors</td>\n",
              "      <td>13</td>\n",
              "      <td>Never-married</td>\n",
              "      <td>Adm-clerical</td>\n",
              "      <td>Not-in-family</td>\n",
              "      <td>White</td>\n",
              "      <td>Male</td>\n",
              "      <td>2174</td>\n",
              "      <td>0</td>\n",
              "      <td>40</td>\n",
              "      <td>United-States</td>\n",
              "      <td>&lt;=50K</td>\n",
              "    </tr>\n",
              "    <tr>\n",
              "      <th>1</th>\n",
              "      <td>50</td>\n",
              "      <td>Self-emp-not-inc</td>\n",
              "      <td>83311</td>\n",
              "      <td>Bachelors</td>\n",
              "      <td>13</td>\n",
              "      <td>Married-civ-spouse</td>\n",
              "      <td>Exec-managerial</td>\n",
              "      <td>Husband</td>\n",
              "      <td>White</td>\n",
              "      <td>Male</td>\n",
              "      <td>0</td>\n",
              "      <td>0</td>\n",
              "      <td>13</td>\n",
              "      <td>United-States</td>\n",
              "      <td>&lt;=50K</td>\n",
              "    </tr>\n",
              "    <tr>\n",
              "      <th>2</th>\n",
              "      <td>38</td>\n",
              "      <td>Private</td>\n",
              "      <td>215646</td>\n",
              "      <td>HS-grad</td>\n",
              "      <td>9</td>\n",
              "      <td>Divorced</td>\n",
              "      <td>Handlers-cleaners</td>\n",
              "      <td>Not-in-family</td>\n",
              "      <td>White</td>\n",
              "      <td>Male</td>\n",
              "      <td>0</td>\n",
              "      <td>0</td>\n",
              "      <td>40</td>\n",
              "      <td>United-States</td>\n",
              "      <td>&lt;=50K</td>\n",
              "    </tr>\n",
              "    <tr>\n",
              "      <th>3</th>\n",
              "      <td>53</td>\n",
              "      <td>Private</td>\n",
              "      <td>234721</td>\n",
              "      <td>11th</td>\n",
              "      <td>7</td>\n",
              "      <td>Married-civ-spouse</td>\n",
              "      <td>Handlers-cleaners</td>\n",
              "      <td>Husband</td>\n",
              "      <td>Black</td>\n",
              "      <td>Male</td>\n",
              "      <td>0</td>\n",
              "      <td>0</td>\n",
              "      <td>40</td>\n",
              "      <td>United-States</td>\n",
              "      <td>&lt;=50K</td>\n",
              "    </tr>\n",
              "    <tr>\n",
              "      <th>4</th>\n",
              "      <td>28</td>\n",
              "      <td>Private</td>\n",
              "      <td>338409</td>\n",
              "      <td>Bachelors</td>\n",
              "      <td>13</td>\n",
              "      <td>Married-civ-spouse</td>\n",
              "      <td>Prof-specialty</td>\n",
              "      <td>Wife</td>\n",
              "      <td>Black</td>\n",
              "      <td>Female</td>\n",
              "      <td>0</td>\n",
              "      <td>0</td>\n",
              "      <td>40</td>\n",
              "      <td>Cuba</td>\n",
              "      <td>&lt;=50K</td>\n",
              "    </tr>\n",
              "  </tbody>\n",
              "</table>\n",
              "</div>\n",
              "      <button class=\"colab-df-convert\" onclick=\"convertToInteractive('df-5a9dd428-21c1-49cd-8ffa-796f4c25ada0')\"\n",
              "              title=\"Convert this dataframe to an interactive table.\"\n",
              "              style=\"display:none;\">\n",
              "        \n",
              "  <svg xmlns=\"http://www.w3.org/2000/svg\" height=\"24px\"viewBox=\"0 0 24 24\"\n",
              "       width=\"24px\">\n",
              "    <path d=\"M0 0h24v24H0V0z\" fill=\"none\"/>\n",
              "    <path d=\"M18.56 5.44l.94 2.06.94-2.06 2.06-.94-2.06-.94-.94-2.06-.94 2.06-2.06.94zm-11 1L8.5 8.5l.94-2.06 2.06-.94-2.06-.94L8.5 2.5l-.94 2.06-2.06.94zm10 10l.94 2.06.94-2.06 2.06-.94-2.06-.94-.94-2.06-.94 2.06-2.06.94z\"/><path d=\"M17.41 7.96l-1.37-1.37c-.4-.4-.92-.59-1.43-.59-.52 0-1.04.2-1.43.59L10.3 9.45l-7.72 7.72c-.78.78-.78 2.05 0 2.83L4 21.41c.39.39.9.59 1.41.59.51 0 1.02-.2 1.41-.59l7.78-7.78 2.81-2.81c.8-.78.8-2.07 0-2.86zM5.41 20L4 18.59l7.72-7.72 1.47 1.35L5.41 20z\"/>\n",
              "  </svg>\n",
              "      </button>\n",
              "      \n",
              "  <style>\n",
              "    .colab-df-container {\n",
              "      display:flex;\n",
              "      flex-wrap:wrap;\n",
              "      gap: 12px;\n",
              "    }\n",
              "\n",
              "    .colab-df-convert {\n",
              "      background-color: #E8F0FE;\n",
              "      border: none;\n",
              "      border-radius: 50%;\n",
              "      cursor: pointer;\n",
              "      display: none;\n",
              "      fill: #1967D2;\n",
              "      height: 32px;\n",
              "      padding: 0 0 0 0;\n",
              "      width: 32px;\n",
              "    }\n",
              "\n",
              "    .colab-df-convert:hover {\n",
              "      background-color: #E2EBFA;\n",
              "      box-shadow: 0px 1px 2px rgba(60, 64, 67, 0.3), 0px 1px 3px 1px rgba(60, 64, 67, 0.15);\n",
              "      fill: #174EA6;\n",
              "    }\n",
              "\n",
              "    [theme=dark] .colab-df-convert {\n",
              "      background-color: #3B4455;\n",
              "      fill: #D2E3FC;\n",
              "    }\n",
              "\n",
              "    [theme=dark] .colab-df-convert:hover {\n",
              "      background-color: #434B5C;\n",
              "      box-shadow: 0px 1px 3px 1px rgba(0, 0, 0, 0.15);\n",
              "      filter: drop-shadow(0px 1px 2px rgba(0, 0, 0, 0.3));\n",
              "      fill: #FFFFFF;\n",
              "    }\n",
              "  </style>\n",
              "\n",
              "      <script>\n",
              "        const buttonEl =\n",
              "          document.querySelector('#df-5a9dd428-21c1-49cd-8ffa-796f4c25ada0 button.colab-df-convert');\n",
              "        buttonEl.style.display =\n",
              "          google.colab.kernel.accessAllowed ? 'block' : 'none';\n",
              "\n",
              "        async function convertToInteractive(key) {\n",
              "          const element = document.querySelector('#df-5a9dd428-21c1-49cd-8ffa-796f4c25ada0');\n",
              "          const dataTable =\n",
              "            await google.colab.kernel.invokeFunction('convertToInteractive',\n",
              "                                                     [key], {});\n",
              "          if (!dataTable) return;\n",
              "\n",
              "          const docLinkHtml = 'Like what you see? Visit the ' +\n",
              "            '<a target=\"_blank\" href=https://colab.research.google.com/notebooks/data_table.ipynb>data table notebook</a>'\n",
              "            + ' to learn more about interactive tables.';\n",
              "          element.innerHTML = '';\n",
              "          dataTable['output_type'] = 'display_data';\n",
              "          await google.colab.output.renderOutput(dataTable, element);\n",
              "          const docLink = document.createElement('div');\n",
              "          docLink.innerHTML = docLinkHtml;\n",
              "          element.appendChild(docLink);\n",
              "        }\n",
              "      </script>\n",
              "    </div>\n",
              "  </div>\n",
              "  "
            ]
          },
          "metadata": {},
          "execution_count": 4
        }
      ]
    },
    {
      "cell_type": "code",
      "source": [
        "df_test.head()"
      ],
      "metadata": {
        "colab": {
          "base_uri": "https://localhost:8080/",
          "height": 354
        },
        "id": "-b7XFIiOJPdI",
        "outputId": "e93153e3-5059-4f6e-8a80-c7c6114f973a"
      },
      "execution_count": null,
      "outputs": [
        {
          "output_type": "execute_result",
          "data": {
            "text/plain": [
              "                    age   workclass    fnlwgt      education  education-num  \\\n",
              "0  |1x3 Cross validator         NaN       NaN            NaN            NaN   \n",
              "1                    25     Private  226802.0           11th            7.0   \n",
              "2                    38     Private   89814.0        HS-grad            9.0   \n",
              "3                    28   Local-gov  336951.0     Assoc-acdm           12.0   \n",
              "4                    44     Private  160323.0   Some-college           10.0   \n",
              "\n",
              "        marital-status          occupation relationship    race    sex  \\\n",
              "0                  NaN                 NaN          NaN     NaN    NaN   \n",
              "1        Never-married   Machine-op-inspct    Own-child   Black   Male   \n",
              "2   Married-civ-spouse     Farming-fishing      Husband   White   Male   \n",
              "3   Married-civ-spouse     Protective-serv      Husband   White   Male   \n",
              "4   Married-civ-spouse   Machine-op-inspct      Husband   Black   Male   \n",
              "\n",
              "   capital-gain  capital-loss  hours-per-week  native-country   income  \n",
              "0           NaN           NaN             NaN             NaN      NaN  \n",
              "1           0.0           0.0            40.0   United-States   <=50K.  \n",
              "2           0.0           0.0            50.0   United-States   <=50K.  \n",
              "3           0.0           0.0            40.0   United-States    >50K.  \n",
              "4        7688.0           0.0            40.0   United-States    >50K.  "
            ],
            "text/html": [
              "\n",
              "  <div id=\"df-d727ba2a-ed1a-4f12-8a0f-28cf77ae91fb\">\n",
              "    <div class=\"colab-df-container\">\n",
              "      <div>\n",
              "<style scoped>\n",
              "    .dataframe tbody tr th:only-of-type {\n",
              "        vertical-align: middle;\n",
              "    }\n",
              "\n",
              "    .dataframe tbody tr th {\n",
              "        vertical-align: top;\n",
              "    }\n",
              "\n",
              "    .dataframe thead th {\n",
              "        text-align: right;\n",
              "    }\n",
              "</style>\n",
              "<table border=\"1\" class=\"dataframe\">\n",
              "  <thead>\n",
              "    <tr style=\"text-align: right;\">\n",
              "      <th></th>\n",
              "      <th>age</th>\n",
              "      <th>workclass</th>\n",
              "      <th>fnlwgt</th>\n",
              "      <th>education</th>\n",
              "      <th>education-num</th>\n",
              "      <th>marital-status</th>\n",
              "      <th>occupation</th>\n",
              "      <th>relationship</th>\n",
              "      <th>race</th>\n",
              "      <th>sex</th>\n",
              "      <th>capital-gain</th>\n",
              "      <th>capital-loss</th>\n",
              "      <th>hours-per-week</th>\n",
              "      <th>native-country</th>\n",
              "      <th>income</th>\n",
              "    </tr>\n",
              "  </thead>\n",
              "  <tbody>\n",
              "    <tr>\n",
              "      <th>0</th>\n",
              "      <td>|1x3 Cross validator</td>\n",
              "      <td>NaN</td>\n",
              "      <td>NaN</td>\n",
              "      <td>NaN</td>\n",
              "      <td>NaN</td>\n",
              "      <td>NaN</td>\n",
              "      <td>NaN</td>\n",
              "      <td>NaN</td>\n",
              "      <td>NaN</td>\n",
              "      <td>NaN</td>\n",
              "      <td>NaN</td>\n",
              "      <td>NaN</td>\n",
              "      <td>NaN</td>\n",
              "      <td>NaN</td>\n",
              "      <td>NaN</td>\n",
              "    </tr>\n",
              "    <tr>\n",
              "      <th>1</th>\n",
              "      <td>25</td>\n",
              "      <td>Private</td>\n",
              "      <td>226802.0</td>\n",
              "      <td>11th</td>\n",
              "      <td>7.0</td>\n",
              "      <td>Never-married</td>\n",
              "      <td>Machine-op-inspct</td>\n",
              "      <td>Own-child</td>\n",
              "      <td>Black</td>\n",
              "      <td>Male</td>\n",
              "      <td>0.0</td>\n",
              "      <td>0.0</td>\n",
              "      <td>40.0</td>\n",
              "      <td>United-States</td>\n",
              "      <td>&lt;=50K.</td>\n",
              "    </tr>\n",
              "    <tr>\n",
              "      <th>2</th>\n",
              "      <td>38</td>\n",
              "      <td>Private</td>\n",
              "      <td>89814.0</td>\n",
              "      <td>HS-grad</td>\n",
              "      <td>9.0</td>\n",
              "      <td>Married-civ-spouse</td>\n",
              "      <td>Farming-fishing</td>\n",
              "      <td>Husband</td>\n",
              "      <td>White</td>\n",
              "      <td>Male</td>\n",
              "      <td>0.0</td>\n",
              "      <td>0.0</td>\n",
              "      <td>50.0</td>\n",
              "      <td>United-States</td>\n",
              "      <td>&lt;=50K.</td>\n",
              "    </tr>\n",
              "    <tr>\n",
              "      <th>3</th>\n",
              "      <td>28</td>\n",
              "      <td>Local-gov</td>\n",
              "      <td>336951.0</td>\n",
              "      <td>Assoc-acdm</td>\n",
              "      <td>12.0</td>\n",
              "      <td>Married-civ-spouse</td>\n",
              "      <td>Protective-serv</td>\n",
              "      <td>Husband</td>\n",
              "      <td>White</td>\n",
              "      <td>Male</td>\n",
              "      <td>0.0</td>\n",
              "      <td>0.0</td>\n",
              "      <td>40.0</td>\n",
              "      <td>United-States</td>\n",
              "      <td>&gt;50K.</td>\n",
              "    </tr>\n",
              "    <tr>\n",
              "      <th>4</th>\n",
              "      <td>44</td>\n",
              "      <td>Private</td>\n",
              "      <td>160323.0</td>\n",
              "      <td>Some-college</td>\n",
              "      <td>10.0</td>\n",
              "      <td>Married-civ-spouse</td>\n",
              "      <td>Machine-op-inspct</td>\n",
              "      <td>Husband</td>\n",
              "      <td>Black</td>\n",
              "      <td>Male</td>\n",
              "      <td>7688.0</td>\n",
              "      <td>0.0</td>\n",
              "      <td>40.0</td>\n",
              "      <td>United-States</td>\n",
              "      <td>&gt;50K.</td>\n",
              "    </tr>\n",
              "  </tbody>\n",
              "</table>\n",
              "</div>\n",
              "      <button class=\"colab-df-convert\" onclick=\"convertToInteractive('df-d727ba2a-ed1a-4f12-8a0f-28cf77ae91fb')\"\n",
              "              title=\"Convert this dataframe to an interactive table.\"\n",
              "              style=\"display:none;\">\n",
              "        \n",
              "  <svg xmlns=\"http://www.w3.org/2000/svg\" height=\"24px\"viewBox=\"0 0 24 24\"\n",
              "       width=\"24px\">\n",
              "    <path d=\"M0 0h24v24H0V0z\" fill=\"none\"/>\n",
              "    <path d=\"M18.56 5.44l.94 2.06.94-2.06 2.06-.94-2.06-.94-.94-2.06-.94 2.06-2.06.94zm-11 1L8.5 8.5l.94-2.06 2.06-.94-2.06-.94L8.5 2.5l-.94 2.06-2.06.94zm10 10l.94 2.06.94-2.06 2.06-.94-2.06-.94-.94-2.06-.94 2.06-2.06.94z\"/><path d=\"M17.41 7.96l-1.37-1.37c-.4-.4-.92-.59-1.43-.59-.52 0-1.04.2-1.43.59L10.3 9.45l-7.72 7.72c-.78.78-.78 2.05 0 2.83L4 21.41c.39.39.9.59 1.41.59.51 0 1.02-.2 1.41-.59l7.78-7.78 2.81-2.81c.8-.78.8-2.07 0-2.86zM5.41 20L4 18.59l7.72-7.72 1.47 1.35L5.41 20z\"/>\n",
              "  </svg>\n",
              "      </button>\n",
              "      \n",
              "  <style>\n",
              "    .colab-df-container {\n",
              "      display:flex;\n",
              "      flex-wrap:wrap;\n",
              "      gap: 12px;\n",
              "    }\n",
              "\n",
              "    .colab-df-convert {\n",
              "      background-color: #E8F0FE;\n",
              "      border: none;\n",
              "      border-radius: 50%;\n",
              "      cursor: pointer;\n",
              "      display: none;\n",
              "      fill: #1967D2;\n",
              "      height: 32px;\n",
              "      padding: 0 0 0 0;\n",
              "      width: 32px;\n",
              "    }\n",
              "\n",
              "    .colab-df-convert:hover {\n",
              "      background-color: #E2EBFA;\n",
              "      box-shadow: 0px 1px 2px rgba(60, 64, 67, 0.3), 0px 1px 3px 1px rgba(60, 64, 67, 0.15);\n",
              "      fill: #174EA6;\n",
              "    }\n",
              "\n",
              "    [theme=dark] .colab-df-convert {\n",
              "      background-color: #3B4455;\n",
              "      fill: #D2E3FC;\n",
              "    }\n",
              "\n",
              "    [theme=dark] .colab-df-convert:hover {\n",
              "      background-color: #434B5C;\n",
              "      box-shadow: 0px 1px 3px 1px rgba(0, 0, 0, 0.15);\n",
              "      filter: drop-shadow(0px 1px 2px rgba(0, 0, 0, 0.3));\n",
              "      fill: #FFFFFF;\n",
              "    }\n",
              "  </style>\n",
              "\n",
              "      <script>\n",
              "        const buttonEl =\n",
              "          document.querySelector('#df-d727ba2a-ed1a-4f12-8a0f-28cf77ae91fb button.colab-df-convert');\n",
              "        buttonEl.style.display =\n",
              "          google.colab.kernel.accessAllowed ? 'block' : 'none';\n",
              "\n",
              "        async function convertToInteractive(key) {\n",
              "          const element = document.querySelector('#df-d727ba2a-ed1a-4f12-8a0f-28cf77ae91fb');\n",
              "          const dataTable =\n",
              "            await google.colab.kernel.invokeFunction('convertToInteractive',\n",
              "                                                     [key], {});\n",
              "          if (!dataTable) return;\n",
              "\n",
              "          const docLinkHtml = 'Like what you see? Visit the ' +\n",
              "            '<a target=\"_blank\" href=https://colab.research.google.com/notebooks/data_table.ipynb>data table notebook</a>'\n",
              "            + ' to learn more about interactive tables.';\n",
              "          element.innerHTML = '';\n",
              "          dataTable['output_type'] = 'display_data';\n",
              "          await google.colab.output.renderOutput(dataTable, element);\n",
              "          const docLink = document.createElement('div');\n",
              "          docLink.innerHTML = docLinkHtml;\n",
              "          element.appendChild(docLink);\n",
              "        }\n",
              "      </script>\n",
              "    </div>\n",
              "  </div>\n",
              "  "
            ]
          },
          "metadata": {},
          "execution_count": 5
        }
      ]
    },
    {
      "cell_type": "code",
      "source": [
        "df_test=df_test.drop([0],axis=0) #here we are dropping the first row as its is in wrong format"
      ],
      "metadata": {
        "id": "fyBzDl4pJTAE"
      },
      "execution_count": null,
      "outputs": []
    },
    {
      "cell_type": "code",
      "source": [
        "df_test.head()"
      ],
      "metadata": {
        "colab": {
          "base_uri": "https://localhost:8080/",
          "height": 354
        },
        "id": "Os5t6LPqJkWG",
        "outputId": "916d2df8-9a80-4766-97fa-65285ba33822"
      },
      "execution_count": null,
      "outputs": [
        {
          "output_type": "execute_result",
          "data": {
            "text/plain": [
              "  age   workclass    fnlwgt      education  education-num  \\\n",
              "1  25     Private  226802.0           11th            7.0   \n",
              "2  38     Private   89814.0        HS-grad            9.0   \n",
              "3  28   Local-gov  336951.0     Assoc-acdm           12.0   \n",
              "4  44     Private  160323.0   Some-college           10.0   \n",
              "5  18           ?  103497.0   Some-college           10.0   \n",
              "\n",
              "        marital-status          occupation relationship    race      sex  \\\n",
              "1        Never-married   Machine-op-inspct    Own-child   Black     Male   \n",
              "2   Married-civ-spouse     Farming-fishing      Husband   White     Male   \n",
              "3   Married-civ-spouse     Protective-serv      Husband   White     Male   \n",
              "4   Married-civ-spouse   Machine-op-inspct      Husband   Black     Male   \n",
              "5        Never-married                   ?    Own-child   White   Female   \n",
              "\n",
              "   capital-gain  capital-loss  hours-per-week  native-country   income  \n",
              "1           0.0           0.0            40.0   United-States   <=50K.  \n",
              "2           0.0           0.0            50.0   United-States   <=50K.  \n",
              "3           0.0           0.0            40.0   United-States    >50K.  \n",
              "4        7688.0           0.0            40.0   United-States    >50K.  \n",
              "5           0.0           0.0            30.0   United-States   <=50K.  "
            ],
            "text/html": [
              "\n",
              "  <div id=\"df-0969ee58-62b8-44a6-aca9-75dc3b4d3344\">\n",
              "    <div class=\"colab-df-container\">\n",
              "      <div>\n",
              "<style scoped>\n",
              "    .dataframe tbody tr th:only-of-type {\n",
              "        vertical-align: middle;\n",
              "    }\n",
              "\n",
              "    .dataframe tbody tr th {\n",
              "        vertical-align: top;\n",
              "    }\n",
              "\n",
              "    .dataframe thead th {\n",
              "        text-align: right;\n",
              "    }\n",
              "</style>\n",
              "<table border=\"1\" class=\"dataframe\">\n",
              "  <thead>\n",
              "    <tr style=\"text-align: right;\">\n",
              "      <th></th>\n",
              "      <th>age</th>\n",
              "      <th>workclass</th>\n",
              "      <th>fnlwgt</th>\n",
              "      <th>education</th>\n",
              "      <th>education-num</th>\n",
              "      <th>marital-status</th>\n",
              "      <th>occupation</th>\n",
              "      <th>relationship</th>\n",
              "      <th>race</th>\n",
              "      <th>sex</th>\n",
              "      <th>capital-gain</th>\n",
              "      <th>capital-loss</th>\n",
              "      <th>hours-per-week</th>\n",
              "      <th>native-country</th>\n",
              "      <th>income</th>\n",
              "    </tr>\n",
              "  </thead>\n",
              "  <tbody>\n",
              "    <tr>\n",
              "      <th>1</th>\n",
              "      <td>25</td>\n",
              "      <td>Private</td>\n",
              "      <td>226802.0</td>\n",
              "      <td>11th</td>\n",
              "      <td>7.0</td>\n",
              "      <td>Never-married</td>\n",
              "      <td>Machine-op-inspct</td>\n",
              "      <td>Own-child</td>\n",
              "      <td>Black</td>\n",
              "      <td>Male</td>\n",
              "      <td>0.0</td>\n",
              "      <td>0.0</td>\n",
              "      <td>40.0</td>\n",
              "      <td>United-States</td>\n",
              "      <td>&lt;=50K.</td>\n",
              "    </tr>\n",
              "    <tr>\n",
              "      <th>2</th>\n",
              "      <td>38</td>\n",
              "      <td>Private</td>\n",
              "      <td>89814.0</td>\n",
              "      <td>HS-grad</td>\n",
              "      <td>9.0</td>\n",
              "      <td>Married-civ-spouse</td>\n",
              "      <td>Farming-fishing</td>\n",
              "      <td>Husband</td>\n",
              "      <td>White</td>\n",
              "      <td>Male</td>\n",
              "      <td>0.0</td>\n",
              "      <td>0.0</td>\n",
              "      <td>50.0</td>\n",
              "      <td>United-States</td>\n",
              "      <td>&lt;=50K.</td>\n",
              "    </tr>\n",
              "    <tr>\n",
              "      <th>3</th>\n",
              "      <td>28</td>\n",
              "      <td>Local-gov</td>\n",
              "      <td>336951.0</td>\n",
              "      <td>Assoc-acdm</td>\n",
              "      <td>12.0</td>\n",
              "      <td>Married-civ-spouse</td>\n",
              "      <td>Protective-serv</td>\n",
              "      <td>Husband</td>\n",
              "      <td>White</td>\n",
              "      <td>Male</td>\n",
              "      <td>0.0</td>\n",
              "      <td>0.0</td>\n",
              "      <td>40.0</td>\n",
              "      <td>United-States</td>\n",
              "      <td>&gt;50K.</td>\n",
              "    </tr>\n",
              "    <tr>\n",
              "      <th>4</th>\n",
              "      <td>44</td>\n",
              "      <td>Private</td>\n",
              "      <td>160323.0</td>\n",
              "      <td>Some-college</td>\n",
              "      <td>10.0</td>\n",
              "      <td>Married-civ-spouse</td>\n",
              "      <td>Machine-op-inspct</td>\n",
              "      <td>Husband</td>\n",
              "      <td>Black</td>\n",
              "      <td>Male</td>\n",
              "      <td>7688.0</td>\n",
              "      <td>0.0</td>\n",
              "      <td>40.0</td>\n",
              "      <td>United-States</td>\n",
              "      <td>&gt;50K.</td>\n",
              "    </tr>\n",
              "    <tr>\n",
              "      <th>5</th>\n",
              "      <td>18</td>\n",
              "      <td>?</td>\n",
              "      <td>103497.0</td>\n",
              "      <td>Some-college</td>\n",
              "      <td>10.0</td>\n",
              "      <td>Never-married</td>\n",
              "      <td>?</td>\n",
              "      <td>Own-child</td>\n",
              "      <td>White</td>\n",
              "      <td>Female</td>\n",
              "      <td>0.0</td>\n",
              "      <td>0.0</td>\n",
              "      <td>30.0</td>\n",
              "      <td>United-States</td>\n",
              "      <td>&lt;=50K.</td>\n",
              "    </tr>\n",
              "  </tbody>\n",
              "</table>\n",
              "</div>\n",
              "      <button class=\"colab-df-convert\" onclick=\"convertToInteractive('df-0969ee58-62b8-44a6-aca9-75dc3b4d3344')\"\n",
              "              title=\"Convert this dataframe to an interactive table.\"\n",
              "              style=\"display:none;\">\n",
              "        \n",
              "  <svg xmlns=\"http://www.w3.org/2000/svg\" height=\"24px\"viewBox=\"0 0 24 24\"\n",
              "       width=\"24px\">\n",
              "    <path d=\"M0 0h24v24H0V0z\" fill=\"none\"/>\n",
              "    <path d=\"M18.56 5.44l.94 2.06.94-2.06 2.06-.94-2.06-.94-.94-2.06-.94 2.06-2.06.94zm-11 1L8.5 8.5l.94-2.06 2.06-.94-2.06-.94L8.5 2.5l-.94 2.06-2.06.94zm10 10l.94 2.06.94-2.06 2.06-.94-2.06-.94-.94-2.06-.94 2.06-2.06.94z\"/><path d=\"M17.41 7.96l-1.37-1.37c-.4-.4-.92-.59-1.43-.59-.52 0-1.04.2-1.43.59L10.3 9.45l-7.72 7.72c-.78.78-.78 2.05 0 2.83L4 21.41c.39.39.9.59 1.41.59.51 0 1.02-.2 1.41-.59l7.78-7.78 2.81-2.81c.8-.78.8-2.07 0-2.86zM5.41 20L4 18.59l7.72-7.72 1.47 1.35L5.41 20z\"/>\n",
              "  </svg>\n",
              "      </button>\n",
              "      \n",
              "  <style>\n",
              "    .colab-df-container {\n",
              "      display:flex;\n",
              "      flex-wrap:wrap;\n",
              "      gap: 12px;\n",
              "    }\n",
              "\n",
              "    .colab-df-convert {\n",
              "      background-color: #E8F0FE;\n",
              "      border: none;\n",
              "      border-radius: 50%;\n",
              "      cursor: pointer;\n",
              "      display: none;\n",
              "      fill: #1967D2;\n",
              "      height: 32px;\n",
              "      padding: 0 0 0 0;\n",
              "      width: 32px;\n",
              "    }\n",
              "\n",
              "    .colab-df-convert:hover {\n",
              "      background-color: #E2EBFA;\n",
              "      box-shadow: 0px 1px 2px rgba(60, 64, 67, 0.3), 0px 1px 3px 1px rgba(60, 64, 67, 0.15);\n",
              "      fill: #174EA6;\n",
              "    }\n",
              "\n",
              "    [theme=dark] .colab-df-convert {\n",
              "      background-color: #3B4455;\n",
              "      fill: #D2E3FC;\n",
              "    }\n",
              "\n",
              "    [theme=dark] .colab-df-convert:hover {\n",
              "      background-color: #434B5C;\n",
              "      box-shadow: 0px 1px 3px 1px rgba(0, 0, 0, 0.15);\n",
              "      filter: drop-shadow(0px 1px 2px rgba(0, 0, 0, 0.3));\n",
              "      fill: #FFFFFF;\n",
              "    }\n",
              "  </style>\n",
              "\n",
              "      <script>\n",
              "        const buttonEl =\n",
              "          document.querySelector('#df-0969ee58-62b8-44a6-aca9-75dc3b4d3344 button.colab-df-convert');\n",
              "        buttonEl.style.display =\n",
              "          google.colab.kernel.accessAllowed ? 'block' : 'none';\n",
              "\n",
              "        async function convertToInteractive(key) {\n",
              "          const element = document.querySelector('#df-0969ee58-62b8-44a6-aca9-75dc3b4d3344');\n",
              "          const dataTable =\n",
              "            await google.colab.kernel.invokeFunction('convertToInteractive',\n",
              "                                                     [key], {});\n",
              "          if (!dataTable) return;\n",
              "\n",
              "          const docLinkHtml = 'Like what you see? Visit the ' +\n",
              "            '<a target=\"_blank\" href=https://colab.research.google.com/notebooks/data_table.ipynb>data table notebook</a>'\n",
              "            + ' to learn more about interactive tables.';\n",
              "          element.innerHTML = '';\n",
              "          dataTable['output_type'] = 'display_data';\n",
              "          await google.colab.output.renderOutput(dataTable, element);\n",
              "          const docLink = document.createElement('div');\n",
              "          docLink.innerHTML = docLinkHtml;\n",
              "          element.appendChild(docLink);\n",
              "        }\n",
              "      </script>\n",
              "    </div>\n",
              "  </div>\n",
              "  "
            ]
          },
          "metadata": {},
          "execution_count": 7
        }
      ]
    },
    {
      "cell_type": "code",
      "source": [
        "df.info()"
      ],
      "metadata": {
        "colab": {
          "base_uri": "https://localhost:8080/"
        },
        "id": "zsisUgjEJm-h",
        "outputId": "af7c96a4-eac3-477a-9d0f-c4b642f2404e"
      },
      "execution_count": null,
      "outputs": [
        {
          "output_type": "stream",
          "name": "stdout",
          "text": [
            "<class 'pandas.core.frame.DataFrame'>\n",
            "RangeIndex: 32561 entries, 0 to 32560\n",
            "Data columns (total 15 columns):\n",
            " #   Column          Non-Null Count  Dtype \n",
            "---  ------          --------------  ----- \n",
            " 0   age             32561 non-null  int64 \n",
            " 1   workclass       32561 non-null  object\n",
            " 2   fnlwgt          32561 non-null  int64 \n",
            " 3   education       32561 non-null  object\n",
            " 4   education-num   32561 non-null  int64 \n",
            " 5   marital-status  32561 non-null  object\n",
            " 6   occupation      32561 non-null  object\n",
            " 7   relationship    32561 non-null  object\n",
            " 8   race            32561 non-null  object\n",
            " 9   sex             32561 non-null  object\n",
            " 10  capital-gain    32561 non-null  int64 \n",
            " 11  capital-loss    32561 non-null  int64 \n",
            " 12  hours-per-week  32561 non-null  int64 \n",
            " 13  native-country  32561 non-null  object\n",
            " 14  income          32561 non-null  object\n",
            "dtypes: int64(6), object(9)\n",
            "memory usage: 3.7+ MB\n"
          ]
        }
      ]
    },
    {
      "cell_type": "code",
      "source": [
        "df_test.info() #here we can see that age datatype is object so we have to convert it into int64 form"
      ],
      "metadata": {
        "colab": {
          "base_uri": "https://localhost:8080/"
        },
        "id": "Ez_CeNhIKGpI",
        "outputId": "d81169a0-a3ee-4c9c-8ab9-940bca755587"
      },
      "execution_count": null,
      "outputs": [
        {
          "output_type": "stream",
          "name": "stdout",
          "text": [
            "<class 'pandas.core.frame.DataFrame'>\n",
            "Int64Index: 16281 entries, 1 to 16281\n",
            "Data columns (total 15 columns):\n",
            " #   Column          Non-Null Count  Dtype  \n",
            "---  ------          --------------  -----  \n",
            " 0   age             16281 non-null  object \n",
            " 1   workclass       16281 non-null  object \n",
            " 2   fnlwgt          16281 non-null  float64\n",
            " 3   education       16281 non-null  object \n",
            " 4   education-num   16281 non-null  float64\n",
            " 5   marital-status  16281 non-null  object \n",
            " 6   occupation      16281 non-null  object \n",
            " 7   relationship    16281 non-null  object \n",
            " 8   race            16281 non-null  object \n",
            " 9   sex             16281 non-null  object \n",
            " 10  capital-gain    16281 non-null  float64\n",
            " 11  capital-loss    16281 non-null  float64\n",
            " 12  hours-per-week  16281 non-null  float64\n",
            " 13  native-country  16281 non-null  object \n",
            " 14  income          16281 non-null  object \n",
            "dtypes: float64(5), object(10)\n",
            "memory usage: 2.0+ MB\n"
          ]
        }
      ]
    },
    {
      "cell_type": "code",
      "source": [
        "df_test['age']=pd.to_numeric(df_test['age'])"
      ],
      "metadata": {
        "id": "C1koCTypNgGo"
      },
      "execution_count": null,
      "outputs": []
    },
    {
      "cell_type": "markdown",
      "source": [
        "# EDA step"
      ],
      "metadata": {
        "id": "1NaF5ZovNkbB"
      }
    },
    {
      "cell_type": "markdown",
      "source": [
        "## Training dataset"
      ],
      "metadata": {
        "id": "JE3MFnp5NsSe"
      }
    },
    {
      "cell_type": "markdown",
      "source": [
        "Types of features"
      ],
      "metadata": {
        "id": "Gz-5Y-09LPcn"
      }
    },
    {
      "cell_type": "markdown",
      "source": [
        "\n",
        "\n",
        "\n",
        "*   Numerical features (6 features, int64): age, fnlwgt, education-num, capital-gain, capital-loss, hours-per-week\n",
        "\n",
        "*   Categorical features (9 features, object(str)): workclass, education, marital-status, occupation, relationship, race, sex, native-country, income\n",
        "\n"
      ],
      "metadata": {
        "id": "9D7DZhLPLU6F"
      }
    },
    {
      "cell_type": "markdown",
      "source": [
        "Missing Data"
      ],
      "metadata": {
        "id": "1xKKTdhoLmfZ"
      }
    },
    {
      "cell_type": "markdown",
      "source": [
        "\n",
        "\n",
        "*   There are no null data in any of the dataset columns.\n",
        "\n",
        "*   However, there are unknown data (information) in some columns indicated by the symbol '?'.\n",
        "\n"
      ],
      "metadata": {
        "id": "e9PqfelILq5i"
      }
    },
    {
      "cell_type": "code",
      "source": [
        "df.describe()"
      ],
      "metadata": {
        "colab": {
          "base_uri": "https://localhost:8080/",
          "height": 300
        },
        "id": "dQ9-sr7rL5_5",
        "outputId": "cab54b6e-53f4-4c42-a1ce-c94e2e9663d2"
      },
      "execution_count": null,
      "outputs": [
        {
          "output_type": "execute_result",
          "data": {
            "text/plain": [
              "                age        fnlwgt  education-num  capital-gain  capital-loss  \\\n",
              "count  32561.000000  3.256100e+04   32561.000000  32561.000000  32561.000000   \n",
              "mean      38.581647  1.897784e+05      10.080679   1077.648844     87.303830   \n",
              "std       13.640433  1.055500e+05       2.572720   7385.292085    402.960219   \n",
              "min       17.000000  1.228500e+04       1.000000      0.000000      0.000000   \n",
              "25%       28.000000  1.178270e+05       9.000000      0.000000      0.000000   \n",
              "50%       37.000000  1.783560e+05      10.000000      0.000000      0.000000   \n",
              "75%       48.000000  2.370510e+05      12.000000      0.000000      0.000000   \n",
              "max       90.000000  1.484705e+06      16.000000  99999.000000   4356.000000   \n",
              "\n",
              "       hours-per-week  \n",
              "count    32561.000000  \n",
              "mean        40.437456  \n",
              "std         12.347429  \n",
              "min          1.000000  \n",
              "25%         40.000000  \n",
              "50%         40.000000  \n",
              "75%         45.000000  \n",
              "max         99.000000  "
            ],
            "text/html": [
              "\n",
              "  <div id=\"df-9713b6f9-4b17-4f51-b111-8cd9c01b3d14\">\n",
              "    <div class=\"colab-df-container\">\n",
              "      <div>\n",
              "<style scoped>\n",
              "    .dataframe tbody tr th:only-of-type {\n",
              "        vertical-align: middle;\n",
              "    }\n",
              "\n",
              "    .dataframe tbody tr th {\n",
              "        vertical-align: top;\n",
              "    }\n",
              "\n",
              "    .dataframe thead th {\n",
              "        text-align: right;\n",
              "    }\n",
              "</style>\n",
              "<table border=\"1\" class=\"dataframe\">\n",
              "  <thead>\n",
              "    <tr style=\"text-align: right;\">\n",
              "      <th></th>\n",
              "      <th>age</th>\n",
              "      <th>fnlwgt</th>\n",
              "      <th>education-num</th>\n",
              "      <th>capital-gain</th>\n",
              "      <th>capital-loss</th>\n",
              "      <th>hours-per-week</th>\n",
              "    </tr>\n",
              "  </thead>\n",
              "  <tbody>\n",
              "    <tr>\n",
              "      <th>count</th>\n",
              "      <td>32561.000000</td>\n",
              "      <td>3.256100e+04</td>\n",
              "      <td>32561.000000</td>\n",
              "      <td>32561.000000</td>\n",
              "      <td>32561.000000</td>\n",
              "      <td>32561.000000</td>\n",
              "    </tr>\n",
              "    <tr>\n",
              "      <th>mean</th>\n",
              "      <td>38.581647</td>\n",
              "      <td>1.897784e+05</td>\n",
              "      <td>10.080679</td>\n",
              "      <td>1077.648844</td>\n",
              "      <td>87.303830</td>\n",
              "      <td>40.437456</td>\n",
              "    </tr>\n",
              "    <tr>\n",
              "      <th>std</th>\n",
              "      <td>13.640433</td>\n",
              "      <td>1.055500e+05</td>\n",
              "      <td>2.572720</td>\n",
              "      <td>7385.292085</td>\n",
              "      <td>402.960219</td>\n",
              "      <td>12.347429</td>\n",
              "    </tr>\n",
              "    <tr>\n",
              "      <th>min</th>\n",
              "      <td>17.000000</td>\n",
              "      <td>1.228500e+04</td>\n",
              "      <td>1.000000</td>\n",
              "      <td>0.000000</td>\n",
              "      <td>0.000000</td>\n",
              "      <td>1.000000</td>\n",
              "    </tr>\n",
              "    <tr>\n",
              "      <th>25%</th>\n",
              "      <td>28.000000</td>\n",
              "      <td>1.178270e+05</td>\n",
              "      <td>9.000000</td>\n",
              "      <td>0.000000</td>\n",
              "      <td>0.000000</td>\n",
              "      <td>40.000000</td>\n",
              "    </tr>\n",
              "    <tr>\n",
              "      <th>50%</th>\n",
              "      <td>37.000000</td>\n",
              "      <td>1.783560e+05</td>\n",
              "      <td>10.000000</td>\n",
              "      <td>0.000000</td>\n",
              "      <td>0.000000</td>\n",
              "      <td>40.000000</td>\n",
              "    </tr>\n",
              "    <tr>\n",
              "      <th>75%</th>\n",
              "      <td>48.000000</td>\n",
              "      <td>2.370510e+05</td>\n",
              "      <td>12.000000</td>\n",
              "      <td>0.000000</td>\n",
              "      <td>0.000000</td>\n",
              "      <td>45.000000</td>\n",
              "    </tr>\n",
              "    <tr>\n",
              "      <th>max</th>\n",
              "      <td>90.000000</td>\n",
              "      <td>1.484705e+06</td>\n",
              "      <td>16.000000</td>\n",
              "      <td>99999.000000</td>\n",
              "      <td>4356.000000</td>\n",
              "      <td>99.000000</td>\n",
              "    </tr>\n",
              "  </tbody>\n",
              "</table>\n",
              "</div>\n",
              "      <button class=\"colab-df-convert\" onclick=\"convertToInteractive('df-9713b6f9-4b17-4f51-b111-8cd9c01b3d14')\"\n",
              "              title=\"Convert this dataframe to an interactive table.\"\n",
              "              style=\"display:none;\">\n",
              "        \n",
              "  <svg xmlns=\"http://www.w3.org/2000/svg\" height=\"24px\"viewBox=\"0 0 24 24\"\n",
              "       width=\"24px\">\n",
              "    <path d=\"M0 0h24v24H0V0z\" fill=\"none\"/>\n",
              "    <path d=\"M18.56 5.44l.94 2.06.94-2.06 2.06-.94-2.06-.94-.94-2.06-.94 2.06-2.06.94zm-11 1L8.5 8.5l.94-2.06 2.06-.94-2.06-.94L8.5 2.5l-.94 2.06-2.06.94zm10 10l.94 2.06.94-2.06 2.06-.94-2.06-.94-.94-2.06-.94 2.06-2.06.94z\"/><path d=\"M17.41 7.96l-1.37-1.37c-.4-.4-.92-.59-1.43-.59-.52 0-1.04.2-1.43.59L10.3 9.45l-7.72 7.72c-.78.78-.78 2.05 0 2.83L4 21.41c.39.39.9.59 1.41.59.51 0 1.02-.2 1.41-.59l7.78-7.78 2.81-2.81c.8-.78.8-2.07 0-2.86zM5.41 20L4 18.59l7.72-7.72 1.47 1.35L5.41 20z\"/>\n",
              "  </svg>\n",
              "      </button>\n",
              "      \n",
              "  <style>\n",
              "    .colab-df-container {\n",
              "      display:flex;\n",
              "      flex-wrap:wrap;\n",
              "      gap: 12px;\n",
              "    }\n",
              "\n",
              "    .colab-df-convert {\n",
              "      background-color: #E8F0FE;\n",
              "      border: none;\n",
              "      border-radius: 50%;\n",
              "      cursor: pointer;\n",
              "      display: none;\n",
              "      fill: #1967D2;\n",
              "      height: 32px;\n",
              "      padding: 0 0 0 0;\n",
              "      width: 32px;\n",
              "    }\n",
              "\n",
              "    .colab-df-convert:hover {\n",
              "      background-color: #E2EBFA;\n",
              "      box-shadow: 0px 1px 2px rgba(60, 64, 67, 0.3), 0px 1px 3px 1px rgba(60, 64, 67, 0.15);\n",
              "      fill: #174EA6;\n",
              "    }\n",
              "\n",
              "    [theme=dark] .colab-df-convert {\n",
              "      background-color: #3B4455;\n",
              "      fill: #D2E3FC;\n",
              "    }\n",
              "\n",
              "    [theme=dark] .colab-df-convert:hover {\n",
              "      background-color: #434B5C;\n",
              "      box-shadow: 0px 1px 3px 1px rgba(0, 0, 0, 0.15);\n",
              "      filter: drop-shadow(0px 1px 2px rgba(0, 0, 0, 0.3));\n",
              "      fill: #FFFFFF;\n",
              "    }\n",
              "  </style>\n",
              "\n",
              "      <script>\n",
              "        const buttonEl =\n",
              "          document.querySelector('#df-9713b6f9-4b17-4f51-b111-8cd9c01b3d14 button.colab-df-convert');\n",
              "        buttonEl.style.display =\n",
              "          google.colab.kernel.accessAllowed ? 'block' : 'none';\n",
              "\n",
              "        async function convertToInteractive(key) {\n",
              "          const element = document.querySelector('#df-9713b6f9-4b17-4f51-b111-8cd9c01b3d14');\n",
              "          const dataTable =\n",
              "            await google.colab.kernel.invokeFunction('convertToInteractive',\n",
              "                                                     [key], {});\n",
              "          if (!dataTable) return;\n",
              "\n",
              "          const docLinkHtml = 'Like what you see? Visit the ' +\n",
              "            '<a target=\"_blank\" href=https://colab.research.google.com/notebooks/data_table.ipynb>data table notebook</a>'\n",
              "            + ' to learn more about interactive tables.';\n",
              "          element.innerHTML = '';\n",
              "          dataTable['output_type'] = 'display_data';\n",
              "          await google.colab.output.renderOutput(dataTable, element);\n",
              "          const docLink = document.createElement('div');\n",
              "          docLink.innerHTML = docLinkHtml;\n",
              "          element.appendChild(docLink);\n",
              "        }\n",
              "      </script>\n",
              "    </div>\n",
              "  </div>\n",
              "  "
            ]
          },
          "metadata": {},
          "execution_count": 11
        }
      ]
    },
    {
      "cell_type": "code",
      "source": [
        "df.isnull().sum()"
      ],
      "metadata": {
        "colab": {
          "base_uri": "https://localhost:8080/"
        },
        "id": "P0nFlOZjOA6l",
        "outputId": "55491677-4c61-4fd1-bd41-3faed52381be"
      },
      "execution_count": null,
      "outputs": [
        {
          "output_type": "execute_result",
          "data": {
            "text/plain": [
              "age               0\n",
              "workclass         0\n",
              "fnlwgt            0\n",
              "education         0\n",
              "education-num     0\n",
              "marital-status    0\n",
              "occupation        0\n",
              "relationship      0\n",
              "race              0\n",
              "sex               0\n",
              "capital-gain      0\n",
              "capital-loss      0\n",
              "hours-per-week    0\n",
              "native-country    0\n",
              "income            0\n",
              "dtype: int64"
            ]
          },
          "metadata": {},
          "execution_count": 12
        }
      ]
    },
    {
      "cell_type": "markdown",
      "source": [
        "## Testing Dataset"
      ],
      "metadata": {
        "id": "KQ5NkdFfO0_T"
      }
    },
    {
      "cell_type": "markdown",
      "source": [
        "Missing data:"
      ],
      "metadata": {
        "id": "Eu0vE4pIO9-9"
      }
    },
    {
      "cell_type": "markdown",
      "source": [
        "\n",
        "\n",
        "*  There are no null data in any of the dataset columns.\n",
        "\n",
        "*  However, there are missing or wrong data in some columns indicated by the symbol '?'. \n",
        "\n"
      ],
      "metadata": {
        "id": "sSVySy0kO_uO"
      }
    },
    {
      "cell_type": "markdown",
      "source": [
        "This dataset will be only used in the testing step to evaluate the performance of the proposed ML models trained over the train dataset in the training step."
      ],
      "metadata": {
        "id": "EQWRo5aEPNf1"
      }
    },
    {
      "cell_type": "code",
      "source": [
        "df_test.describe()"
      ],
      "metadata": {
        "colab": {
          "base_uri": "https://localhost:8080/",
          "height": 300
        },
        "id": "07Qp78WNPSpc",
        "outputId": "97adc84d-6109-43aa-a50d-a0c34762686b"
      },
      "execution_count": null,
      "outputs": [
        {
          "output_type": "execute_result",
          "data": {
            "text/plain": [
              "                age        fnlwgt  education-num  capital-gain  capital-loss  \\\n",
              "count  16281.000000  1.628100e+04   16281.000000  16281.000000  16281.000000   \n",
              "mean      38.767459  1.894357e+05      10.072907   1081.905104     87.899269   \n",
              "std       13.849187  1.057149e+05       2.567545   7583.935968    403.105286   \n",
              "min       17.000000  1.349200e+04       1.000000      0.000000      0.000000   \n",
              "25%       28.000000  1.167360e+05       9.000000      0.000000      0.000000   \n",
              "50%       37.000000  1.778310e+05      10.000000      0.000000      0.000000   \n",
              "75%       48.000000  2.383840e+05      12.000000      0.000000      0.000000   \n",
              "max       90.000000  1.490400e+06      16.000000  99999.000000   3770.000000   \n",
              "\n",
              "       hours-per-week  \n",
              "count    16281.000000  \n",
              "mean        40.392236  \n",
              "std         12.479332  \n",
              "min          1.000000  \n",
              "25%         40.000000  \n",
              "50%         40.000000  \n",
              "75%         45.000000  \n",
              "max         99.000000  "
            ],
            "text/html": [
              "\n",
              "  <div id=\"df-77a2a0ed-32a7-4505-986e-8bfeff0eb1f9\">\n",
              "    <div class=\"colab-df-container\">\n",
              "      <div>\n",
              "<style scoped>\n",
              "    .dataframe tbody tr th:only-of-type {\n",
              "        vertical-align: middle;\n",
              "    }\n",
              "\n",
              "    .dataframe tbody tr th {\n",
              "        vertical-align: top;\n",
              "    }\n",
              "\n",
              "    .dataframe thead th {\n",
              "        text-align: right;\n",
              "    }\n",
              "</style>\n",
              "<table border=\"1\" class=\"dataframe\">\n",
              "  <thead>\n",
              "    <tr style=\"text-align: right;\">\n",
              "      <th></th>\n",
              "      <th>age</th>\n",
              "      <th>fnlwgt</th>\n",
              "      <th>education-num</th>\n",
              "      <th>capital-gain</th>\n",
              "      <th>capital-loss</th>\n",
              "      <th>hours-per-week</th>\n",
              "    </tr>\n",
              "  </thead>\n",
              "  <tbody>\n",
              "    <tr>\n",
              "      <th>count</th>\n",
              "      <td>16281.000000</td>\n",
              "      <td>1.628100e+04</td>\n",
              "      <td>16281.000000</td>\n",
              "      <td>16281.000000</td>\n",
              "      <td>16281.000000</td>\n",
              "      <td>16281.000000</td>\n",
              "    </tr>\n",
              "    <tr>\n",
              "      <th>mean</th>\n",
              "      <td>38.767459</td>\n",
              "      <td>1.894357e+05</td>\n",
              "      <td>10.072907</td>\n",
              "      <td>1081.905104</td>\n",
              "      <td>87.899269</td>\n",
              "      <td>40.392236</td>\n",
              "    </tr>\n",
              "    <tr>\n",
              "      <th>std</th>\n",
              "      <td>13.849187</td>\n",
              "      <td>1.057149e+05</td>\n",
              "      <td>2.567545</td>\n",
              "      <td>7583.935968</td>\n",
              "      <td>403.105286</td>\n",
              "      <td>12.479332</td>\n",
              "    </tr>\n",
              "    <tr>\n",
              "      <th>min</th>\n",
              "      <td>17.000000</td>\n",
              "      <td>1.349200e+04</td>\n",
              "      <td>1.000000</td>\n",
              "      <td>0.000000</td>\n",
              "      <td>0.000000</td>\n",
              "      <td>1.000000</td>\n",
              "    </tr>\n",
              "    <tr>\n",
              "      <th>25%</th>\n",
              "      <td>28.000000</td>\n",
              "      <td>1.167360e+05</td>\n",
              "      <td>9.000000</td>\n",
              "      <td>0.000000</td>\n",
              "      <td>0.000000</td>\n",
              "      <td>40.000000</td>\n",
              "    </tr>\n",
              "    <tr>\n",
              "      <th>50%</th>\n",
              "      <td>37.000000</td>\n",
              "      <td>1.778310e+05</td>\n",
              "      <td>10.000000</td>\n",
              "      <td>0.000000</td>\n",
              "      <td>0.000000</td>\n",
              "      <td>40.000000</td>\n",
              "    </tr>\n",
              "    <tr>\n",
              "      <th>75%</th>\n",
              "      <td>48.000000</td>\n",
              "      <td>2.383840e+05</td>\n",
              "      <td>12.000000</td>\n",
              "      <td>0.000000</td>\n",
              "      <td>0.000000</td>\n",
              "      <td>45.000000</td>\n",
              "    </tr>\n",
              "    <tr>\n",
              "      <th>max</th>\n",
              "      <td>90.000000</td>\n",
              "      <td>1.490400e+06</td>\n",
              "      <td>16.000000</td>\n",
              "      <td>99999.000000</td>\n",
              "      <td>3770.000000</td>\n",
              "      <td>99.000000</td>\n",
              "    </tr>\n",
              "  </tbody>\n",
              "</table>\n",
              "</div>\n",
              "      <button class=\"colab-df-convert\" onclick=\"convertToInteractive('df-77a2a0ed-32a7-4505-986e-8bfeff0eb1f9')\"\n",
              "              title=\"Convert this dataframe to an interactive table.\"\n",
              "              style=\"display:none;\">\n",
              "        \n",
              "  <svg xmlns=\"http://www.w3.org/2000/svg\" height=\"24px\"viewBox=\"0 0 24 24\"\n",
              "       width=\"24px\">\n",
              "    <path d=\"M0 0h24v24H0V0z\" fill=\"none\"/>\n",
              "    <path d=\"M18.56 5.44l.94 2.06.94-2.06 2.06-.94-2.06-.94-.94-2.06-.94 2.06-2.06.94zm-11 1L8.5 8.5l.94-2.06 2.06-.94-2.06-.94L8.5 2.5l-.94 2.06-2.06.94zm10 10l.94 2.06.94-2.06 2.06-.94-2.06-.94-.94-2.06-.94 2.06-2.06.94z\"/><path d=\"M17.41 7.96l-1.37-1.37c-.4-.4-.92-.59-1.43-.59-.52 0-1.04.2-1.43.59L10.3 9.45l-7.72 7.72c-.78.78-.78 2.05 0 2.83L4 21.41c.39.39.9.59 1.41.59.51 0 1.02-.2 1.41-.59l7.78-7.78 2.81-2.81c.8-.78.8-2.07 0-2.86zM5.41 20L4 18.59l7.72-7.72 1.47 1.35L5.41 20z\"/>\n",
              "  </svg>\n",
              "      </button>\n",
              "      \n",
              "  <style>\n",
              "    .colab-df-container {\n",
              "      display:flex;\n",
              "      flex-wrap:wrap;\n",
              "      gap: 12px;\n",
              "    }\n",
              "\n",
              "    .colab-df-convert {\n",
              "      background-color: #E8F0FE;\n",
              "      border: none;\n",
              "      border-radius: 50%;\n",
              "      cursor: pointer;\n",
              "      display: none;\n",
              "      fill: #1967D2;\n",
              "      height: 32px;\n",
              "      padding: 0 0 0 0;\n",
              "      width: 32px;\n",
              "    }\n",
              "\n",
              "    .colab-df-convert:hover {\n",
              "      background-color: #E2EBFA;\n",
              "      box-shadow: 0px 1px 2px rgba(60, 64, 67, 0.3), 0px 1px 3px 1px rgba(60, 64, 67, 0.15);\n",
              "      fill: #174EA6;\n",
              "    }\n",
              "\n",
              "    [theme=dark] .colab-df-convert {\n",
              "      background-color: #3B4455;\n",
              "      fill: #D2E3FC;\n",
              "    }\n",
              "\n",
              "    [theme=dark] .colab-df-convert:hover {\n",
              "      background-color: #434B5C;\n",
              "      box-shadow: 0px 1px 3px 1px rgba(0, 0, 0, 0.15);\n",
              "      filter: drop-shadow(0px 1px 2px rgba(0, 0, 0, 0.3));\n",
              "      fill: #FFFFFF;\n",
              "    }\n",
              "  </style>\n",
              "\n",
              "      <script>\n",
              "        const buttonEl =\n",
              "          document.querySelector('#df-77a2a0ed-32a7-4505-986e-8bfeff0eb1f9 button.colab-df-convert');\n",
              "        buttonEl.style.display =\n",
              "          google.colab.kernel.accessAllowed ? 'block' : 'none';\n",
              "\n",
              "        async function convertToInteractive(key) {\n",
              "          const element = document.querySelector('#df-77a2a0ed-32a7-4505-986e-8bfeff0eb1f9');\n",
              "          const dataTable =\n",
              "            await google.colab.kernel.invokeFunction('convertToInteractive',\n",
              "                                                     [key], {});\n",
              "          if (!dataTable) return;\n",
              "\n",
              "          const docLinkHtml = 'Like what you see? Visit the ' +\n",
              "            '<a target=\"_blank\" href=https://colab.research.google.com/notebooks/data_table.ipynb>data table notebook</a>'\n",
              "            + ' to learn more about interactive tables.';\n",
              "          element.innerHTML = '';\n",
              "          dataTable['output_type'] = 'display_data';\n",
              "          await google.colab.output.renderOutput(dataTable, element);\n",
              "          const docLink = document.createElement('div');\n",
              "          docLink.innerHTML = docLinkHtml;\n",
              "          element.appendChild(docLink);\n",
              "        }\n",
              "      </script>\n",
              "    </div>\n",
              "  </div>\n",
              "  "
            ]
          },
          "metadata": {},
          "execution_count": 13
        }
      ]
    },
    {
      "cell_type": "code",
      "source": [
        "df_test.isnull().sum()"
      ],
      "metadata": {
        "colab": {
          "base_uri": "https://localhost:8080/"
        },
        "id": "cFVN_9x7PUkG",
        "outputId": "c9324cdd-47c5-4081-89ab-8c82ab116b76"
      },
      "execution_count": null,
      "outputs": [
        {
          "output_type": "execute_result",
          "data": {
            "text/plain": [
              "age               0\n",
              "workclass         0\n",
              "fnlwgt            0\n",
              "education         0\n",
              "education-num     0\n",
              "marital-status    0\n",
              "occupation        0\n",
              "relationship      0\n",
              "race              0\n",
              "sex               0\n",
              "capital-gain      0\n",
              "capital-loss      0\n",
              "hours-per-week    0\n",
              "native-country    0\n",
              "income            0\n",
              "dtype: int64"
            ]
          },
          "metadata": {},
          "execution_count": 14
        }
      ]
    },
    {
      "cell_type": "markdown",
      "source": [
        "##    Feature analysis"
      ],
      "metadata": {
        "id": "IC2eI2ZoPfqM"
      }
    },
    {
      "cell_type": "markdown",
      "source": [
        "The analysis conducted in this block are performed on the training dataset, which will be used to fit the ML models."
      ],
      "metadata": {
        "id": "KEnTVjhUPoU-"
      }
    },
    {
      "cell_type": "markdown",
      "source": [
        "### Target feature **income**"
      ],
      "metadata": {
        "id": "N2GN2-L_P4Fg"
      }
    },
    {
      "cell_type": "markdown",
      "source": [
        "It defines whether a person makes over $50K a year (class >50K) or not (class <=50) based on census data."
      ],
      "metadata": {
        "id": "opqXNaeqQJjZ"
      }
    },
    {
      "cell_type": "code",
      "source": [
        "def categorical_feature_analysis(df, var_name):\n",
        "  ##var_name is the feature to be analyzed\n",
        "  print('Data values by class of feature %s:\\n%s\\n' % (var_name, df[var_name].value_counts(dropna=False))) #total feature values by category\n",
        "  print('Percentage of data values by class of feature %s:\\n%s\\n' % (var_name, df[var_name].value_counts(normalize=True, dropna=False))) #percentage of total feature values by category\n",
        "  print('Unique values of feature %s:\\n%s\\n'  % (var_name, df[var_name].unique())) #feature's unique values"
      ],
      "metadata": {
        "id": "Ji5TpOWgPZAm"
      },
      "execution_count": null,
      "outputs": []
    },
    {
      "cell_type": "code",
      "source": [
        "var='income'\n",
        "categorical_feature_analysis(df, var)"
      ],
      "metadata": {
        "colab": {
          "base_uri": "https://localhost:8080/"
        },
        "id": "OHYsX29wVelG",
        "outputId": "b6eb540a-a379-4692-f458-73e0d8995872"
      },
      "execution_count": null,
      "outputs": [
        {
          "output_type": "stream",
          "name": "stdout",
          "text": [
            "Data values by class of feature income:\n",
            " <=50K    24720\n",
            " >50K      7841\n",
            "Name: income, dtype: int64\n",
            "\n",
            "Percentage of data values by class of feature income:\n",
            " <=50K    0.75919\n",
            " >50K     0.24081\n",
            "Name: income, dtype: float64\n",
            "\n",
            "Unique values of feature income:\n",
            "[' <=50K' ' >50K']\n",
            "\n"
          ]
        }
      ]
    },
    {
      "cell_type": "code",
      "source": [
        "##plot distribution\n",
        "plt.figure(figsize=(10,6))\n",
        "plt.title(\"Income above 50K vs below 50K\", fontsize=20)\n",
        "ax = sns.countplot(x='income', data=df)\n"
      ],
      "metadata": {
        "colab": {
          "base_uri": "https://localhost:8080/",
          "height": 409
        },
        "id": "ZE86FQMMQ86n",
        "outputId": "ee57689f-196d-4b05-844f-8f38b3847a98"
      },
      "execution_count": null,
      "outputs": [
        {
          "output_type": "display_data",
          "data": {
            "text/plain": [
              "<Figure size 720x432 with 1 Axes>"
            ],
            "image/png": "[encoded data removed]"
          },
          "metadata": {
            "needs_background": "light"
          }
        }
      ]
    },
    {
      "cell_type": "markdown",
      "source": [
        "\n",
        "\n",
        "*   Unbalanced data values, where 76% (24720) of people make less or equal to  a year, and 24% (7841) of people make over  a year.\n",
        "\n",
        "*     Such imbalance might be caused by specific features that tend to influence the increase/decrease the annual income more significantly. For example, feature age may reflect on work experience and seniority of the position."
      ],
      "metadata": {
        "id": "SXJXUqmSSjyT"
      }
    },
    {
      "cell_type": "code",
      "source": [
        "def continuous_feature_analysis(df, var_name):\n",
        "  ##var_name is the feature to be analyzed\n",
        "  print('Distribution of data values of feature %s:\\n%s\\n' % (var_name, df[var_name].value_counts(dropna=False))) #distribution of feature values\n",
        "  print('Percentage of data distribution of feature %s:\\n%s\\n' % (var_name, df[var_name].value_counts(normalize=True, dropna=False))) #percentage of distribution of feature values\n",
        "  print('Unique values of feature %s (sorted) (%i):\\n%s\\n'  % (var_name, len(df[var_name].unique()), sorted(df[var_name].unique()))) #feature's unique values\n",
        "  print('Total unique values of feature %s: %i\\n'  % (var_name, len(df[var_name].unique()))) #feature's unique values\n",
        "  display(df[var].describe())"
      ],
      "metadata": {
        "id": "w8hYcOqfUAoY"
      },
      "execution_count": null,
      "outputs": []
    },
    {
      "cell_type": "markdown",
      "source": [
        "### Feature **age**"
      ],
      "metadata": {
        "id": "Z6Hw8CamYCYg"
      }
    },
    {
      "cell_type": "code",
      "source": [
        "var='age'\n",
        "continuous_feature_analysis(df, var)"
      ],
      "metadata": {
        "colab": {
          "base_uri": "https://localhost:8080/",
          "height": 766
        },
        "id": "zsBA-jAbVV-O",
        "outputId": "bd3e9d9f-652b-4035-8a77-2204b34c411d"
      },
      "execution_count": null,
      "outputs": [
        {
          "output_type": "stream",
          "name": "stdout",
          "text": [
            "Distribution of data values of feature age:\n",
            "36    898\n",
            "31    888\n",
            "34    886\n",
            "23    877\n",
            "35    876\n",
            "     ... \n",
            "83      6\n",
            "88      3\n",
            "85      3\n",
            "86      1\n",
            "87      1\n",
            "Name: age, Length: 73, dtype: int64\n",
            "\n",
            "Percentage of data distribution of feature age:\n",
            "36    0.027579\n",
            "31    0.027272\n",
            "34    0.027210\n",
            "23    0.026934\n",
            "35    0.026903\n",
            "        ...   \n",
            "83    0.000184\n",
            "88    0.000092\n",
            "85    0.000092\n",
            "86    0.000031\n",
            "87    0.000031\n",
            "Name: age, Length: 73, dtype: float64\n",
            "\n",
            "Unique values of feature age (sorted) (73):\n",
            "[17, 18, 19, 20, 21, 22, 23, 24, 25, 26, 27, 28, 29, 30, 31, 32, 33, 34, 35, 36, 37, 38, 39, 40, 41, 42, 43, 44, 45, 46, 47, 48, 49, 50, 51, 52, 53, 54, 55, 56, 57, 58, 59, 60, 61, 62, 63, 64, 65, 66, 67, 68, 69, 70, 71, 72, 73, 74, 75, 76, 77, 78, 79, 80, 81, 82, 83, 84, 85, 86, 87, 88, 90]\n",
            "\n",
            "Total unique values of feature age: 73\n",
            "\n"
          ]
        },
        {
          "output_type": "display_data",
          "data": {
            "text/plain": [
              "count    32561.000000\n",
              "mean        38.581647\n",
              "std         13.640433\n",
              "min         17.000000\n",
              "25%         28.000000\n",
              "50%         37.000000\n",
              "75%         48.000000\n",
              "max         90.000000\n",
              "Name: age, dtype: float64"
            ]
          },
          "metadata": {}
        }
      ]
    },
    {
      "cell_type": "code",
      "source": [
        "ax=df[var].hist(bins=50)\n",
        "ax.set_title('Data distribution of feature '+var)\n",
        "ax.set_ylabel('Number of People')\n",
        "ax.set_xlabel('Age')\n",
        "plt.show()\n",
        "\n",
        "sns.boxplot(y='age', x='income', data=df)\n",
        "plt.show()"
      ],
      "metadata": {
        "colab": {
          "base_uri": "https://localhost:8080/",
          "height": 993
        },
        "id": "dVvYpTj8RF3U",
        "outputId": "03e909c8-0b82-4311-a6bc-d4c2e8b964b8"
      },
      "execution_count": null,
      "outputs": [
        {
          "output_type": "display_data",
          "data": {
            "text/plain": [
              "<Figure size 720x576 with 1 Axes>"
            ],
            "image/png": "[encoded data removed]"
          },
          "metadata": {
            "needs_background": "light"
          }
        },
        {
          "output_type": "display_data",
          "data": {
            "text/plain": [
              "<Figure size 720x576 with 1 Axes>"
            ],
            "image/png": "[encoded data removed]"
          },
          "metadata": {
            "needs_background": "light"
          }
        }
      ]
    },
    {
      "cell_type": "markdown",
      "source": [
        "*   Numerical feature with values ranging from 17 to 90 years.\n",
        "*   Unbalanced data distribuiton, with greater concentration of people aged between 28 and 48 years.\n",
        "*   Age values present an average of 38.58 years and median of 37 years.\n",
        "*   25% of people are under 28 years old and 75% of people have less than 48 years old.\n",
        "*   Regarding the relationship between ages and incomes, we note that older   people tend to make over $50k a year, whereas younger people tend to make less or equal to $50k"
      ],
      "metadata": {
        "id": "DUUj5nadYRKV"
      }
    },
    {
      "cell_type": "markdown",
      "source": [
        "###  Feature **fnlwgt**\n",
        "It represents the estimated final weight of each person assigned by the Census Bureau. The weight means that if two samples share similar fnlwgt, they also share similar characteristics."
      ],
      "metadata": {
        "id": "zjBJo3dIZyjR"
      }
    },
    {
      "cell_type": "code",
      "source": [
        "var='fnlwgt'\n",
        "continuous_feature_analysis(df, var)"
      ],
      "metadata": {
        "colab": {
          "base_uri": "https://localhost:8080/",
          "height": 766
        },
        "id": "qTGFCBGrRwLD",
        "outputId": "c0bc7c8c-3d0e-4b08-ea8d-01fdff0ca657"
      },
      "execution_count": null,
      "outputs": [
        {
          "output_type": "stream",
          "name": "stdout",
          "text": [
            "Distribution of data values of feature fnlwgt:\n",
            "164190    13\n",
            "203488    13\n",
            "123011    13\n",
            "148995    12\n",
            "121124    12\n",
            "          ..\n",
            "232784     1\n",
            "325573     1\n",
            "140176     1\n",
            "318264     1\n",
            "257302     1\n",
            "Name: fnlwgt, Length: 21648, dtype: int64\n",
            "\n",
            "Percentage of data distribution of feature fnlwgt:\n",
            "164190    0.000399\n",
            "203488    0.000399\n",
            "123011    0.000399\n",
            "148995    0.000369\n",
            "121124    0.000369\n",
            "            ...   \n",
            "232784    0.000031\n",
            "325573    0.000031\n",
            "140176    0.000031\n",
            "318264    0.000031\n",
            "257302    0.000031\n",
            "Name: fnlwgt, Length: 21648, dtype: float64\n",
            "\n",
            "Unique values of feature fnlwgt (sorted) (21648):\n",
            "[12285, 13769, 14878, 18827, 19214, 19302, 19395, 19410, 19491, 19520, 19700, 19752, 19793, 19847, 19899, 19914, 20057, 20098, 20101, 20109, 20179, 20296, 20308, 20323, 20333, 20438, 20469, 20507, 20511, 20534, 20676, 20728, 20795, 20809, 20953, 20956, 21095, 21101, 21154, 21174, 21306, 21472, 21626, 21698, 21792, 21856, 21876, 21906, 22042, 22055, 22154, 22155, 22186, 22201, 22211, 22245, 22313, 22328, 22418, 22422, 22428, 22463, 22494, 22546, 22641, 22743, 22831, 22900, 22907, 22966, 22978, 23037, 23074, 23157, 23233, 23324, 23438, 23494, 23510, 23545, 23580, 23621, 23646, 23686, 23698, 23740, 23776, 23778, 23780, 23789, 23813, 23871, 23892, 23940, 24008, 24013, 24046, 24050, 24090, 24106, 24108, 24127, 24139, 24153, 24185, 24215, 24243, 24264, 24266, 24292, 24342, 24344, 24364, 24384, 24395, 24473, 24504, 24515, 24529, 24562, 24647, 24694, 24712, 24721, 24723, 24728, 24763, 24790, 24824, 24872, 24896, 24961, 24967, 24982, 25005, 25031, 25045, 25051, 25124, 25139, 25141, 25216, 25240, 25249, 25265, 25319, 25322, 25386, 25429, 25468, 25497, 25505, 25610, 25631, 25649, 25684, 25690, 25803, 25825, 25826, 25828, 25837, 25864, 25932, 25955, 26009, 26109, 26145, 26248, 26254, 26290, 26358, 26401, 26410, 26451, 26490, 26502, 26522, 26543, 26553, 26598, 26620, 26669, 26671, 26672, 26683, 26698, 26716, 26721, 26756, 26781, 26803, 26832, 26842, 26857, 26865, 26880, 26892, 26898, 26904, 26911, 26915, 26929, 26950, 26966, 26973, 26987, 26990, 26994, 26999, 27012, 27032, 27037, 27044, 27049, 27051, 27053, 27067, 27142, 27153, 27162, 27166, 27184, 27187, 27207, 27242, 27243, 27255, 27305, 27332, 27337, 27380, 27382, 27385, 27408, 27409, 27411, 27415, 27432, 27433, 27444, 27466, 27484, 27494, 27539, 27620, 27624, 27653, 27661, 27669, 27678, 27763, 27766, 27776, 27780, 27802, 27815, 27821, 27834, 27856, 27882, 27886, 27920, 27937, 27939, 27956, 27959, 27979, 27997, 28008, 28031, 28035, 28053, 28061, 28119, 28145, 28151, 28160, 28186, 28197, 28221, 28225, 28281, 28291, 28311, 28334, 28357, 28359, 28366, 28367, 28375, 28419, 28443, 28451, 28455, 28471, 28473, 28497, 28518, 28520, 28568, 28572, 28612, 28648, 28678, 28683, 28729, 28735, 28738, 28765, 28790, 28791, 28848, 28856, 28887, 28929, 28952, 28967, 28984, 28996, 29020, 29036, 29054, 29059, 29075, 29083, 29115, 29145, 29152, 29174, 29231, 29235, 29240, 29250, 29254, 29261, 29276, 29302, 29306, 29312, 29320, 29324, 29361, 29375, 29393, 29430, 29431, 29437, 29441, 29444, 29510, 29522, 29523, 29526, 29557, 29571, 29580, 29582, 29591, 29599, 29616, 29617, 29623, 29658, 29662, 29675, 29696, 29702, 29732, 29762, 29778, 29798, 29807, 29810, 29814, 29819, 29825, 29828, 29841, 29859, 29865, 29866, 29874, 29887, 29904, 29909, 29927, 29928, 29933, 29957, 29962, 29974, 29980, 29984, 30008, 30030, 30035, 30039, 30063, 30069, 30070, 30073, 30111, 30118, 30126, 30219, 30226, 30237, 30244, 30246, 30267, 30269, 30270, 30271, 30289, 30290, 30381, 30424, 30433, 30447, 30457, 30475, 30497, 30499, 30509, 30529, 30559, 30565, 30575, 30599, 30602, 30619, 30653, 30656, 30664, 30673, 30682, 30687, 30713, 30731, 30751, 30759, 30771, 30793, 30796, 30800, 30813, 30824, 30840, 30908, 30912, 30916, 30973, 31007, 31008, 31014, 31023, 31033, 31053, 31069, 31095, 31102, 31137, 31141, 31143, 31161, 31166, 31195, 31221, 31251, 31264, 31267, 31269, 31290, 31339, 31350, 31352, 31359, 31360, 31362, 31365, 31368, 31387, 31389, 31391, 31428, 31432, 31438, 31449, 31460, 31478, 31481, 31493, 31510, 31532, 31533, 31573, 31577, 31588, 31600, 31603, 31606, 31621, 31627, 31650, 31659, 31670, 31703, 31717, 31725, 31728, 31732, 31740, 31757, 31778, 31782, 31801, 31807, 31826, 31838, 31840, 31842, 31848, 31873, 31905, 31924, 31935, 31964, 31965, 31983, 31985, 31993, 32000, 32008, 32016, 32059, 32121, 32124, 32126, 32146, 32172, 32185, 32186, 32212, 32214, 32220, 32239, 32244, 32271, 32275, 32276, 32280, 32287, 32291, 32311, 32312, 32316, 32334, 32356, 32365, 32372, 32385, 32406, 32423, 32426, 32446, 32451, 32477, 32509, 32519, 32528, 32533, 32537, 32546, 32550, 32552, 32587, 32604, 32607, 32616, 32627, 32639, 32650, 32668, 32694, 32709, 32732, 32763, 32776, 32778, 32779, 32801, 32825, 32837, 32855, 32878, 32896, 32897, 32916, 32921, 32922, 32950, 32954, 32958, 32981, 33001, 33002, 33016, 33035, 33068, 33087, 33088, 33105, 33109, 33114, 33117, 33121, 33124, 33126, 33138, 33142, 33155, 33186, 33213, 33221, 33234, 33266, 33274, 33300, 33304, 33308, 33309, 33310, 33315, 33323, 33331, 33339, 33350, 33355, 33363, 33365, 33373, 33374, 33394, 33397, 33404, 33417, 33423, 33429, 33432, 33442, 33487, 33521, 33551, 33608, 33610, 33616, 33619, 33644, 33658, 33662, 33669, 33673, 33678, 33688, 33710, 33717, 33725, 33727, 33729, 33794, 33795, 33798, 33811, 33831, 33842, 33863, 33865, 33884, 33886, 33887, 33895, 33939, 33945, 33975, 33983, 34007, 34019, 34021, 34028, 34029, 34037, 34066, 34067, 34080, 34088, 34091, 34098, 34100, 34102, 34104, 34110, 34112, 34113, 34122, 34125, 34127, 34146, 34161, 34173, 34178, 34180, 34186, 34218, 34233, 34246, 34248, 34269, 34273, 34278, 34292, 34297, 34307, 34310, 34321, 34335, 34339, 34340, 34361, 34364, 34368, 34374, 34377, 34378, 34383, 34393, 34402, 34419, 34437, 34443, 34446, 34452, 34458, 34503, 34506, 34532, 34540, 34541, 34545, 34568, 34572, 34574, 34590, 34616, 34626, 34632, 34640, 34701, 34706, 34722, 34744, 34747, 34748, 34788, 34796, 34803, 34816, 34832, 34845, 34848, 34862, 34878, 34918, 34935, 34965, 34973, 34975, 34987, 34996, 34998, 35001, 35015, 35021, 35032, 35034, 35065, 35092, 35102, 35136, 35166, 35210, 35211, 35224, 35236, 35245, 35295, 35303, 35305, 35309, 35330, 35340, 35373, 35378, 35406, 35411, 35424, 35429, 35448, 35459, 35494, 35507, 35520, 35523, 35551, 35557, 35561, 35576, 35595, 35598, 35603, 35626, 35633, 35644, 35649, 35662, 35663, 35683, 35723, 35724, 35783, 35824, 35829, 35854, 35865, 35884, 35890, 35910, 35917, 35945, 35961, 35969, 36006, 36011, 36012, 36020, 36032, 36039, 36058, 36069, 36077, 36135, 36162, 36169, 36177, 36186, 36201, 36209, 36214, 36218, 36228, 36235, 36243, 36251, 36270, 36271, 36275, 36302, 36311, 36325, 36327, 36340, 36348, 36364, 36376, 36383, 36385, 36397, 36411, 36423, 36425, 36440, 36467, 36480, 36489, 36503, 36539, 36592, 36601, 36635, 36651, 36671, 36699, 36851, 36876, 36877, 36882, 36885, 36924, 36936, 36956, 36960, 36984, 36989, 36990, 36999, 37019, 37023, 37028, 37030, 37070, 37072, 37085, 37088, 37092, 37109, 37170, 37202, 37203, 37210, 37215, 37232, 37237, 37238, 37250, 37274, 37289, 37302, 37306, 37314, 37331, 37332, 37345, 37353, 37359, 37379, 37380, 37394, 37402, 37438, 37440, 37482, 37546, 37591, 37599, 37618, 37646, 37672, 37676, 37683, 37720, 37741, 37745, 37754, 37778, 37783, 37792, 37821, 37848, 37869, 37894, 37913, 37918, 37931, 37932, 37933, 37937, 37939, 37987, 37997, 38001, 38079, 38090, 38151, 38158, 38223, 38232, 38238, 38240, 38245, 38251, 38294, 38307, 38309, 38310, 38312, 38317, 38352, 38353, 38360, 38397, 38434, 38455, 38468, 38472, 38488, 38537, 38563, 38573, 38599, 38606, 38611, 38619, 38620, 38621, 38622, 38645, 38707, 38721, 38771, 38772, 38795, 38797, 38819, 38822, 38848, 38876, 38905, 38918, 38948, 38950, 38973, 39014, 39026, 39054, 39060, 39089, 39092, 39100, 39110, 39150, 39181, 39182, 39207, 39212, 39222, 39223, 39232, 39234, 39236, 39239, 39324, 39352, 39363, 39369, 39380, 39386, 39388, 39411, 39432, 39460, 39464, 39477, 39478, 39484, 39493, 39529, 39530, 39539, 39581, 39586, 39603, 39606, 39609, 39610, 39615, 39630, 39640, 39643, 39665, 39756, 39764, 39803, 39815, 39824, 39827, 39844, 39890, 39901, 39927, 39943, 39952, 39986, 40000, 40021, 40024, 40052, 40060, 40067, 40077, 40083, 40135, 40142, 40151, 40200, 40269, 40293, 40295, 40319, 40338, 40388, 40425, 40444, 40512, 40623, 40641, 40666, 40681, 40690, 40767, 40808, 40822, 40829, 40856, 40915, 40925, 40955, 40956, 41013, 41017, 41031, 41035, 41090, 41099, 41103, 41107, 41108, 41161, 41183, 41258, 41281, 41356, 41374, 41381, 41400, 41419, 41432, 41474, 41490, 41493, 41496, 41504, 41506, 41517, 41521, 41526, 41553, 41591, 41609, 41610, 41624, 41643, 41718, 41721, 41745, 41762, 41763, 41777, 41793, 41794, 41806, 41809, 41834, 41837, 41838, 41865, 41890, 41901, 41938, 41973, 41979, 42003, 42004, 42017, 42044, 42069, 42186, 42209, 42251, 42279, 42293, 42298, 42346, 42401, 42402, 42435, 42476, 42485, 42563, 42596, 42617, 42645, 42696, 42703, 42706, 42734, 42750, 42857, 42881, 42900, 42907, 42924, 42938, 42959, 42972, 42984, 43003, 43206, 43221, 43235, 43269, 43272, 43280, 43285, 43313, 43323, 43348, 43354, 43387, 43403, 43408, 43434, 43475, 43479, 43535, 43554, 43587, 43599, 43646, 43652, 43701, 43702, 43705, 43711, 43712, 43716, 43738, 43739, 43764, 43770, 43819, 43887, 43909, 43910, 43937, 43945, 43952, 43953, 43959, 44000, 44006, 44064, 44075, 44116, 44121, 44172, 44216, 44246, 44257, 44273, 44308, 44363, 44364, 44368, 44392, 44402, 44419, 44434, 44464, 44489, 44503, 44566, 44671, 44675, 44677, 44694, 44706, 44728, 44738, 44767, 44774, 44777, 44780, 44791, 44793, 44797, 44822, 44861, 44915, 44921, 45054, 45093, 45114, 45156, 45288, 45316, 45317, 45334, 45363, 45366, 45381, 45427, 45474, 45487, 45508, 45522, 45537, 45546, 45554, 45564, 45599, 45604, 45607, 45612, 45613, 45643, 45687, 45713, 45766, 45781, 45784, 45796, 45801, 45814, 45817, 45834, 45857, 45869, 45891, 45912, 45937, 45961, 46028, 46044, 46087, 46094, 46097, 46144, 46155, 46162, 46221, 46247, 46281, 46366, 46385, 46400, 46401, 46402, 46406, 46442, 46466, 46496, 46514, 46537, 46561, 46609, 46645, 46677, 46691, 46699, 46704, 46706, 46712, 46746, 46786, 46788, 46807, 46814, 46857, 46868, 46870, 46907, 46987, 46990, 47011, 47022, 47085, 47086, 47151, 47168, 47170, 47176, 47199, 47247, 47261, 47276, 47296, 47298, 47310, 47314, 47343, 47353, 47358, 47392, 47396, 47407, 47415, 47425, 47429, 47462, 47496, 47541, 47570, 47577, 47619, 47678, 47686, 47707, 47713, 47771, 47783, 47791, 47818, 47857, 47858, 47871, 47902, 47907, 47929, 47932, 48010, 48014, 48055, 48063, 48087, 48093, 48099, 48102, 48120, 48121, 48123, 48189, 48193, 48211, 48214, 48268, 48271, 48280, 48301, 48343, 48347, 48358, 48393, 48404, 48413, 48433, 48458, 48495, 48520, 48542, 48588, 48610, 48612, 48641, 48702, 48703, 48718, 48751, 48779, 48788, 48829, 48859, 48882, 48885, 48894, 48895, 48915, 48925, 48935, 48947, 48972, 48976, 48988, 48997, 49017, 49020, 49069, 49087, 49092, 49115, 49156, 49179, 49194, 49218, 49243, 49249, 49278, 49296, 49298, 49308, 49325, 49352, 49398, 49401, 49436, 49469, 49572, 49593, 49595, 49626, 49654, 49657, 49707, 49715, 49737, 49749, 49795, 49797, 49837, 49884, 49893, 49923, 49996, 50018, 50028, 50048, 50053, 50058, 50065, 50093, 50096, 50103, 50122, 50132, 50136, 50163, 50164, 50171, 50178, 50197, 50223, 50248, 50276, 50282, 50295, 50341, 50349, 50351, 50356, 50385, 50397, 50400, 50402, 50411, 50442, 50459, 50468, 50474, 50483, 50512, 50567, 50644, 50646, 50648, 50649, 50700, 50748, 50791, 50814, 50837, 50862, 50879, 50880, 50929, 50953, 50990, 51008, 51016, 51025, 51047, 51048, 51089, 51100, 51111, 51136, 51150, 51151, 51158, 51164, 51170, 51201, 51255, 51259, 51262, 51264, 51271, 51290, 51331, 51362, 51385, 51424, 51461, 51471, 51498, 51499, 51506, 51543, 51574, 51579, 51618, 51620, 51662, 51664, 51672, 51744, 51789, 51795, 51799, 51816, 51835, 51838, 51939, 51944, 51961, 51973, 51985, 52028, 52037, 52052, 52114, 52138, 52144, 52152, 52156, 52171, 52187, 52199, 52221, 52240, 52242, 52262, 52267, 52291, 52322, 52327, 52372, 52386, 52465, 52486, 52498, 52532, 52536, 52537, 52565, 52566, 52590, 52596, 52603, 52634, 52636, 52645, 52647, 52728, 52738, 52753, 52781, 52795, 52822, 52849, 52870, 52888, 52900, 52921, 52953, 52963, 52967, 52978, 53042, 53063, 53109, 53123, 53135, 53147, 53158, 53181, 53197, 53206, 53209, 53220, 53245, 53260, 53271, 53277, 53285, 53304, 53306, 53366, 53367, 53373, 53407, 53434, 53447, 53481, 53497, 53498, 53506, 53513, 53524, 53566, 53569, 53588, 53598, 53606, 53611, 53628, 53642, 53684, 53707, 53727, 53738, 53812, 53833, 53835, 53838, 53850, 53878, 53893, 53903, 53926, 53930, 53942, 53956, 54012, 54042, 54052, 54098, 54102, 54131, 54152, 54159, 54190, 54202, 54229, 54243, 54257, 54260, 54261, 54310, 54317, 54318, 54334, 54342, 54373, 54377, 54411, 54440, 54472, 54507, 54560, 54566, 54576, 54595, 54608, 54611, 54683, 54684, 54709, 54732, 54744, 54759, 54772, 54782, 54800, 54816, 54825, 54826, 54849, 54850, 54851, 54878, 54887, 54929, 54932, 54933, 54947, 54953, 54985, 55076, 55139, 55176, 55191, 55213, 55215, 55233, 55237, 55272, 55284, 55291, 55294, 55360, 55363, 55377, 55390, 55395, 55424, 55465, 55481, 55492, 55500, 55507, 55508, 55527, 55568, 55621, 55636, 55658, 55674, 55699, 55717, 55718, 55720, 55743, 55764, 55849, 55854, 55860, 55861, 55863, 55890, 55921, 55929, 55938, 55950, 55965, 56004, 56009, 56026, 56063, 56072, 56118, 56121, 56150, 56179, 56201, 56236, 56248, 56269, 56322, 56328, 56331, 56340, 56352, 56392, 56402, 56424, 56460, 56480, 56482, 56483, 56510, 56520, 56536, 56559, 56582, 56613, 56630, 56645, 56648, 56651, 56658, 56701, 56774, 56795, 56841, 56870, 56883, 56904, 56915, 56920, 56929, 56964, 56975, 56986, 57052, 57066, 57067, 57071, 57101, 57108, 57145, 57206, 57211, 57216, 57233, 57298, 57322, 57324, 57329, 57413, 57423, 57424, 57426, 57452, 57512, 57534, 57596, 57600, 57635, 57640, 57651, 57665, 57674, 57698, 57711, 57723, 57758, 57781, 57827, 57889, 57898, 57914, 57916, 57924, 57929, 57951, 57957, 57970, 58039, 58065, 58098, 58108, 58115, 58124, 58126, 58213, 58222, 58305, 58337, 58343, 58359, 58371, 58426, 58441, 58447, 58484, 58522, 58582, 58597, 58602, 58624, 58654, 58683, 58702, 58740, 58744, 58798, 58880, 58898, 58913, 58916, 58930, 58972, 58985, 59068, 59083, 59107, 59145, 59146, 59184, 59202, 59231, 59287, 59306, 59313, 59335, 59342, 59367, 59380, 59460, 59469, 59474, 59496, 59583, 59590, 59612, 59660, 59732, 59767, 59829, 59924, 59932, 59938, 59944, 59948, 59951, 59969, 60001, 60116, 60135, 60166, 60186, 60193, 60227, 60229, 60267, 60269, 60288, 60313, 60331, 60355, 60358, 60367, 60374, 60409, 60412, 60414, 60426, 60485, 60552, 60562, 60567, 60639, 60641, 60661, 60668, 60688, 60722, 60726, 60735, 60751, 60772, 60783, 60828, 60847, 60890, 60940, 60949, 60981, 61040, 61178, 61270, 61272, 61298, 61299, 61307, 61308, 61343, 61387, 61431, 61435, 61474, 61487, 61499, 61518, 61559, 61580, 61603, 61708, 61735, 61737, 61743, 61751, 61761, 61777, 61778, 61838, 61850, 61855, 61885, 61892, 61898, 61956, 61958, 61985, 62020, 62026, 62124, 62155, 62165, 62176, 62258, 62272, 62278, 62333, 62339, 62346, 62374, 62396, 62438, 62463, 62507, 62534, 62535, 62539, 62546, 62605, 62669, 62737, 62793, 62857, 62865, 62932, 62952, 62972, 63000, 63004, 63021, 63042, 63062, 63079, 63105, 63184, 63210, 63296, 63299, 63363, 63424, 63434, 63437, 63466, 63503, 63509, 63526, 63552, 63564, 63574, 63577, 63596, 63665, 63676, 63685, 63704, 63734, 63745, 63814, 63861, 63899, 63910, 63918, 63921, 63996, 64045, 64048, 64101, 64102, 64112, 64148, 64167, 64216, 64289, 64292, 64293, 64307, 64322, 64379, 64448, 64479, 64506, 64520, 64544, 64631, 64632, 64643, 64667, 64671, 64785, 64830, 64860, 64874, 64875, 64879, 64885, 64922, 64940, 64960, 64980, 65027, 65038, 65078, 65080, 65087, 65145, 65160, 65171, 65225, 65278, 65291, 65308, 65324, 65325, 65353, 65368, 65372, 65382, 65389, 65390, 65408, 65466, 65475, 65481, 65535, 65545, 65547, 65624, 65704, 65706, 65716, 65730, 65738, 65743, 65866, 65868, 65876, 65920, 65950, 65991, 66006, 66008, 66095, 66118, 66173, 66194, 66278, 66297, 66304, 66309, 66326, 66356, 66360, 66385, 66434, 66460, 66473, 66504, 66614, 66622, 66624, 66632, 66634, 66638, 66686, 66695, 66755, 66777, 66815, 66824, 66838, 66872, 66917, 66935, 67001, 67006, 67053, 67065, 67072, 67083, 67090, 67125, 67136, 67153, 67187, 67217, 67218, 67222, 67234, 67240, 67257, 67317, 67320, 67339, 67365, 67386, 67433, 67450, 67467, 67482, 67544, 67586, 67661, 67662, 67671, 67716, 67725, 67728, 67759, 67791, 67793, 67794, 67804, 67808, 67841, 67852, 67903, 67929, 67958, 68001, 68006, 68015, 68021, 68037, 68089, 68219, 68268, 68273, 68318, 68330, 68358, 68393, 68461, 68469, 68493, 68505, 68539, 68552, 68577, 68624, 68642, 68658, 68678, 68684, 68729, 68748, 68781, 68830, 68848, 68872, 68882, 68895, 68898, 68899, 68954, 68982, 68985, 68991, 69019, 69045, 69056, 69107, 69132, 69151, 69182, 69209, 69249, 69251, 69285, 69306, 69311, 69328, 69333, 69345, 69413, 69481, 69491, 69525, 69579, 69586, 69614, 69621, 69640, 69727, 69739, 69748, 69757, 69758, 69770, 69847, 69867, 69884, 69911, 69927, 70034, 70037, 70055, 70076, 70088, 70092, 70100, 70164, 70209, 70240, 70261, 70282, 70377, 70387, 70447, 70466, 70539, 70562, 70568, 70604, 70617, 70623, 70645, 70655, 70657, 70668, 70697, 70708, 70720, 70754, 70761, 70767, 70868, 70884, 70894, 70919, 70943, 70982, 70985, 70995, 71009, 71046, 71067, 71075, 71076, 71151, 71195, 71209, 71221, 71269, 71305, 71344, 71351, 71367, 71379, 71417, 71438, 71458, 71467, 71469, 71475, 71489, 71540, 71556, 71592, 71630, 71650, 71676, 71683, 71701, 71733, 71738, 71751, 71768, 71772, 71788, 71792, 71800, 71823, 71860, 71864, 71898, 72119, 72143, 72208, 72257, 72310, 72321, 72333, 72338, 72351, 72355, 72393, 72436, 72442, 72443, 72486, 72506, 72593, 72594, 72619, 72630, 72743, 72744, 72791, 72793, 72812, 72844, 72880, 72886, 72887, 72896, 72931, 72953, 72998, 73009, 73019, 73023, 73025, 73037, 73051, 73054, 73064, 73091, 73134, 73145, 73161, 73190, 73199, 73203, 73211, 73266, 73289, 73292, 73296, 73309, 73312, 73338, 73392, 73394, 73411, 73431, 73434, 73471, 73493, 73498, 73514, 73541, 73559, 73585, 73587, 73621, 73670, 73679, 73684, 73689, 73715, 73746, 73773, 73796, 73809, 73839, 73883, 73895, 73928, 73986, 74024, 74040, 74054, 74056, 74141, 74156, 74160, 74163, 74182, 74194, 74243, 74275, 74305, 74334, 74335, 74500, 74501, 74538, 74539, 74568, 74581, 74593, 74631, 74660, 74680, 74712, 74775, 74784, 74791, 74795, 74879, 74883, 74895, 74949, 74966, 74977, 75012, 75024, 75050, 75065, 75073, 75104, 75134, 75167, 75214, 75227, 75235, 75256, 75313, 75333, 75363, 75409, 75435, 75472, 75478, 75573, 75577, 75648, 75654, 75673, 75695, 75726, 75742, 75755, 75759, 75763, 75785, 75804, 75821, 75826, 75839, 75855, 75867, 75890, 75891, 75913, 75993, 75995, 76008, 76017, 76034, 76043, 76107, 76127, 76129, 76131, 76142, 76144, 76196, 76198, 76212, 76280, 76281, 76313, 76317, 76344, 76371, 76417, 76432, 76437, 76460, 76482, 76487, 76491, 76612, 76625, 76641, 76714, 76720, 76767, 76773, 76845, 76855, 76860, 76878, 76893, 76900, 76901, 76939, 76968, 76978, 76996, 77005, 77009, 77053, 77071, 77085, 77102, 77132, 77143, 77146, 77207, 77209, 77219, 77247, 77253, 77266, 77271, 77313, 77332, 77336, 77357, 77370, 77373, 77392, 77415, 77516, 77572, 77581, 77634, 77651, 77661, 77665, 77689, 77698, 77723, 77759, 77760, 77764, 77774, 77820, 77845, 77873, 77884, 77905, 77927, 77937, 77975, 78012, 78022, 78036, 78045, 78090, 78104, 78141, 78170, 78171, 78172, 78181, 78247, 78255, 78258, 78261, 78277, 78291, 78307, 78356, 78374, 78383, 78388, 78410, 78424, 78529, 78530, 78567, 78602, 78631, 78634, 78649, 78707, 78765, 78786, 78817, 78855, 78859, 78866, 78870, 78875, 78913, 78928, 78980, 79019, 79036, 79050, 79190, 79272, 79303, 79324, 79331, 79372, 79387, 79440, 79443, 79445, 79448, 79481, 79531, 79539, 79580, 79586, 79619, 79627, 79637, 79646, 79649, 79682, 79691, 79712, 79728, 79787, 79797, 79827, 79830, 79864, 79870, 79874, 79923, 79980, 79990, 80004, 80057, 80058, 80077, 80145, 80158, 80163, 80165, 80167, 80174, 80249, 80282, 80303, 80312, 80324, 80333, 80410, 80430, 80445, 80467, 80479, 80485, 80511, 80564, 80572, 80574, 80616, 80625, 80638, 80651, 80680, 80710, 80743, 80771, 80896, 80914, 80924, 80933, 80945, 80986, 81030, 81038, 81054, 81057, 81107, 81116, 81132, 81136, 81145, 81154, 81206, 81220, 81223, 81232, 81243, 81259, 81280, 81281, 81282, 81286, 81400, 81413, 81436, 81487, 81497, 81513, 81528, 81534, 81540, 81548, 81578, 81642, 81648, 81654, 81761, 81794, 81846, 81853, 81859, 81865, 81896, 81929, 81954, 81965, 81973, 82041, 82049, 82051, 82077, 82098, 82161, 82210, 82242, 82246, 82283, 82285, 82297, 82319, 82388, 82393, 82465, 82473, 82488, 82497, 82504, 82521, 82531, 82540, 82551, 82552, 82560, 82566, 82572, 82576, 82578, 82601, 82622, 82623, 82628, 82635, 82646, 82649, 82743, 82775, 82777, 82778, 82783, 82797, 82804, 82815, 82847, 82880, 82889, 82910, 82938, 82946, 82998, 83003, 83033, 83043, 83045, 83046, 83064, 83066, 83082, 83089, 83141, 83196, 83237, 83242, 83253, 83286, 83311, 83315, 83348, 83374, 83375, 83401, 83411, 83413, 83425, 83434, 83439, 83444, 83446, 83451, 83471, 83492, 83508, 83511, 83517, 83542, 83580, 83601, 83610, 83622, 83671, 83696, 83704, 83727, 83742, 83748, 83756, 83783, 83800, 83812, 83827, 83850, 83859, 83861, 83879, 83880, 83891, 83893, 83922, 83930, 83953, 83998, 84013, 84053, 84119, 84130, 84136, 84154, 84179, 84197, 84224, 84231, 84232, 84253, 84257, 84278, 84298, 84306, 84324, 84366, 84375, 84390, 84399, 84402, 84409, 84451, 84535, 84547, 84553, 84560, 84564, 84570, 84587, 84610, 84616, 84619, 84648, 84657, 84661, 84726, 84735, 84737, 84747, 84755, 84756, 84774, 84787, 84790, 84808, 84848, 84888, 84954, 84977, 84979, 85018, 85041, 85043, 85074, 85077, 85088, 85109, 85126, 85129, 85154, 85194, 85218, 85244, 85251, 85272, 85319, 85341, 85355, 85374, 85384, 85389, 85399, 85413, 85423, 85434, 85440, 85482, 85548, 85566, 85572, 85604, 85625, 85690, 85708, 85733, 85767, 85787, 85812, 85815, 85874, 85902, 85918, 85995, 86010, 86065, 86067, 86108, 86111, 86143, 86150, 86153, 86185, 86220, 86298, 86310, 86318, 86332, 86337, 86373, 86399, 86459, 86483, 86492, 86505, 86551, 86590, 86600, 86613, 86615, 86625, 86643, 86644, 86646, 86648, 86681, 86701, 86723, 86745, 86750, 86786, 86805, 86808, 86837, 86860, 86872, 86912, 86958, 86972, 87006, 87054, 87076, 87157, 87158, 87164, 87169, 87205, 87209, 87239, 87247, 87250, 87263, 87282, 87284, 87285, 87310, 87329, 87369, 87372, 87418, 87469, 87490, 87497, 87507, 87510, 87518, 87523, 87528, 87535, 87556, 87560, 87561, 87569, 87583, 87584, 87605, 87643, 87653, 87745, 87771, 87867, 87891, 87905, 87928, 87950, 88019, 88050, 88055, 88061, 88095, 88120, 88126, 88215, 88231, 88233, 88265, 88278, 88368, 88419, 88432, 88449, 88470, 88500, 88506, 88513, 88528, 88564, 88566, 88570, 88579, 88638, 88642, 88653, 88675, 88676, 88725, 88781, 88842, 88856, 88876, 88904, 88909, 88913, 88922, 88926, 88967, 88991, 89011, 89015, 89028, 89030, 89040, 89041, 89054, 89073, 89083, 89146, 89154, 89172, 89182, 89202, 89226, 89299, 89325, 89326, 89346, 89347, 89389, 89391, 89392, 89397, 89400, 89413, 89419, 89477, 89478, 89491, 89508, 89534, 89559, 89564, 89587, 89598, 89622, 89625, 89636, 89644, 89648, 89652, 89667, 89681, 89690, 89705, 89718, 89735, 89737, 89760, 89787, 89806, 89813, 89821, 89852, 89870, 89884, 89922, 89942, 89951, 89991, 90021, 90042, 90046, 90127, 90159, 90189, 90196, 90222, 90230, 90245, 90270, 90273, 90277, 90290, 90291, 90338, 90363, 90377, 90406, 90409, 90414, 90415, 90446, 90523, 90547, 90557, 90582, 90614, 90624, 90646, 90653, 90668, 90688, 90692, 90693, 90705, 90730, 90752, 90758, 90803, 90881, 90897, 90907, 90915, 90934, 90935, 90969, 90980, 91037, 91039, 91044, 91048, 91137, 91145, 91189, 91209, 91251, 91262, 91275, 91299, 91334, 91343, 91367, 91384, 91433, 91468, 91488, 91501, 91506, 91525, 91534, 91545, 91547, 91608, 91658, 91666, 91670, 91683, 91689, 91709, 91711, 91716, 91733, 91811, 91819, 91836, 91839, 91842, 91857, 91901, 91905, 91911, 91928, 91939, 91949, 91959, 91964, 91996, 91999, 92003, 92008, 92028, 92036, 92061, 92079, 92093, 92112, 92115, 92141, 92178, 92215, 92262, 92288, 92298, 92374, 92430, 92431, 92440, 92444, 92463, 92472, 92486, 92531, 92593, 92609, 92649, 92682, 92691, 92717, 92733, 92775, 92792, 92811, 92845, 92863, 92864, 92865, 92886, 92968, 92969, 93021, 93034, 93056, 93076, 93099, 93106, 93125, 93169, 93193, 93202, 93206, 93208, 93211, 93213, 93223, 93225, 93227, 93235, 93272, 93318, 93319, 93415, 93449, 93476, 93518, 93535, 93557, 93589, 93604, 93605, 93618, 93639, 93655, 93662, 93664, 93690, 93705, 93717, 93730, 93770, 93793, 93806, 93834, 93853, 93884, 93885, 93886, 93930, 93955, 93997, 94041, 94055, 94057, 94064, 94080, 94081, 94100, 94113, 94156, 94174, 94193, 94196, 94215, 94235, 94242, 94245, 94318, 94334, 94342, 94345, 94364, 94366, 94391, 94392, 94395, 94401, 94413, 94429, 94432, 94461, 94477, 94529, 94552, 94559, 94600, 94606, 94610, 94638, 94652, 94662, 94692, 94741, 94744, 94754, 94809, 94880, 94885, 94892, 94931, 94936, 94937, 94954, 94962, 94988, 94991, 95047, 95078, 95108, 95113, 95128, 95149, 95150, 95165, 95168, 95226, 95244, 95255, 95256, 95280, 95283, 95299, 95303, 95329, 95336, 95393, 95423, 95432, 95435, 95445, 95446, 95450, 95455, 95462, 95465, 95469, 95490, 95500, 95519, 95530, 95540, 95551, 95552, 95566, 95577, 95634, 95636, 95639, 95647, 95654, 95661, 95680, 95691, 95704, 95708, 95725, 95763, 95799, 95806, 95825, 95835, 95855, 95864, 95885, 95902, 95909, 95917, 95918, 95929, 95946, 95949, 95985, 95989, 95997, 96016, 96020, 96055, 96062, 96073, 96076, 96080, 96099, 96100, 96102, 96128, 96129, 96130, 96176, 96178, 96185, 96190, 96219, 96226, 96245, 96249, 96262, 96268, 96279, 96282, 96287, 96299, 96321, 96330, 96337, 96346, 96359, 96421, 96445, 96452, 96459, 96460, 96467, 96468, 96480, 96483, 96509, 96524, 96552, 96554, 96585, 96586, 96609, 96635, 96657, 96660, 96678, 96710, 96718, 96741, 96748, 96779, 96792, 96798, 96824, 96827, 96840, 96844, 96851, 96854, 96862, 96867, 96930, 96975, 97005, 97017, 97030, 97064, 97077, 97082, 97083, 97128, 97136, 97142, 97153, 97165, 97167, 97168, 97176, 97189, 97212, 97215, 97231, 97261, 97277, 97281, 97304, 97306, 97318, 97355, 97411, 97419, 97429, 97449, 97453, 97474, 97490, 97508, 97521, 97562, 97614, 97632, 97634, 97688, 97698, 97723, 97741, 97757, 97759, 97778, 97789, 97823, 97831, 97837, 97842, 97847, 97855, 97863, 97870, 97883, 97933, 97934, 97939, 97963, 97969, 97986, 98005, 98010, 98012, 98037, 98044, 98051, 98061, 98076, 98077, 98080, 98092, 98101, 98106, 98116, 98130, 98145, 98155, 98211, 98215, 98228, 98265, 98281, 98283, 98287, 98350, 98360, 98361, 98389, 98418, 98427, 98436, 98466, 98475, 98515, 98524, 98535, 98545, 98586, 98587, 98588, 98605, 98611, 98630, 98637, 98639, 98642, 98656, 98667, 98675, 98678, 98695, 98719, 98725, 98726, 98733, 98738, 98746, 98752, 98756, 98765, 98769, 98776, 98779, 98791, 98809, 98829, 98837, 98881, 98882, 98926, 98929, 98941, 98948, 98975, 98980, 98985, 98986, 98989, 98995, 99064, 99065, 99076, 99086, 99096, 99126, 99127, 99131, 99138, 99141, 99146, 99151, 99156, 99161, 99175, 99179, 99183, 99184, 99185, 99199, 99203, 99212, 99219, 99220, 99233, 99246, 99248, 99254, 99270, 99307, 99309, 99316, 99335, 99339, 99355, 99357, 99359, 99361, 99364, 99369, 99373, 99374, 99385, 99386, 99388, 99392, 99399, 99434, 99452, 99462, 99476, 99478, 99483, 99491, 99502, 99527, 99543, 99549, 99551, 99554, 99602, 99604, 99646, 99651, 99679, 99682, 99697, 99736, 99761, 99784, 99823, 99829, 99835, 99844, 99870, 99872, 99888, 99891, 99893, 99894, 99897, 99911, 99925, 99928, 99935, 99970, 99971, 99987, 100009, 100029, 100054, 100063, 100067, 100079, 100099, 100109, 100135, 100147, 100154, 100168, 100188, 100219, 100226, 100228, 100252, 100270, 100292, 100295, 100313, 100316, 100321, 100345, 100375, 100405, 100451, 100453, 100462, 100479, 100480, 100506, 100508, 100563, 100569, 100579, 100584, 100587, 100593, 100605, 100651, 100653, 100662, 100669, 100675, 100681, 100722, 100734, 100764, 100776, 100790, 100793, 100800, 100818, 100820, 100828, 100829, 100863, 100875, 100881, 100882, 100903, 100931, 100933, 100950, 100960, 100997, 100999, 101017, 101020, 101027, 101061, 101073, 101077, 101094, 101096, 101104, 101110, 101119, 101128, 101132, 101146, 101150, 101192, 101198, 101214, 101233, 101260, 101265, 101266, 101272, 101283, 101290, 101299, 101320, 101338, 101345, 101352, 101364, 101383, 101387, 101430, 101432, 101436, 101452, 101455, 101460, 101468, 101475, 101481, 101500, 101509, 101510, 101517, 101524, 101534, 101549, 101562, 101590, 101593, 101597, 101602, 101603, 101607, 101618, 101626, 101656, 101684, 101689, 101697, 101709, 101722, 101739, 101752, 101761, 101771, 101795, 101812, 101825, 101833, 101859, 101885, 101887, 101890, 101926, 101950, 101967, 101977, 101978, 101996, 102025, 102041, 102058, 102069, 102076, 102085, 102092, 102096, 102102, 102103, 102106, 102110, 102112, 102114, 102130, 102147, 102178, 102180, 102182, 102191, 102193, 102202, 102226, 102238, 102264, 102268, 102270, 102308, 102318, 102323, 102332, 102343, 102345, 102346, 102350, 102359, 102388, 102412, 102420, 102423, 102442, 102460, 102470, 102471, 102476, 102479, 102493, 102509, 102510, 102533, 102541, 102542, 102559, 102569, 102583, 102597, 102606, 102607, 102610, 102615, 102628, 102631, 102632, 102640, 102663, 102684, 102686, 102693, 102723, 102726, 102729, 102766, 102771, 102821, 102828, 102858, 102864, 102874, 102884, 102889, 102895, 102904, 102936, 102938, 102942, 102945, 102953, 102976, 102986, 103020, 103021, 103024, 103063, 103064, 103078, 103110, 103111, 103121, 103148, 103153, 103161, 103164, 103179, 103205, 103214, 103218, 103233, 103257, 103260, 103277, 103315, 103323, 103344, 103345, 103358, 103371, 103389, 103395, 103403, 103406, 103407, 103408, 103432, 103435, 103440, 103456, 103459, 103474, 103524, 103529, 103538, 103540, 103575, 103580, 103586, 103588, 103596, 103605, 103608, 103628, 103632, 103634, 103642, 103643, 103649, 103651, 103654, 103684, 103700, 103710, 103713, 103743, 103751, 103757, 103759, 103762, 103789, 103794, 103802, 103809, 103810, 103824, 103840, 103851, 103860, 103886, 103925, 103931, 103932, 103948, 103950, 103966, 103980, 103984, 103986, 103995, 104001, 104003, 104024, 104025, 104045, 104052, 104068, 104089, 104094, 104097, 104112, 104118, 104146, 104164, 104193, 104196, 104216, 104223, 104232, 104235, 104256, 104272, 104280, 104293, 104329, 104333, 104334, 104359, 104361, 104413, 104421, 104423, 104438, 104439, 104440, 104443, 104455, 104457, 104461, 104501, 104509, 104521, 104525, 104542, 104576, 104613, 104614, 104617, 104632, 104647, 104651, 104660, 104661, 104662, 104663, 104704, 104719, 104724, 104729, 104737, 104746, 104748, 104756, 104772, 104790, 104830, 104834, 104842, 104844, 104849, 104858, 104879, 104892, 104896, 104917, 104945, 104965, 104973, 104981, 104993, 104996, 105010, 105017, 105021, 105043, 105044, 105059, 105060, 105116, 105119, 105138, 105150, 105188, 105189, 105200, 105216, 105244, 105252, 105266, 105273, 105281, 105289, 105304, 105312, 105327, 105339, 105363, 105370, 105376, 105381, 105384, 105422, 105428, 105431, 105438, 105444, 105449, 105460, 105478, 105479, 105491, 105493, 105516, 105540, 105577, 105582, 105585, 105586, 105592, 105598, 105614, 105616, 105617, 105650, 105686, 105693, 105694, 105717, 105728, 105748, 105779, 105787, 105788, 105794, 105803, 105804, 105808, 105813, 105817, 105821, 105830, 105838, 105862, 105866, 105886, 105896, 105907, 105908, 105936, 105938, 105943, 105974, 106014, 106023, 106028, 106039, 106085, 106092, 106103, 106110, 106113, 106118, 106143, 106151, 106153, 106169, 106175, 106176, 106179, 106183, 106252, 106255, 106257, 106273, 106282, 106297, 106306, 106316, 106330, 106334, 106347, 106377, 106395, 106406, 106437, 106491, 106498, 106517, 106538, 106541, 106544, 106546, 106548, 106551, 106554, 106566, 106595, 106627, 106648, 106670, 106679, 106682, 106698, 106700, 106705, 106707, 106721, 106723, 106728, 106733, 106740, 106742, 106748, 106753, 106758, 106760, 106761, 106765, 106780, 106812, 106819, 106838, 106843, 106850, 106889, 106890, 106900, 106910, 106935, 106938, 106942, 106951, 106957, 106961, 106964, 106967, 106972, 106976, 106982, 107096, 107108, 107112, 107123, 107125, 107138, 107160, 107164, 107165, 107190, 107196, 107218, 107231, 107233, 107236, 107242, 107248, 107265, 107276, 107277, 107287, 107302, 107303, 107306, 107308, 107314, 107327, 107373, 107389, 107410, 107411, 107417, 107425, 107433, 107438, 107443, 107452, 107458, 107460, 107479, 107513, 107548, 107575, 107578, 107584, 107597, 107617, 107620, 107624, 107627, 107630, 107658, 107665, 107682, 107737, 107744, 107746, 107762, 107787, 107793, 107801, 107812, 107814, 107827, 107833, 107843, 107845, 107846, 107850, 107882, 107895, 107909, 107910, 107916, 107991, 107998, 108001, 108019, 108023, 108069, 108082, 108083, 108097, 108100, 108103, 108116, 108140, 108147, 108183, 108185, 108196, 108198, 108211, 108233, 108247, 108256, 108273, 108276, 108293, 108301, 108317, 108320, 108328, 108366, 108386, 108390, 108402, 108419, 108426, 108431, 108435, 108438, 108446, 108454, 108464, 108467, 108468, 108470, 108495, 108496, 108502, 108505, 108506, 108510, 108540, 108542, 108557, 108569, 108574, 108594, 108658, 108670, 108681, 108683, 108687, 108699, 108713, 108726, 108741, 108765, 108775, 108779, 108796, 108808, 108815, 108837, 108859, 108887, 108890, 108892, 108907, 108909, 108913, 108914, 108926, 108933, 108945, 108946, 108947, 108960, 108993, 108997, 109001, 109004, 109005, 109009, 109015, 109020, 109039, 109053, 109055, 109067, 109080, 109089, 109097, 109101, 109112, 109117, 109133, 109162, 109165, 109186, 109190, 109193, 109199, 109209, 109227, 109231, 109240, 109273, 109275, 109277, 109282, 109307, 109339, 109351, 109390, 109413, 109414, 109418, 109419, 109421, 109428, 109430, 109434, 109445, 109462, 109463, 109482, 109511, 109517, 109526, 109530, 109532, 109564, 109567, 109570, 109600, 109609, 109611, 109621, 109633, 109638, 109667, 109684, 109702, 109705, 109735, 109762, 109766, 109813, 109814, 109815, 109832, 109833, 109849, 109854, 109856, 109869, 109872, 109881, 109912, 109917, 109921, 109928, 109938, 109952, 109959, 109969, 109973, 109996, 109997, 110003, 110013, 110015, 110028, 110128, 110134, 110138, 110142, 110145, 110150, 110151, 110164, 110171, 110172, 110188, 110199, 110200, 110213, 110226, 110230, 110238, 110239, 110243, 110257, 110279, 110311, 110327, 110331, 110355, 110371, 110373, 110380, 110396, 110402, 110417, 110426, 110442, 110445, 110457, 110458, 110476, 110490, 110510, 110517, 110538, 110554, 110556, 110562, 110563, 110586, 110594, 110597, 110607, 110610, 110622, 110643, 110648, 110663, 110668, 110669, 110677, 110684, 110702, 110713, 110714, 110723, 110747, 110748, 110791, 110794, 110798, 110820, 110844, 110862, 110866, 110871, 110884, 110890, 110908, 110920, 110931, 110946, 110954, 110964, 110965, 110970, 110977, 110978, 110981, 110998, 111020, 111058, 111066, 111067, 111095, 111128, 111129, 111130, 111163, 111169, 111177, 111189, 111218, 111224, 111232, 111238, 111243, 111252, 111256, 111268, 111275, 111283, 111296, 111306, 111319, 111321, 111332, 111363, 111377, 111387, 111394, 111398, 111415, 111423, 111445, 111450, 111467, 111469, 111476, 111483, 111499, 111502, 111520, 111545, 111558, 111563, 111567, 111589, 111625, 111675, 111676, 111679, 111696, 111697, 111700, 111746, 111772, 111795, 111797, 111829, 111836, 111843, 111883, 111891, 111895, 111900, 111916, 111939, 111949, 111957, 111959, 111961, 111963, 111971, 111979, 111985, 111994, 112031, 112062, 112074, 112077, 112093, 112115, 112130, 112131, 112137, 112139, 112158, 112160, 112164, 112176, 112181, 112200, 112212, 112262, 112263, 112264, 112269, 112271, 112283, 112284, 112291, 112305, 112310, 112318, 112320, 112351, 112358, 112362, 112376, 112383, 112388, 112403, 112432, 112453, 112459, 112494, 112497, 112507, 112512, 112517, 112554, 112561, 112564, 112584, 112607, 112627, 112650, 112660, 112668, 112683, 112693, 112706, 112731, 112754, 112761, 112763, 112780, 112791, 112795, 112797, 112819, 112820, 112821, 112835, 112840, 112847, 112854, 112860, 112871, 112873, 112900, 112906, 112929, 112941, 112942, 112945, 112952, 112956, 112959, 112963, 112967, 112974, 113000, 113035, 113044, 113054, 113062, 113080, 113094, 113099, 113106, 113120, 113129, 113147, 113151, 113163, 113175, 113176, 113185, 113198, 113200, 113203, 113211, 113234, 113253, 113290, 113301, 113307, 113309, 113322, 113323, 113324, 113326, 113337, 113364, 113390, 113397, 113398, 113434, 113436, 113440, 113443, 113464, 113466, 113481, 113491, 113501, 113504, 113511, 113513, 113515, 113530, 113543, 113544, 113545, 113546, 113550, 113555, 113571, 113597, 113598, 113601, 113635, 113654, 113658, 113667, 113688, 113700, 113703, 113750, 113756, 113760, 113770, 113806, 113823, 113838, 113868, 113870, 113912, 113913, 113915, 113929, 113936, 113948, 113959, 113987, 113995, 114008, 114011, 114032, 114043, 114045, 114053, 114055, 114056, 114059, 114060, 114062, 114079, 114117, 114150, 114157, 114158, 114160, 114185, 114204, 114224, 114225, 114228, 114230, 114251, 114263, 114288, 114292, 114324, 114345, 114351, 114357, 114362, 114366, 114396, 114401, 114413, 114420, 114447, 114459, 114483, 114495, 114508, 114520, 114537, 114544, 114561, 114580, 114591, 114605, 114639, 114648, 114650, 114670, 114674, 114678, 114691, 114719, 114733, 114746, 114754, 114758, 114760, 114761, 114765, 114770, 114797, 114798, 114801, 114813, 114835, 114838, 114844, 114859, 114870, 114874, 114912, 114927, 114937, 114955, 114967, 114969, 114971, 114973, 114982, 114988, 114994, 115005, 115023, 115025, 115040, 115057, 115064, 115066, 115070, 115076, 115085, 115161, 115176, 115178, 115209, 115214, 115215, 115244, 115248, 115258, 115284, 115289, 115305, 115306, 115323, 115326, 115331, 115336, 115358, 115360, 115364, 115387, 115389, 115411, 115414, 115418, 115420, 115422, 115426, 115433, 115438, 115439, 115443, 115457, 115458, 115464, 115488, 115496, 115497, 115498, 115511, 115513, 115549, 115551, 115562, 115579, 115585, 115602, 115603, 115605, 115613, 115618, 115630, 115631, 115634, 115677, 115700, 115705, 115717, 115745, 115763, 115784, 115792, 115803, 115806, 115813, 115815, 115824, 115831, 115834, 115839, 115849, 115851, 115858, 115880, 115882, 115890, 115895, 115896, 115912, 115922, 115932, 115945, 115963, 115971, 115989, 116044, 116055, 116057, 116084, 116103, 116104, 116133, 116138, 116143, 116163, 116165, 116202, 116207, 116211, 116218, 116230, 116255, 116279, 116286, 116287, 116338, 116358, 116360, 116365, 116367, 116372, 116375, 116379, 116385, 116391, 116394, 116442, 116468, 116489, 116493, 116508, 116517, 116520, 116528, 116531, 116539, 116541, 116554, 116562, 116580, 116608, 116613, 116620, 116626, 116632, 116635, 116640, 116641, 116662, 116666, 116677, 116707, 116751, 116788, 116789, 116791, 116797, 116800, 116812, 116820, 116825, 116830, 116834, 116852, 116878, 116892, 116901, 116903, 116910, 116927, 116933, 116934, 116952, 116960, 116961, 116968, 116986, 116991, 117012, 117017, 117018, 117022, 117028, 117037, 117058, 117059, 117073, 117095, 117109, 117125, 117148, 117158, 117162, 117166, 117167, 117169, 117186, 117201, 117210, 117217, 117222, 117227, 117236, 117244, 117251, 117253, 117273, 117295, 117299, 117310, 117312, 117313, 117319, 117346, 117357, 117363, 117372, 117381, 117387, 117392, 117393, 117409, 117444, 117471, 117473, 117476, 117477, 117480, 117496, 117502, 117503, 117507, 117509, 117525, 117526, 117528, 117529, 117542, 117549, 117555, 117556, 117567, 117570, 117583, 117585, 117589, 117595, 117605, 117606, 117618, 117627, 117628, 117634, 117651, 117674, 117681, 117683, 117700, 117721, 117728, 117746, 117747, 117751, 117760, 117767, 117778, 117779, 117789, 117791, 117798, 117802, 117814, 117816, 117827, 117833, 117847, 117849, 117860, 117865, 117872, 117881, 117898, 117906, 117915, 117917, 117927, 117944, 117959, 117963, 117983, 118001, 118023, 118025, 118056, 118058, 118081, 118088, 118108, 118119, 118149, 118158, 118161, 118186, 118197, 118212, 118230, 118253, 118259, 118261, 118267, 118291, 118303, 118306, 118308, 118310, 118330, 118337, 118352, 118358, 118363, 118365, 118376, 118399, 118401, 118419, 118429, 118447, 118457, 118462, 118474, 118481, 118486, 118494, 118497, 118500, 118506, 118520, 118523, 118535, 118536, 118550, 118551, 118565, 118567, 118584, 118600, 118605, 118619, 118630, 118652, 118657, 118681, 118686, 118693, 118696, 118701, 118710, 118712, 118717, 118721, 118725, 118736, 118779, 118792, 118793, 118798, 118799, 118806, 118831, 118847, 118853, 118861, 118876, 118889, 118901, 118902, 118909, 118938, 118941, 118947, 118966, 118972, 118993, 119004, 119006, 119033, 119052, 119069, 119075, 119079, 119098, 119099, 119101, 119111, 119124, 119129, 119153, 119156, 119164, 119170, 119176, 119177, 119182, 119199, 119207, 119215, 119225, 119234, 119253, 119254, 119266, 119272, 119281, 119287, 119309, 119344, 119359, 119386, 119409, 119411, 119421, 119422, 119429, 119432, 119471, 119474, 119493, 119506, 119522, 119539, 119545, 119558, 119565, 119570, 119578, 119592, 119628, 119655, 119665, 119679, 119684, 119704, 119721, 119722, 119741, 119751, 119762, 119793, 119829, 119832, 119835, 119838, 119848, 119859, 119890, 119891, 119904, 119913, 119918, 119929, 119939, 119944, 119957, 119964, 119986, 119992, 120029, 120041, 120045, 120046, 120057, 120064, 120066, 120067, 120068, 120074, 120121, 120126, 120130, 120131, 120135, 120155, 120163, 120172, 120173, 120190, 120201, 120238, 120243, 120251, 120268, 120270, 120277, 120283, 120301, 120302, 120326, 120359, 120408, 120426, 120429, 120450, 120451, 120460, 120461, 120471, 120475, 120478, 120508, 120518, 120535, 120539, 120544, 120572, 120590, 120601, 120617, 120629, 120672, 120691, 120707, 120724, 120760, 120773, 120781, 120796, 120837, 120839, 120857, 120902, 120910, 120914, 120920, 120933, 120939, 120959, 120970, 120985, 120986, 121004, 121012, 121023, 121037, 121038, 121040, 121055, 121070, 121074, 121102, 121111, 121124, 121127, 121130, 121135, 121136, 121142, 121144, 121168, 121195, 121238, 121240, 121245, 121253, 121264, 121265, 121287, 121308, 121313, 121318, 121319, 121352, 121362, 121370, 121407, 121411, 121424, 121425, 121441, 121468, 121471, 121488, 121510, 121521, 121523, 121548, 121559, 121568, 121590, 121602, 121618, 121622, 121634, 121650, 121685, 121694, 121712, 121718, 121761, 121768, 121772, 121781, 121788, 121821, 121832, 121836, 121838, 121846, 121865, 121874, 121889, 121904, 121912, 121942, 121956, 121958, 121966, 121972, 121993, 121998, 122000, 122011, 122026, 122032, 122033, 122038, 122041, 122042, 122048, 122066, 122075, 122076, 122086, 122094, 122109, 122112, 122116, 122127, 122159, 122166, 122175, 122177, 122195, 122206, 122215, 122220, 122234, 122244, 122246, 122265, 122272, 122276, 122283, 122288, 122307, 122322, 122346, 122348, 122353, 122381, 122385, 122390, 122412, 122442, 122473, 122489, 122493, 122497, 122540, 122575, 122584, 122609, 122612, 122616, 122626, 122649, 122651, 122660, 122672, 122742, 122745, 122749, 122756, 122775, 122850, 122861, 122889, 122922, 122952, 122971, 122975, 122999, 123011, 123031, 123037, 123044, 123053, 123075, 123083, 123084, 123088, 123092, 123095, 123116, 123147, 123151, 123157, 123160, 123170, 123174, 123178, 123207, 123211, 123218, 123219, 123253, 123270, 123273, 123283, 123291, 123302, 123306, 123325, 123329, 123335, 123343, 123345, 123374, 123382, 123384, 123393, 123397, 123403, 123411, 123416, 123424, 123429, 123430, 123436, 123440, 123464, 123484, 123490, 123515, 123557, 123572, 123582, 123584, 123586, 123592, 123598, 123606, 123612, 123653, 123677, 123681, 123703, 123714, 123718, 123727, 123773, 123778, 123780, 123785, 123816, 123833, 123838, 123856, 123876, 123901, 123920, 123945, 123959, 123964, 123965, 123971, 123983, 123984, 123991, 123992, 124020, 124052, 124068, 124071, 124076, 124090, 124094, 124111, 124137, 124187, 124191, 124194, 124242, 124244, 124259, 124265, 124293, 124356, 124407, 124420, 124436, 124449, 124454, 124470, 124483, 124486, 124487, 124507, 124520, 124563, 124569, 124589, 124590, 124591, 124604, 124639, 124648, 124651, 124665, 124672, 124680, 124685, 124686, 124692, 124733, 124744, 124747, 124751, 124771, 124792, 124793, 124808, 124818, 124827, 124836, 124852, 124865, 124884, 124905, 124915, 124919, 124924, 124930, 124940, 124942, 124950, 124953, 124954, 124956, 124959, 124963, 124971, 124973, 124975, 124987, 124993, 125000, 125010, 125019, 125031, 125089, 125101, 125106, 125120, 125147, 125155, 125159, 125165, 125167, 125178, 125190, 125194, 125197, 125206, 125249, 125279, 125280, 125298, 125321, 125324, 125405, 125417, 125421, 125437, 125441, 125442, 125457, 125461, 125487, 125489, 125491, 125492, 125493, 125499, 125525, 125527, 125550, 125591, 125680, 125684, 125761, 125762, 125768, 125776, 125784, 125796, 125831, 125833, 125846, 125856, 125863, 125892, 125905, 125926, 125927, 125932, 125933, 125938, 125954, 125976, 126003, 126010, 126011, 126021, 126060, 126071, 126076, 126094, 126098, 126104, 126117, 126125, 126129, 126132, 126133, 126141, 126142, 126154, 126161, 126199, 126204, 126208, 126223, 126233, 126242, 126268, 126314, 126319, 126320, 126327, 126336, 126346, 126368, 126386, 126399, 126402, 126414, 126446, 126494, 126500, 126501, 126511, 126513, 126540, 126550, 126566, 126568, 126569, 126592, 126613, 126614, 126622, 126668, 126675, 126677, 126701, 126708, 126730, 126738, 126743, 126754, 126771, 126779, 126797, 126822, 126829, 126832, 126838, 126845, 126849, 126850, 126868, 126889, 126945, 126946, 126950, 126954, 126974, 126977, 126978, 126991, 127003, 127014, 127016, 127084, 127085, 127089, 127111, 127117, 127139, 127149, 127151, 127184, 127185, 127190, 127195, 127202, 127215, 127264, 127273, 127277, 127303, 127306, 127314, 127315, 127363, 127366, 127384, 127388, 127451, 127455, 127482, 127491, 127543, 127573, 127592, 127595, 127601, 127610, 127647, 127651, 127671, 127678, 127686, 127709, 127728, 127738, 127749, 127753, 127768, 127772, 127779, 127796, 127805, 127809, 127827, 127833, 127858, 127865, 127875, 127894, 127895, 127918, 127921, 127930, 127943, 127961, 128002, 128016, 128033, 128047, 128054, 128059, 128061, 128063, 128065, 128086, 128092, 128105, 128132, 128143, 128162, 128170, 128206, 128212, 128220, 128224, 128230, 128272, 128346, 128348, 128354, 128363, 128367, 128378, 128382, 128392, 128401, 128432, 128453, 128460, 128472, 128477, 128478, 128485, 128487, 128493, 128509, 128516, 128529, 128538, 128553, 128567, 128591, 128604, 128608, 128617, 128640, 128645, 128676, 128700, 128714, 128715, 128730, 128736, 128757, 128764, 128777, 128796, 128798, 128814, 128831, 128848, 128871, 128876, 128884, 128900, 128990, 129007, 129010, 129020, 129042, 129059, 129060, 129100, 129102, 129150, 129151, 129155, 129172, 129173, 129177, 129188, 129200, 129227, 129232, 129240, 129246, 129263, 129298, 129305, 129311, 129336, 129338, 129345, 129350, 129371, 129379, 129387, 129426, 129432, 129447, 129460, 129476, 129495, 129497, 129508, 129513, 129525, 129528, 129529, 129573, 129583, 129586, 129591, 129597, 129620, 129624, 129629, 129640, 129661, 129673, 129674, 129684, 129699, 129707, 129761, 129762, 129764, 129767, 129775, 129784, 129786, 129804, 129836, 129845, 129853, 129856, 129865, 129879, 129882, 129912, 129934, 129956, 129972, 129980, 130007, 130021, 130040, 130045, 130057, 130060, 130067, 130078, 130125, 130126, 130143, 130200, 130206, 130277, 130302, 130304, 130329, 130356, 130364, 130369, 130389, 130391, 130397, 130408, 130413, 130431, 130436, 130438, 130454, 130466, 130513, 130532, 130534, 130557, 130561, 130571, 130589, 130620, 130652, 130667, 130684, 130703, 130714, 130724, 130731, 130741, 130749, 130760, 130779, 130780, 130793, 130795, 130806, 130807, 130812, 130813, 130832, 130834, 130840, 130849, 130856, 130905, 130926, 130931, 130957, 130959, 131002, 131033, 131060, 131068, 131088, 131091, 131117, 131178, 131180, 131224, 131230, 131239, 131258, 131275, 131288, 131298, 131302, 131309, 131310, 131379, 131414, 131417, 131425, 131435, 131459, 131461, 131463, 131473, 131519, 131534, 131552, 131568, 131573, 131584, 131588, 131591, 131608, 131611, 131615, 131620, 131631, 131650, 131679, 131681, 131686, 131699, 131714, 131776, 131777, 131808, 131811, 131826, 131827, 131852, 131869, 131899, 131916, 131934, 131976, 131982, 131991, 132026, 132053, 132055, 132057, 132078, 132125, 132130, 132178, 132191, 132204, 132222, 132243, 132300, 132304, 132320, 132326, 132327, 132341, 132393, 132412, 132481, 132529, 132551, 132563, 132565, 132572, 132601, 132606, 132626, 132633, 132636, 132652, 132661, 132680, 132683, 132686, 132704, 132705, 132716, 132717, 132728, 132737, 132749, 132755, 132805, 132806, 132819, 132832, 132847, 132870, 132874, 132879, 132887, 132912, 132917, 132925, 132930, 132963, 132972, 132973, 132986, 132996, 133014, 133025, 133043, 133050, 133055, 133060, 133061, 133122, 133126, 133136, 133144, 133164, 133166, 133169, 133201, 133219, 133239, 133248, 133278, 133299, 133327, 133328, 133336, 133352, 133355, 133359, 133373, 133403, 133420, 133425, 133436, 133449, 133454, 133461, 133471, 133495, 133503, 133515, 133520, 133536, 133569, 133582, 133584, 133586, 133602, 133616, 133625, 133654, 133655, 133669, 133692, 133694, 133696, 133729, 133736, 133756, 133758, 133766, 133770, 133819, 133821, 133833, 133846, 133853, 133861, 133876, 133902, 133906, 133917, 133929, 133935, 133937, 133938, 133963, 133969, 133974, 133983, 133985, 134004, 134026, 134048, 134069, 134088, 134113, 134120, 134130, 134152, 134153, 134181, 134192, 134195, 134220, 134286, 134287, 134331, 134367, 134378, 134444, 134447, 134475, 134480, 134509, 134524, 134566, 134613, 134671, 134699, 134727, 134737, 134746, 134756, 134766, 134768, 134782, 134787, 134793, 134797, 134808, 134813, 134821, 134854, 134886, 134888, 134890, 134906, 134935, 134945, 134960, 134974, 134997, 135001, 135020, 135028, 135039, 135044, 135056, 135102, 135105, 135134, 135138, 135162, 135190, 135285, 135289, 135293, 135296, 135308, 135312, 135315, 135339, 135342, 135388, 135416, 135436, 135439, 135458, 135465, 135470, 135480, 135500, 135520, 135525, 135566, 135567, 135568, 135601, 135603, 135606, 135607, 135617, 135643, 135645, 135647, 135716, 135776, 135785, 135786, 135796, 135803, 135839, 135840, 135845, 135874, 135924, 136017, 136028, 136063, 136075, 136077, 136081, 136094, 136107, 136121, 136137, 136162, 136177, 136198, 136204, 136218, 136224, 136226, 136244, 136262, 136277, 136306, 136309, 136310, 136314, 136322, 136331, 136343, 136363, 136398, 136413, 136419, 136448, 136450, 136455, 136472, 136480, 136546, 136610, 136629, 136651, 136684, 136687, 136721, 136767, 136787, 136819, 136823, 136824, 136836, 136841, 136862, 136866, 136873, 136878, 136913, 136935, 136939, 136951, 136975, 136982, 136985, 136986, 136996, 136997, 137018, 137042, 137059, 137063, 137065, 137076, 137088, 137126, 137142, 137184, 137192, 137205, 137214, 137223, 137225, 137229, 137232, 137250, 137253, 137290, 137296, 137300, 137301, 137304, 137310, 137314, 137354, 137363, 137367, 137390, 137421, 137428, 137444, 137476, 137499, 137506, 137510, 137522, 137527, 137537, 137547, 137554, 137578, 137591, 137604, 137606, 137613, 137616, 137618, 137629, 137645, 137646, 137651, 137658, 137674, 137678, 137681, 137691, 137698, 137707, 137722, 137733, 137753, 137795, 137814, 137815, 137843, 137862, 137875, 137876, 137895, 137898, 137900, 137907, 137917, 137940, 137951, 137952, 137953, 137974, 137994, 138022, 138026, 138054, 138069, 138077, 138107, 138142, 138145, 138152, 138153, 138157, 138162, 138179, 138184, 138190, 138192, 138251, 138253, 138269, 138270, 138283, 138285, 138293, 138332, 138342, 138352, 138358, 138370, 138416, 138441, 138497, 138502, 138504, 138507, 138513, 138514, 138537, 138542, 138557, 138575, 138594, 138597, 138611, 138621, 138626, 138634, 138662, 138667, 138692, 138705, 138714, 138744, 138760, 138765, 138768, 138816, 138845, 138847, 138852, 138892, 138907, 138917, 138938, 138940, 138944, 138962, 138966, 138970, 138975, 138991, 138992, 138999, 139000, 139003, 139012, 139049, 139057, 139086, 139098, 139116, 139126, 139127, 139145, 139161, 139176, 139180, 139183, 139187, 139190, 139193, 139209, 139212, 139268, 139272, 139290, 139296, 139324, 139338, 139344, 139347, 139364, 139391, 139452, 139455, 139464, 139466, 139514, 139568, 139576, 139586, 139616, 139647, 139660, 139671, 139703, 139730, 139734, 139743, 139753, 139770, 139822, 139843, 139850, 139883, 139889, 139890, 139903, 139906, 139907, 139916, 139960, 139978, 139989, 139992, 140001, 140011, 140012, 140027, 140035, 140045, 140092, 140108, 140117, 140121, 140164, 140176, 140206, 140219, 140237, 140242, 140282, 140300, 140319, 140359, 140363, 140365, 140399, 140414, 140426, 140456, 140459, 140462, 140474, 140477, 140478, 140516, 140544, 140558, 140559, 140564, 140569, 140571, 140576, 140581, 140583, 140590, 140592, 140644, 140664, 140673, 140711, 140713, 140729, 140741, 140752, 140764, 140782, 140790, 140798, 140830, 140845, 140849, 140851, 140852, 140854, 140863, 140869, 140886, 140915, 140957, 140985, 140988, 141003, 141028, 141029, 141040, 141058, 141085, 141113, 141118, 141165, 141181, 141185, 141186, 141218, 141221, 141229, 141245, 141253, 141264, 141272, 141297, 141301, 141308, 141323, 141326, 141327, 141350, 141363, 141388, 141409, 141410, 141418, 141420, 141453, 141459, 141481, 141483, 141490, 141511, 141537, 141545, 141549, 141550, 141558, 141570, 141580, 141583, 141584, 141590, 141626, 141637, 141642, 141645, 141649, 141657, 141663, 141698, 141706, 141727, 141742, 141745, 141758, 141795, 141797, 141802, 141807, 141824, 141838, 141841, 141858, 141868, 141875, 141876, 141877, 141896, 141918, 141944, 141957, 142022, 142030, 142038, 142061, 142073, 142075, 142076, 142081, 142158, 142166, 142169, 142171, 142182, 142210, 142219, 142227, 142233, 142264, 142282, 142287, 142326, 142370, 142383, 142404, 142411, 142424, 142443, 142444, 142457, 142470, 142494, 142501, 142506, 142519, 142528, 142535, 142547, 142555, 142566, 142573, 142579, 142581, 142616, 142621, 142624, 142646, 142647, 142657, 142673, 142675, 142682, 142689, 142707, 142712, 142714, 142717, 142719, 142723, 142725, 142751, 142756, 142757, 142760, 142764, 142766, 142791, 142828, 142835, 142856, 142871, 142874, 142886, 142897, 142912, 142914, 142922, 142924, 142964, 142977, 143003, 143030, 143032, 143034, 143046, 143058, 143062, 143068, 143069, 143083, 143098, 143110, 143118, 143123, 143129, 143152, 143162, 143175, 143189, 143266, 143267, 143280, 143281, 143299, 143312, 143327, 143331, 143342, 143360, 143368, 143372, 143385, 143392, 143436, 143437, 143445, 143459, 143482, 143486, 143516, 143517, 143526, 143533, 143538, 143540, 143542, 143547, 143554, 143570, 143582, 143583, 143589, 143604, 143653, 143664, 143699, 143716, 143730, 143731, 143732, 143741, 143766, 143771, 143774, 143791, 143800, 143804, 143807, 143822, 143828, 143833, 143849, 143851, 143857, 143865, 143867, 143868, 143910, 143912, 143931, 143932, 143939, 143943, 143949, 143953, 143995, 144002, 144032, 144056, 144063, 144064, 144067, 144071, 144084, 144092, 144114, 144116, 144122, 144125, 144133, 144137, 144154, 144161, 144165, 144169, 144172, 144182, 144218, 144236, 144259, 144301, 144322, 144351, 144354, 144361, 144371, 144380, 144396, 144397, 144429, 144460, 144478, 144483, 144515, 144521, 144531, 144533, 144556, 144579, 144583, 144586, 144592, 144593, 144594, 144608, 144685, 144688, 144711, 144723, 144750, 144761, 144778, 144784, 144798, 144808, 144811, 144822, 144833, 144844, 144860, 144872, 144898, 144911, 144928, 144937, 144940, 144947, 144949, 144968, 144995, 145005, 145011, 145041, 145081, 145098, 145111, 145114, 145119, 145139, 145155, 145160, 145162, 145166, 145175, 145178, 145189, 145212, 145214, 145220, 145231, 145234, 145246, 145258, 145269, 145271, 145284, 145290, 145308, 145329, 145333, 145377, 145389, 145401, 145409, 145419, 145434, 145439, 145441, 145463, 145477, 145493, 145504, 145522, 145548, 145574, 145576, 145592, 145628, 145636, 145637, 145638, 145649, 145651, 145656, 145664, 145692, 145697, 145704, 145711, 145714, 145717, 145762, 145784, 145791, 145844, 145868, 145874, 145879, 145886, 145917, 145933, 145935, 145964, 145983, 145995, 146013, 146015, 146042, 146091, 146103, 146110, 146117, 146154, 146161, 146178, 146181, 146195, 146196, 146243, 146244, 146268, 146272, 146310, 146311, 146325, 146326, 146329, 146343, 146378, 146391, 146398, 146399, 146409, 146412, 146429, 146440, 146454, 146460, 146477, 146497, 146499, 146520, 146538, 146540, 146551, 146565, 146567, 146574, 146576, 146579, 146586, 146589, 146603, 146625, 146645, 146651, 146653, 146659, 146660, 146674, 146679, 146706, 146711, 146719, 146764, 146767, 146788, 146813, 146834, 146857, 146879, 146906, 146908, 146919, 146929, 146949, 146980, 147002, 147015, 147032, 147069, 147097, 147098, 147099, 147110, 147140, 147147, 147171, 147200, 147202, 147206, 147215, 147227, 147236, 147239, 147251, 147253, 147256, 147258, 147265, 147269, 147280, 147284, 147314, 147322, 147328, 147339, 147340, 147344, 147352, 147372, 147393, 147397, 147428, 147430, 147440, 147471, 147473, 147476, 147500, 147510, 147548, 147551, 147558, 147560, 147589, 147596, 147612, 147627, 147629, 147638, 147640, 147653, 147654, 147655, 147700, 147707, 147719, 147729, 147755, 147821, 147845, 147850, 147860, 147863, 147876, 147884, 147889, 147921, 147951, 147954, 147982, 147989, 148003, 148015, 148065, 148069, 148113, 148121, 148138, 148143, 148153, 148171, 148182, 148187, 148194, 148207, 148211, 148222, 148226, 148254, 148261, 148266, 148291, 148294, 148298, 148300, 148306, 148315, 148316, 148320, 148392, 148398, 148409, 148429, 148431, 148443, 148444, 148460, 148475, 148489, 148492, 148509, 148522, 148524, 148526, 148532, 148549, 148550, 148576, 148577, 148581, 148590, 148599, 148600, 148606, 148607, 148623, 148626, 148644, 148645, 148657, 148673, 148690, 148694, 148709, 148724, 148738, 148751, 148769, 148773, 148844, 148874, 148884, 148888, 148900, 148903, 148940, 148948, 148952, 148953, 148955, 148959, 148995, 148998, 149018, 149040, 149044, 149049, 149102, 149116, 149118, 149131, 149161, 149168, 149184, 149204, 149210, 149211, 149217, 149218, 149220, 149224, 149230, 149281, 149297, 149324, 149337, 149342, 149347, 149368, 149385, 149386, 149388, 149396, 149405, 149419, 149422, 149427, 149455, 149457, 149466, 149478, 149507, 149528, 149531, 149568, 149617, 149620, 149624, 149637, 149640, 149646, 149650, 149652, 149653, 149670, 149686, 149698, 149700, 149704, 149726, 149734, 149756, 149769, 149770, 149775, 149784, 149787, 149809, 149811, 149823, 149833, 149865, 149875, 149909, 149912, 149943, 149949, 149981, 149991, 150011, 150025, 150031, 150042, 150057, 150061, 150062, 150076, 150079, 150080, 150084, 150095, 150106, 150121, 150125, 150132, 150154, 150171, 150175, 150217, 150226, 150262, 150264, 150296, 150309, 150324, 150361, 150371, 150389, 150393, 150441, 150463, 150471, 150480, 150488, 150499, 150516, 150528, 150533, 150548, 150553, 150560, 150566, 150568, 150570, 150601, 150657, 150683, 150693, 150717, 150726, 150755, 150768, 150812, 150817, 150861, 150874, 150876, 150886, 150930, 150941, 150958, 150975, 150980, 150993, 150999, 151001, 151023, 151029, 151038, 151053, 151087, 151089, 151094, 151105, 151107, 151141, 151150, 151153, 151158, 151159, 151210, 151227, 151248, 151267, 151294, 151322, 151364, 151365, 151369, 151382, 151386, 151402, 151408, 151411, 151443, 151459, 151463, 151474, 151476, 151484, 151504, 151506, 151518, 151540, 151551, 151580, 151584, 151616, 151626, 151627, 151726, 151736, 151763, 151764, 151771, 151773, 151780, 151790, 151793, 151799, 151801, 151810, 151835, 151864, 151866, 151868, 151888, 151910, 151967, 151977, 151985, 151989, 151990, 151991, 152004, 152023, 152030, 152035, 152044, 152046, 152071, 152073, 152102, 152109, 152129, 152140, 152148, 152150, 152156, 152157, 152159, 152163, 152171, 152176, 152182, 152189, 152231, 152234, 152237, 152240, 152246, 152249, 152292, 152307, 152328, 152351, 152369, 152373, 152375, 152389, 152420, 152436, 152452, 152453, 152457, 152461, 152493, 152503, 152529, 152540, 152545, 152568, 152569, 152587, 152596, 152617, 152621, 152629, 152636, 152641, 152652, 152657, 152667, 152676, 152683, 152696, 152711, 152734, 152742, 152744, 152752, 152754, 152795, 152802, 152810, 152855, 152875, 152878, 152880, 152883, 152889, 152900, 152909, 152915, 152933, 152940, 152951, 152953, 152958, 152968, 153005, 153021, 153031, 153035, 153044, 153048, 153052, 153064, 153066, 153072, 153078, 153082, 153127, 153131, 153132, 153141, 153143, 153148, 153151, 153160, 153167, 153183, 153205, 153238, 153254, 153291, 153312, 153323, 153326, 153356, 153372, 153405, 153408, 153414, 153416, 153434, 153451, 153471, 153475, 153484, 153486, 153489, 153501, 153516, 153522, 153534, 153535, 153536, 153542, 153546, 153549, 153551, 153583, 153588, 153602, 153614, 153633, 153663, 153685, 153718, 153751, 153788, 153790, 153799, 153805, 153841, 153869, 153870, 153890, 153891, 153894, 153908, 153918, 153926, 153927, 153931, 153942, 153963, 153976, 154017, 154033, 154035, 154076, 154083, 154087, 154089, 154093, 154100, 154117, 154120, 154165, 154171, 154176, 154194, 154205, 154210, 154227, 154235, 154236, 154246, 154297, 154308, 154342, 154373, 154374, 154398, 154405, 154410, 154411, 154422, 154430, 154432, 154451, 154474, 154493, 154521, 154526, 154537, 154538, 154548, 154568, 154571, 154580, 154587, 154600, 154604, 154641, 154667, 154668, 154669, 154675, 154713, 154728, 154779, 154781, 154785, 154835, 154843, 154863, 154874, 154882, 154891, 154897, 154908, 154921, 154935, 154940, 154941, 154949, 154950, 154966, 154978, 154981, 155021, 155057, 155064, 155066, 155093, 155094, 155106, 155118, 155124, 155141, 155150, 155151, 155190, 155198, 155213, 155222, 155232, 155233, 155238, 155256, 155259, 155261, 155293, 155314, 155320, 155343, 155372, 155382, 155397, 155403, 155408, 155433, 155434, 155449, 155469, 155472, 155475, 155489, 155509, 155537, 155574, 155594, 155603, 155621, 155654, 155657, 155659, 155664, 155676, 155697, 155701, 155752, 155755, 155761, 155767, 155775, 155781, 155818, 155862, 155890, 155905, 155913, 155919, 155930, 155933, 155961, 155963, 155970, 155972, 155976, 155981, 155983, 156000, 156003, 156008, 156015, 156025, 156033, 156040, 156052, 156084, 156089, 156117, 156192, 156229, 156257, 156266, 156292, 156294, 156300, 156310, 156334, 156352, 156400, 156403, 156410, 156413, 156417, 156423, 156430, 156464, 156493, 156501, 156513, 156516, 156526, 156542, 156550, 156566, 156580, 156587, 156606, 156608, 156612, 156616, 156623, 156649, 156653, 156667, 156687, 156718, 156728, 156736, 156743, 156745, 156763, 156764, 156771, 156773, 156780, 156797, 156799, 156800, 156802, 156805, 156807, 156809, 156815, 156819, 156822, 156842, 156843, 156848, 156874, 156877, 156889, 156890, 156897, 156926, 156933, 156950, 156951, 156953, 156976, 156980, 156996, 157025, 157028, 157043, 157069, 157078, 157079, 157117, 157127, 157131, 157145, 157165, 157217, 157236, 157240, 157249, 157262, 157272, 157273, 157287, 157289, 157303, 157305, 157308, 157327, 157331, 157332, 157367, 157391, 157403, 157425, 157443, 157446, 157466, 157473, 157486, 157525, 157541, 157562, 157568, 157569, 157593, 157595, 157599, 157605, 157612, 157614, 157617, 157624, 157639, 157640, 157673, 157686, 157747, 157749, 157778, 157786, 157813, 157881, 157886, 157887, 157893, 157894, 157900, 157901, 157909, 157913, 157932, 157941, 157942, 157947, 157951, 157974, 157991, 158002, 158040, 158046, 158077, 158092, 158118, 158156, 158162, 158177, 158199, 158200, 158206, 158218, 158242, 158284, 158286, 158291, 158294, 158301, 158315, 158319, 158333, 158343, 158352, 158412, 158416, 158420, 158437, 158438, 158451, 158506, 158508, 158528, 158545, 158555, 158592, 158603, 158609, 158611, 158615, 158641, 158642, 158647, 158656, 158662, 158680, 158685, 158688, 158702, 158704, 158712, 158734, 158737, 158746, 158751, 158752, 158762, 158776, 158784, 158800, 158810, 158813, 158827, 158834, 158846, 158847, 158924, 158926, 158948, 158956, 158962, 158963, 158993, 159001, 159008, 159016, 159021, 159028, 159032, 159046, 159048, 159049, 159077, 159123, 159159, 159165, 159179, 159187, 159191, 159219, 159247, 159255, 159269, 159297, 159299, 159303, 159313, 159319, 159322, 159378, 159389, 159442, 159449, 159472, 159479, 159522, 159537, 159542, 159548, 159549, 159550, 159561, 159567, 159574, 159580, 159589, 159603, 159604, 159623, 159641, 159650, 159662, 159670, 159699, 159709, 159715, 159724, 159726, 159732, 159737, 159755, 159759, 159768, 159770, 159773, 159782, 159788, 159796, 159816, 159822, 159841, 159849, 159854, 159869, 159876, 159888, 159897, 159908, 159909, 159910, 159911, 159929, 159931, 159937, 159938, 159939, 159960, 159979, 160029, 160033, 160035, 160037, 160045, 160049, 160061, 160062, 160107, 160118, 160120, 160123, 160131, 160143, 160151, 160155, 160158, 160167, 160173, 160178, 160187, 160192, 160216, 160220, 160246, 160261, 160275, 160279, 160300, 160303, 160323, 160339, 160340, 160362, 160369, 160398, 160402, 160440, 160445, 160449, 160456, 160467, 160472, 160474, 160512, 160572, 160574, 160586, 160594, 160614, 160623, 160625, 160631, 160634, 160646, 160647, 160654, 160662, 160674, 160703, 160724, 160728, 160731, 160758, 160776, 160784, 160785, 160786, 160808, 160811, 160815, 160829, 160837, 160893, 160910, 160916, 160920, 160932, 160942, 160943, 160951, 160962, 160968, 160972, 160981, 160984, 160995, 161007, 161016, 161018, 161027, 161063, 161066, 161075, 161087, 161092, 161097, 161111, 161141, 161153, 161155, 161187, 161198, 161210, 161226, 161235, 161240, 161251, 161259, 161279, 161285, 161290, 161311, 161325, 161334, 161337, 161386, 161387, 161400, 161415, 161438, 161444, 161460, 161463, 161478, 161482, 161508, 161510, 161532, 161538, 161558, 161563, 161572, 161599, 161607, 161631, 161637, 161638, 161662, 161674, 161676, 161683, 161690, 161691, 161708, 161744, 161745, 161765, 161815, 161819, 161838, 161857, 161874, 161922, 161926, 161930, 161942, 161944, 161950, 161954, 161964, 161978, 161981, 162002, 162003, 162028, 162030, 162034, 162094, 162096, 162098, 162104, 162108, 162130, 162136, 162137, 162140, 162160, 162164, 162184, 162187, 162189, 162205, 162228, 162236, 162238, 162245, 162249, 162256, 162282, 162297, 162298, 162301, 162302, 162312, 162322, 162327, 162340, 162343, 162347, 162358, 162381, 162391, 162397, 162404, 162410, 162424, 162432, 162439, 162442, 162494, 162506, 162551, 162566, 162572, 162576, 162593, 162595, 162601, 162604, 162606, 162613, 162621, 162623, 162632, 162643, 162651, 162667, 162678, 162687, 162688, 162741, 162745, 162758, 162814, 162816, 162825, 162834, 162840, 162852, 162856, 162869, 162872, 162882, 162915, 162919, 162923, 162924, 162930, 162943, 162944, 162945, 162947, 162954, 162973, 162988, 163002, 163003, 163015, 163021, 163027, 163039, 163047, 163052, 163053, 163057, 163069, 163083, 163085, 163090, 163101, 163108, 163110, 163113, 163127, 163140, 163167, 163174, 163189, 163199, 163204, 163205, 163212, 163215, 163229, 163237, 163258, 163265, 163278, 163287, 163290, 163293, 163303, 163320, 163322, 163331, 163332, 163333, 163342, 163346, 163352, 163385, 163392, 163393, 163396, 163434, 163455, 163480, 163494, 163516, 163530, 163557, 163578, 163582, 163594, 163595, 163604, 163620, 163665, 163671, 163678, 163685, 163689, 163708, 163725, 163726, 163729, 163747, 163772, 163787, 163788, 163809, 163814, 163815, 163826, 163836, 163847, 163862, 163870, 163890, 163894, 163911, 163921, 163942, 163946, 163948, 163965, 163985, 163998, 164018, 164019, 164023, 164040, 164043, 164050, 164065, 164102, 164113, 164123, 164127, 164135, 164156, 164170, 164190, 164197, 164198, 164204, 164210, 164219, 164229, 164231, 164243, 164280, 164300, 164309, 164320, 164332, 164379, 164386, 164395, 164423, 164427, 164441, 164488, 164493, 164507, 164515, 164518, 164526, 164529, 164530, 164552, 164569, 164570, 164574, 164582, 164583, 164585, 164593, 164607, 164647, 164658, 164663, 164678, 164682, 164693, 164707, 164711, 164712, 164733, 164737, 164748, 164749, 164775, 164790, 164799, 164835, 164849, 164857, 164866, 164870, 164876, 164877, 164898, 164920, 164922, 164924, 164938, 164940, 164964, 164966, 164991, 165001, 165017, 165020, 165030, 165039, 165050, 165054, 165064, 165065, 165082, 165097, 165106, 165107, 165108, 165115, 165134, 165138, 165148, 165152, 165186, 165201, 165209, 165215, 165226, 165232, 165235, 165267, 165278, 165289, 165302, 165304, 165306, 165309, 165310, 165315, 165316, 165346, 165350, 165360, 165365, 165412, 165441, 165466, 165468, 165472, 165474, 165475, 165479, 165484, 165492, 165503, 165505, 165510, 165513, 165517, 165519, 165532, 165599, 165614, 165622, 165630, 165637, 165667, 165673, 165681, 165686, 165694, 165695, 165726, 165737, 165743, 165745, 165754, 165767, 165798, 165799, 165804, 165814, 165815, 165822, 165827, 165848, 165881, 165916, 165918, 165922, 165930, 165937, 165949, 165953, 165968, 165982, 165998, 166003, 166018, 166027, 166036, 166039, 166051, 166056, 166083, 166107, 166124, 166149, 166153, 166181, 166187, 166193, 166210, 166220, 166235, 166242, 166253, 166290, 166295, 166304, 166320, 166327, 166330, 166339, 166343, 166350, 166368, 166371, 166386, 166398, 166415, 166416, 166419, 166425, 166459, 166461, 166481, 166497, 166502, 166509, 166517, 166527, 166545, 166546, 166549, 166565, 166585, 166597, 166606, 166626, 166634, 166636, 166662, 166666, 166697, 166704, 166715, 166740, 166744, 166758, 166759, 166774, 166789, 166809, 166813, 166851, 166855, 166857, 166863, 166880, 166889, 166893, 166894, 166929, 166934, 166961, 166971, 166988, 167005, 167009, 167031, 167033, 167049, 167062, 167063, 167065, 167081, 167087, 167094, 167098, 167106, 167138, 167140, 167147, 167149, 167159, 167170, 167187, 167261, 167265, 167280, 167281, 167284, 167298, 167309, 167319, 167334, 167336, 167347, 167350, 167358, 167380, 167381, 167396, 167405, 167410, 167414, 167415, 167424, 167428, 167440, 167474, 167476, 167482, 167497, 167501, 167515, 167523, 167527, 167531, 167536, 167537, 167544, 167552, 167558, 167581, 167599, 167613, 167615, 167617, 167651, 167652, 167658, 167670, 167678, 167687, 167691, 167692, 167711, 167716, 167725, 167728, 167735, 167737, 167749, 167761, 167770, 167771, 167777, 167781, 167787, 167790, 167793, 167794, 167816, 167826, 167832, 167835, 167848, 167851, 167859, 167864, 167868, 167878, 167882, 167886, 167889, 167893, 167915, 167918, 167919, 167939, 167955, 167963, 167967, 167979, 167987, 167990, 167999, 168001, 168009, 168015, 168030, 168038, 168048, 168055, 168071, 168098, 168103, 168107, 168109, 168138, 168139, 168165, 168187, 168191, 168195, 168203, 168211, 168212, 168216, 168221, 168223, 168232, 168262, 168276, 168283, 168288, 168293, 168294, 168312, 168322, 168324, 168334, 168337, 168340, 168355, 168370, 168381, 168387, 168403, 168407, 168412, 168443, 168470, 168475, 168479, 168496, 168514, 168515, 168521, 168524, 168538, 168539, 168553, 168569, 168598, 168601, 168625, 168654, 168656, 168660, 168672, 168675, 168680, 168682, 168693, 168723, 168730, 168740, 168768, 168782, 168790, 168794, 168796, 168807, 168817, 168826, 168827, 168837, 168845, 168854, 168863, 168873, 168894, 168901, 168906, 168936, 168941, 168943, 168956, 168981, 168997, 169002, 169003, 169020, 169023, 169031, 169037, 169042, 169047, 169069, 169071, 169092, 169100, 169101, 169104, 169112, 169117, 169121, 169122, 169124, 169129, 169133, 169152, 169155, 169180, 169182, 169184, 169186, 169188, 169203, 169204, 169240, 169249, 169269, 169303, 169323, 169324, 169329, 169364, 169383, 169388, 169397, 169426, 169435, 169460, 169469, 169482, 169496, 169527, 169532, 169544, 169549, 169564, 169583, 169589, 169600, 169604, 169605, 169611, 169624, 169628, 169631, 169638, 169639, 169646, 169652, 169658, 169662, 169672, 169679, 169683, 169699, 169711, 169717, 169719, 169727, 169745, 169758, 169759, 169785, 169804, 169809, 169815, 169818, 169837, 169841, 169846, 169853, 169871, 169878, 169879, 169882, 169885, 169886, 169905, 169917, 169925, 169926, 169953, 169955, 169958, 169973, 169980, 169982, 169983, 169990, 169995, 170012, 170017, 170019, 170020, 170038, 170050, 170065, 170066, 170070, 170086, 170091, 170092, 170099, 170104, 170108, 170114, 170125, 170130, 170142, 170148, 170154, 170165, 170166, 170169, 170174, 170182, 170183, 170214, 170217, 170230, 170244, 170262, 170263, 170272, 170276, 170277, 170287, 170299, 170301, 170302, 170310, 170320, 170324, 170331, 170336, 170350, 170354, 170376, 170382, 170408, 170411, 170421, 170428, 170430, 170455, 170456, 170458, 170482, 170483, 170504, 170525, 170529, 170544, 170562, 170563, 170579, 170600, 170603, 170617, 170627, 170649, 170651, 170653, 170718, 170720, 170721, 170730, 170769, 170772, 170785, 170786, 170797, 170800, 170846, 170850, 170861, 170866, 170871, 170877, 170915, 170916, 170924, 170939, 170979, 170983, 170984, 170988, 170994, 171015, 171050, 171067, 171080, 171088, 171090, 171091, 171095, 171111, 171114, 171116, 171133, 171150, 171156, 171159, 171176, 171199, 171215, 171216, 171225, 171228, 171231, 171234, 171236, 171242, 171256, 171301, 171306, 171315, 171327, 171328, 171335, 171338, 171344, 171351, 171355, 171373, 171393, 171398, 171409, 171411, 171419, 171424, 171429, 171438, 171461, 171467, 171482, 171484, 171540, 171546, 171550, 171564, 171584, 171589, 171598, 171615, 171635, 171637, 171655, 171676, 171705, 171722, 171748, 171780, 171807, 171814, 171818, 171831, 171840, 171841, 171852, 171871, 171876, 171888, 171889, 171914, 171924, 171926, 171928, 171933, 171956, 171964, 171968, 171986, 172009, 172022, 172025, 172032, 172034, 172037, 172046, 172047, 172050, 172052, 172063, 172071, 172076, 172091, 172104, 172111, 172129, 172145, 172146, 172148, 172152, 172165, 172175, 172186, 172214, 172220, 172230, 172232, 172246, 172256, 172274, 172281, 172291, 172296, 172297, 172304, 172307, 172327, 172333, 172342, 172364, 172368, 172370, 172375, 172401, 172403, 172407, 172415, 172425, 172475, 172479, 172493, 172496, 172498, 172510, 172511, 172538, 172571, 172577, 172579, 172581, 172582, 172612, 172618, 172637, 172652, 172654, 172664, 172666, 172684, 172694, 172695, 172700, 172709, 172714, 172716, 172718, 172722, 172740, 172748, 172755, 172756, 172766, 172815, 172822, 172826, 172828, 172845, 172846, 172855, 172865, 172891, 172893, 172898, 172906, 172907, 172927, 172928, 172942, 172949, 172960, 172962, 172970, 172987, 172991, 173002, 173005, 173020, 173047, 173050, 173051, 173062, 173064, 173090, 173093, 173110, 173115, 173125, 173128, 173175, 173192, 173208, 173212, 173224, 173243, 173248, 173255, 173266, 173271, 173279, 173291, 173296, 173307, 173314, 173316, 173321, 173324, 173350, 173351, 173370, 173382, 173411, 173427, 173476, 173488, 173495, 173497, 173524, 173535, 173542, 173580, 173584, 173585, 173590, 173593, 173601, 173607, 173611, 173613, 173628, 173630, 173631, 173647, 173649, 173652, 173664, 173673, 173674, 173679, 173682, 173704, 173716, 173724, 173728, 173730, 173736, 173754, 173780, 173783, 173796, 173800, 173804, 173806, 173807, 173832, 173839, 173851, 173854, 173858, 173888, 173924, 173927, 173929, 173935, 173938, 173944, 173945, 173960, 173968, 173981, 173987, 173992, 173998, 174018, 174020, 174032, 174040, 174043, 174051, 174056, 174063, 174073, 174090, 174102, 174112, 174120, 174132, 174138, 174147, 174150, 174163, 174171, 174181, 174182, 174189, 174196, 174201, 174202, 174209, 174215, 174216, 174224, 174233, 174242, 174276, 174283, 174295, 174298, 174308, 174309, 174319, 174325, 174327, 174330, 174343, 174351, 174353, 174355, 174368, 174370, 174373, 174386, 174391, 174394, 174395, 174413, 174419, 174421, 174426, 174461, 174463, 174474, 174478, 174486, 174491, 174503, 174515, 174524, 174525, 174533, 174540, 174543, 174545, 174571, 174575, 174592, 174597, 174603, 174626, 174640, 174645, 174655, 174662, 174666, 174675, 174684, 174685, 174693, 174695, 174702, 174704, 174711, 174714, 174717, 174732, 174744, 174752, 174754, 174760, 174767, 174788, 174789, 174794, 174824, 174826, 174829, 174844, 174855, 174856, 174864, 174865, 174871, 174887, 174904, 174907, 174912, 174921, 174924, 174926, 174938, 174964, 174975, 174981, 174995, 175017, 175023, 175024, 175029, 175032, 175034, 175044, 175052, 175057, 175069, 175070, 175071, 175081, 175083, 175109, 175120, 175127, 175128, 175130, 175133, 175149, 175166, 175183, 175202, 175221, 175224, 175232, 175246, 175254, 175255, 175262, 175266, 175273, 175290, 175304, 175325, 175331, 175339, 175343, 175360, 175370, 175374, 175387, 175390, 175398, 175406, 175412, 175413, 175424, 175428, 175431, 175441, 175444, 175456, 175465, 175479, 175485, 175491, 175495, 175499, 175502, 175507, 175509, 175515, 175526, 175534, 175537, 175540, 175548, 175552, 175558, 175586, 175587, 175594, 175614, 175622, 175625, 175641, 175642, 175643, 175648, 175652, 175653, 175669, 175674, 175681, 175686, 175689, 175696, 175697, 175710, 175714, 175715, 175720, 175732, 175738, 175750, 175754, 175759, 175761, 175769, 175777, 175778, 175789, 175796, 175800, 175804, 175820, 175821, 175837, 175856, 175873, 175878, 175883, 175891, 175897, 175912, 175925, 175931, 175935, 175942, 175943, 175958, 175964, 175972, 175985, 175987, 175990, 175999, 176008, 176011, 176012, 176014, 176017, 176026, 176027, 176037, 176046, 176047, 176050, 176059, 176063, 176069, 176073, 176077, 176079, 176101, 176117, 176118, 176123, 176134, 176137, 176138, 176140, 176146, 176157, 176162, 176175, 176178, 176185, 176186, 176189, 176227, 176239, 176240, 176244, 176253, 176262, 176270, 176279, 176280, 176285, 176286, 176293, 176296, 176317, 176319, 176321, 176335, 176341, 176356, 176357, 176360, 176389, 176410, 176452, 176458, 176467, 176469, 176486, 176493, 176514, 176520, 176544, 176552, 176557, 176570, 176580, 176602, 176609, 176616, 176634, 176647, 176648, 176657, 176663, 176673, 176681, 176683, 176684, 176689, 176690, 176696, 176711, 176716, 176723, 176724, 176727, 176729, 176731, 176732, 176751, 176753, 176756, 176760, 176761, 176795, 176796, 176810, 176811, 176813, 176814, 176831, 176836, 176839, 176862, 176863, 176867, 176871, 176893, 176897, 176900, 176904, 176917, 176924, 176931, 176949, 176965, 176967, 176969, 176972, 176981, 176986, 176992, 176998, 177017, 177018, 177027, 177035, 177057, 177064, 177072, 177075, 177083, 177087, 177102, 177107, 177114, 177119, 177120, 177121, 177125, 177147, 177154, 177163, 177181, 177189, 177199, 177211, 177212, 177216, 177226, 177240, 177265, 177271, 177273, 177277, 177285, 177287, 177295, 177304, 177305, 177307, 177331, 177351, 177366, 177368, 177374, 177380, 177387, 177398, 177407, 177408, 177413, 177420, 177426, 177437, 177457, 177465, 177482, 177484, 177487, 177499, 177522, 177526, 177531, 177543, 177550, 177566, 177578, 177595, 177596, 177599, 177616, 177625, 177629, 177633, 177639, 177647, 177648, 177651, 177665, 177669, 177675, 177705, 177711, 177720, 177722, 177727, 177728, 177733, 177761, 177769, 177773, 177775, 177783, 177787, 177791, 177792, 177794, 177810, 177824, 177825, 177828, 177839, 177858, 177895, 177896, 177902, 177905, 177906, 177907, 177916, 177927, 177929, 177937, 177945, 177951, 177955, 177974, 177989, 177995, 178002, 178013, 178025, 178033, 178037, 178050, 178054, 178074, 178100, 178107, 178109, 178120, 178134, 178136, 178140, 178142, 178147, 178202, 178207, 178215, 178222, 178241, 178244, 178249, 178251, 178255, 178272, 178295, 178309, 178312, 178319, 178322, 178326, 178341, 178344, 178353, 178356, 178370, 178383, 178385, 178390, 178416, 178417, 178421, 178429, 178431, 178449, 178469, 178470, 178472, 178478, 178487, 178489, 178505, 178506, 178510, 178517, 178530, 178537, 178551, 178556, 178564, 178587, 178596, 178615, 178623, 178628, 178644, 178649, 178660, 178665, 178686, 178688, 178709, 178724, 178745, 178749, 178764, 178771, 178778, 178780, 178792, 178811, 178815, 178818, 178829, 178835, 178841, 178843, 178866, 178915, 178922, 178931, 178934, 178946, 178948, 178951, 178953, 178960, 178976, 178983, 179008, 179010, 179013, 179016, 179048, 179059, 179088, 179112, 179117, 179135, 179136, 179137, 179171, 179186, 179203, 179262, 179271, 179285, 179291, 179313, 179314, 179319, 179337, 179352, 179358, 179378, 179400, 179413, 179423, 179428, 179436, 179444, 179446, 179462, 179468, 179481, 179484, 179488, 179498, 179508, 179509, 179512, 179524, 179533, 179534, 179557, 179565, 179569, 179574, 179579, 179580, 179594, 179625, 179627, 179633, 179638, 179641, 179646, 179659, 179666, 179668, 179671, 179673, 179681, 179704, 179715, 179717, 179720, 179731, 179735, 179743, 179758, 179759, 179761, 179772, 179781, 179813, 179824, 179869, 179875, 179877, 179896, 179915, 179949, 179951, 179953, 179955, 179973, 179981, 179985, 180007, 180010, 180019, 180032, 180039, 180052, 180060, 180062, 180079, 180096, 180117, 180123, 180137, 180138, 180142, 180150, 180162, 180181, 180187, 180190, 180195, 180211, 180212, 180220, 180239, 180246, 180247, 180262, 180271, 180272, 180277, 180280, 180283, 180284, 180296, 180299, 180303, 180309, 180318, 180339, 180342, 180362, 180374, 180382, 180401, 180407, 180418, 180419, 180439, 180446, 180449, 180455, 180477, 180497, 180505, 180522, 180532, 180539, 180551, 180553, 180572, 180599, 180603, 180607, 180609, 180624, 180632, 180647, 180656, 180667, 180686, 180695, 180714, 180733, 180752, 180758, 180771, 180778, 180779, 180799, 180804, 180805, 180807, 180837, 180859, 180868, 180869, 180871, 180881, 180884, 180886, 180899, 180911, 180916, 180920, 180928, 180931, 180957, 180976, 180980, 180985, 180988, 181014, 181015, 181020, 181031, 181032, 181033, 181054, 181063, 181065, 181070, 181081, 181087, 181091, 181096, 181130, 181132, 181139, 181153, 181196, 181200, 181219, 181220, 181232, 181242, 181265, 181280, 181282, 181284, 181291, 181301, 181307, 181311, 181313, 181317, 181322, 181337, 181342, 181344, 181363, 181370, 181372, 181382, 181388, 181408, 181413, 181466, 181485, 181508, 181528, 181546, 181547, 181553, 181557, 181561, 181572, 181576, 181580, 181589, 181597, 181598, 181608, 181641, 181651, 181652, 181655, 181657, 181659, 181661, 181666, 181667, 181675, 181677, 181691, 181705, 181712, 181716, 181717, 181721, 181755, 181758, 181761, 181762, 181772, 181773, 181776, 181810, 181814, 181820, 181822, 181824, 181828, 181855, 181863, 181896, 181901, 181902, 181916, 181920, 181929, 181934, 181943, 181953, 181970, 181974, 181992, 182013, 182028, 182042, 182062, 182070, 182074, 182089, 182100, 182108, 182117, 182123, 182128, 182131, 182136, 182140, 182158, 182162, 182163, 182177, 182178, 182186, 182187, 182191, 182200, 182211, 182217, 182218, 182227, 182237, 182246, 182254, 182268, 182273, 182274, 182276, 182302, 182303, 182308, 182313, 182314, 182323, 182332, 182342, 182344, 182355, 182360, 182370, 182378, 182380, 182386, 182387, 182388, 182395, 182401, 182402, 182416, 182423, 182437, 182451, 182460, 182467, 182470, 182494, 182504, 182521, 182526, 182533, 182539, 182540, 182541, 182543, 182556, 182566, 182567, 182570, 182581, 182590, 182606, 182609, 182614, 182615, 182616, 182629, 182643, 182655, 182656, 182661, 182668, 182675, 182677, 182687, 182689, 182691, 182714, 182715, 182740, 182750, 182752, 182757, 182771, 182792, 182809, 182812, 182823, 182826, 182828, 182833, 182836, 182854, 182855, 182862, 182863, 182866, 182896, 182898, 182907, 182926, 182944, 182971, 182975, 182977, 182979, 182985, 182998, 183000, 183009, 183013, 183034, 183041, 183043, 183061, 183066, 183077, 183081, 183083, 183092, 183096, 183105, 183110, 183111, 183146, 183151, 183155, 183162, 183168, 183169, 183170, 183171, 183173, 183175, 183203, 183205, 183213, 183224, 183241, 183248, 183257, 183258, 183273, 183279, 183284, 183285, 183304, 183315, 183319, 183327, 183342, 183345, 183355, 183356, 183358, 183374, 183384, 183390, 183404, 183410, 183425, 183445, 183473, 183479, 183486, 183511, 183513, 183522, 183523, 183532, 183542, 183557, 183575, 183580, 183585, 183589, 183594, 183597, 183598, 183606, 183608, 183611, 183612, 183616, 183618, 183620, 183627, 183638, 183639, 183657, 183678, 183686, 183701, 183709, 183710, 183735, 183739, 183751, 183765, 183778, 183780, 183784, 183786, 183789, 183800, 183801, 183802, 183804, 183810, 183811, 183824, 183829, 183845, 183850, 183854, 183869, 183870, 183884, 183885, 183887, 183891, 183892, 183893, 183898, 183902, 183915, 183916, 183923, 183930, 183945, 183958, 183965, 183970, 183973, 184005, 184007, 184016, 184018, 184026, 184045, 184078, 184099, 184101, 184102, 184105, 184112, 184117, 184120, 184121, 184128, 184135, 184147, 184169, 184176, 184183, 184198, 184207, 184216, 184242, 184255, 184271, 184277, 184285, 184303, 184306, 184307, 184308, 184321, 184335, 184362, 184370, 184378, 184400, 184402, 184416, 184424, 184425, 184428, 184440, 184456, 184466, 184477, 184493, 184498, 184506, 184513, 184542, 184543, 184553, 184556, 184568, 184579, 184581, 184589, 184596, 184598, 184620, 184625, 184632, 184655, 184659, 184665, 184678, 184682, 184687, 184693, 184698, 184699, 184702, 184710, 184723, 184737, 184756, 184759, 184779, 184784, 184787, 184801, 184806, 184813, 184823, 184831, 184833, 184837, 184839, 184846, 184857, 184872, 184882, 184883, 184889, 184901, 184924, 184942, 184945, 184948, 184964, 184965, 184975, 184986, 185001, 185019, 185027, 185039, 185041, 185042, 185053, 185057, 185061, 185063, 185072, 185079, 185097, 185099, 185106, 185127, 185129, 185132, 185143, 185145, 185177, 185195, 185203, 185216, 185251, 185254, 185267, 185279, 185283, 185287, 185291, 185325, 185330, 185336, 185354, 185357, 185359, 185360, 185366, 185369, 185384, 185385, 185394, 185397, 185399, 185405, 185407, 185408, 185410, 185413, 185426, 185436, 185437, 185452, 185459, 185465, 185480, 185497, 185503, 185520, 185528, 185537, 185551, 185554, 185556, 185567, 185575, 185582, 185602, 185607, 185616, 185619, 185621, 185624, 185647, 185660, 185670, 185673, 185691, 185695, 185732, 185744, 185749, 185764, 185769, 185798, 185800, 185814, 185821, 185832, 185836, 185846, 185847, 185848, 185859, 185866, 185885, 185908, 185912, 185936, 185942, 185948, 185952, 185957, 186009, 186014, 186030, 186032, 186035, 186061, 186067, 186078, 186087, 186096, 186110, 186117, 186126, 186130, 186144, 186145, 186151, 186159, 186172, 186183, 186188, 186191, 186203, 186212, 186213, 186221, 186239, 186256, 186266, 186269, 186272, 186294, 186303, 186308, 186314, 186324, 186325, 186338, 186346, 186350, 186359, 186370, 186376, 186385, 186386, 186396, 186410, 186415, 186416, 186420, 186434, 186446, 186451, 186452, 186454, 186473, 186489, 186495, 186534, 186539, 186556, 186565, 186569, 186573, 186601, 186611, 186624, 186634, 186648, 186666, 186677, 186696, 186720, 186733, 186784, 186785, 186787, 186788, 186791, 186792, 186805, 186808, 186809, 186813, 186815, 186819, 186820, 186824, 186830, 186831, 186845, 186849, 186865, 186884, 186886, 186888, 186890, 186909, 186916, 186925, 186932, 186934, 186943, 186950, 186954, 186959, 186982, 186991, 186993, 186995, 187033, 187046, 187052, 187053, 187067, 187069, 187073, 187087, 187088, 187089, 187097, 187098, 187112, 187115, 187119, 187124, 187127, 187158, 187160, 187161, 187164, 187167, 187188, 187203, 187215, 187221, 187226, 187240, 187248, 187251, 187264, 187279, 187292, 187294, 187295, 187308, 187311, 187322, 187327, 187329, 187332, 187336, 187346, 187352, 187355, 187356, 187370, 187376, 187392, 187397, 187411, 187415, 187424, 187440, 187450, 187454, 187458, 187462, 187465, 187479, 187487, 187493, 187502, 187505, 187508, 187513, 187538, 187539, 187540, 187551, 187560, 187563, 187570, 187577, 187581, 187584, 187589, 187601, 187618, 187625, 187629, 187635, 187636, 187643, 187649, 187652, 187653, 187656, 187666, 187686, 187693, 187702, 187711, 187715, 187717, 187720, 187724, 187728, 187730, 187746, 187748, 187749, 187770, 187778, 187794, 187795, 187802, 187821, 187830, 187847, 187861, 187870, 187873, 187881, 187891, 187901, 187919, 187934, 187937, 187969, 187981, 187983, 187999, 188003, 188008, 188009, 188027, 188038, 188041, 188044, 188048, 188064, 188067, 188069, 188070, 188073, 188076, 188081, 188096, 188108, 188119, 188136, 188146, 188154, 188161, 188166, 188171, 188172, 188186, 188189, 188195, 188199, 188220, 188236, 188241, 188245, 188246, 188260, 188274, 188278, 188280, 188291, 188293, 188300, 188303, 188307, 188325, 188328, 188330, 188331, 188335, 188343, 188352, 188377, 188386, 188391, 188398, 188401, 188403, 188409, 188432, 188436, 188465, 188467, 188476, 188488, 188503, 188505, 188507, 188515, 188519, 188535, 188540, 188544, 188545, 188557, 188563, 188568, 188569, 188571, 188576, 188610, 188612, 188615, 188616, 188618, 188626, 188644, 188650, 188661, 188669, 188675, 188682, 188693, 188694, 188696, 188709, 188711, 188729, 188736, 188738, 188767, 188772, 188774, 188786, 188793, 188798, 188808, 188809, 188815, 188823, 188834, 188842, 188856, 188861, 188864, 188872, 188877, 188888, 188900, 188903, 188905, 188909, 188914, 188917, 188923, 188925, 188928, 188941, 188942, 188950, 188957, 188961, 188972, 188976, 188982, 188986, 189013, 189017, 189027, 189041, 189072, 189092, 189098, 189107, 189123, 189148, 189183, 189185, 189186, 189203, 189216, 189219, 189225, 189238, 189240, 189241, 189251, 189253, 189257, 189265, 189269, 189277, 189282, 189346, 189368, 189382, 189385, 189399, 189404, 189461, 189462, 189468, 189487, 189498, 189502, 189511, 189528, 189530, 189551, 189564, 189565, 189574, 189589, 189590, 189607, 189610, 189620, 189623, 189632, 189656, 189664, 189666, 189670, 189674, 189679, 189680, 189702, 189710, 189719, 189721, 189728, 189740, 189749, 189759, 189762, 189763, 189765, 189775, 189777, 189792, 189802, 189809, 189811, 189824, 189830, 189832, 189834, 189838, 189843, 189850, 189878, 189885, 189888, 189890, 189897, 189911, 189916, 189922, 189924, 189933, 189944, 189950, 189956, 189974, 189975, 189985, 190015, 190020, 190023, 190027, 190040, 190044, 190057, 190060, 190067, 190072, 190078, 190088, 190105, 190107, 190115, 190122, 190139, 190143, 190174, 190179, 190194, 190205, 190226, 190227, 190228, 190231, 190257, 190273, 190290, 190293, 190297, 190303, 190305, 190319, 190324, 190325, 190330, 190333, 190340, 190350, 190367, 190368, 190385, 190387, 190391, 190401, 190403, 190406, 190418, 190423, 190429, 190450, 190457, 190466, 190469, 190482, 190483, 190487, 190508, 190511, 190514, 190525, 190532, 190539, 190541, 190543, 190554, 190561, 190562, 190568, 190577, 190591, 190621, 190625, 190628, 190636, 190650, 190660, 190661, 190682, 190709, 190719, 190728, 190729, 190739, 190747, 190748, 190759, 190761, 190762, 190763, 190765, 190767, 190772, 190776, 190777, 190784, 190786, 190805, 190817, 190823, 190836, 190885, 190889, 190895, 190903, 190909, 190911, 190912, 190916, 190942, 190963, 190964, 190968, 190987, 190997, 191001, 191002, 191024, 191025, 191027, 191062, 191069, 191073, 191088, 191098, 191103, 191117, 191118, 191129, 191130, 191137, 191149, 191161, 191175, 191177, 191188, 191196, 191204, 191227, 191230, 191243, 191256, 191260, 191269, 191271, 191276, 191277, 191283, 191288, 191291, 191295, 191299, 191318, 191324, 191335, 191342, 191355, 191357, 191364, 191367, 191380, 191385, 191389, 191394, 191411, 191417, 191429, 191444, 191446, 191451, 191460, 191479, 191497, 191502, 191503, 191524, 191529, 191535, 191540, 191544, 191547, 191565, 191571, 191581, 191628, 191648, 191659, 191681, 191703, 191712, 191722, 191731, 191754, 191765, 191776, 191777, 191779, 191782, 191800, 191803, 191806, 191807, 191814, 191822, 191834, 191841, 191856, 191858, 191878, 191893, 191910, 191914, 191917, 191921, 191930, 191935, 191948, 191954, 191957, 191965, 191978, 191982, 191983, 192002, 192010, 192017, 192022, 192039, 192052, 192053, 192060, 192065, 192107, 192130, 192133, 192149, 192150, 192161, 192182, 192200, 192201, 192203, 192208, 192213, 192225, 192230, 192236, 192237, 192251, 192256, 192257, 192258, 192259, 192262, 192273, 192283, 192286, 192290, 192302, 192321, 192323, 192325, 192337, 192344, 192349, 192355, 192360, 192381, 192384, 192386, 192387, 192390, 192397, 192399, 192409, 192413, 192443, 192453, 192455, 192485, 192504, 192506, 192507, 192515, 192563, 192565, 192569, 192572, 192583, 192588, 192589, 192591, 192596, 192614, 192626, 192644, 192652, 192654, 192663, 192664, 192670, 192684, 192695, 192702, 192704, 192711, 192712, 192732, 192740, 192755, 192766, 192768, 192771, 192773, 192776, 192779, 192791, 192793, 192806, 192812, 192813, 192825, 192829, 192835, 192838, 192862, 192866, 192869, 192878, 192884, 192894, 192900, 192916, 192923, 192924, 192930, 192932, 192936, 192939, 192945, 192963, 192964, 192965, 192973, 192976, 192978, 192982, 192983, 192984, 193012, 193026, 193036, 193038, 193042, 193043, 193047, 193051, 193061, 193075, 193089, 193090, 193106, 193116, 193122, 193125, 193130, 193132, 193144, 193152, 193158, 193165, 193166, 193172, 193188, 193199, 193215, 193216, 193219, 193231, 193235, 193237, 193241, 193246, 193249, 193260, 193285, 193290, 193298, 193304, 193335, 193344, 193366, 193372, 193374, 193379, 193380, 193416, 193425, 193434, 193451, 193453, 193459, 193477, 193479, 193490, 193494, 193524, 193530, 193537, 193553, 193565, 193568, 193575, 193583, 193586, 193598, 193622, 193626, 193650, 193666, 193672, 193689, 193701, 193720, 193741, 193748, 193755, 193769, 193773, 193775, 193787, 193815, 193818, 193820, 193830, 193855, 193863, 193868, 193871, 193882, 193884, 193895, 193898, 193920, 193945, 193949, 193952, 193960, 193961, 193995, 194004, 194024, 194031, 194049, 194055, 194059, 194065, 194068, 194087, 194095, 194096, 194097, 194102, 194138, 194141, 194167, 194186, 194189, 194197, 194200, 194205, 194231, 194243, 194247, 194252, 194259, 194260, 194287, 194290, 194293, 194304, 194312, 194325, 194342, 194352, 194360, 194404, 194417, 194426, 194431, 194456, 194472, 194475, 194490, 194501, 194504, 194514, 194534, 194537, 194538, 194548, 194561, 194580, 194590, 194591, 194604, 194608, 194612, 194630, 194636, 194638, 194652, 194654, 194668, 194682, 194690, 194698, 194710, 194723, 194726, 194733, 194740, 194746, 194748, 194772, 194773, 194788, 194791, 194809, 194827, 194828, 194829, 194848, 194850, 194861, 194864, 194891, 194894, 194895, 194897, 194901, 194905, 194908, 194924, 194940, 194951, 194954, 194960, 194962, 194981, 194987, 194995, 195000, 195023, 195025, 195066, 195075, 195096, 195105, 195118, 195124, 195136, 195143, 195148, 195161, 195176, 195179, 195184, 195189, 195199, 195201, 195212, 195216, 195248, 195253, 195258, 195262, 195282, 195284, 195298, 195322, 195327, 195329, 195337, 195343, 195366, 195372, 195385, 195394, 195411, 195418, 195433, 195437, 195447, 195453, 195462, 195467, 195481, 195486, 195488, 195491, 195505, 195507, 195508, 195516, 195519, 195520, 195532, 195545, 195554, 195555, 195562, 195573, 195576, 195584, 195595, 195602, 195607, 195612, 195617, 195635, 195638, 195661, 195668, 195678, 195681, 195686, 195690, 195727, 195733, 195734, 195739, 195744, 195750, 195755, 195767, 195770, 195779, 195784, 195805, 195808, 195813, 195820, 195821, 195833, 195835, 195844, 195860, 195868, 195876, 195881, 195891, 195892, 195897, 195914, 195919, 195922, 195946, 195949, 195956, 195978, 195981, 195985, 195994, 196001, 196013, 196025, 196029, 196044, 196061, 196084, 196107, 196116, 196119, 196123, 196125, 196126, 196164, 196174, 196178, 196193, 196227, 196232, 196234, 196243, 196266, 196269, 196278, 196280, 196288, 196307, 196308, 196328, 196332, 196338, 196342, 196344, 196348, 196373, 196385, 196386, 196388, 196396, 196403, 196420, 196456, 196467, 196482, 196491, 196501, 196504, 196508, 196514, 196529, 196545, 196554, 196564, 196571, 196584, 196610, 196621, 196626, 196627, 196630, 196643, 196673, 196674, 196675, 196678, 196690, 196707, 196725, 196736, 196742, 196745, 196763, 196771, 196773, 196782, 196788, 196791, 196797, 196805, 196816, 196827, 196857, 196858, 196894, 196898, 196899, 196912, 196943, 196945, 196963, 196971, 196975, 196994, 197012, 197015, 197023, 197036, 197038, 197050, 197054, 197058, 197060, 197069, 197077, 197080, 197093, 197113, 197114, 197130, 197148, 197156, 197163, 197176, 197182, 197184, 197189, 197200, 197202, 197207, 197218, 197240, 197252, 197284, 197286, 197288, 197290, 197292, 197303, 197311, 197319, 197322, 197332, 197344, 197353, 197365, 197369, 197371, 197372, 197380, 197384, 197387, 197389, 197397, 197399, 197418, 197422, 197424, 197429, 197457, 197462, 197481, 197484, 197492, 197495, 197496, 197514, 197522, 197530, 197552, 197553, 197558, 197565, 197583, 197613, 197618, 197642, 197651, 197656, 197665, 197666, 197672, 197683, 197688, 197689, 197702, 197711, 197714, 197719, 197728, 197731, 197732, 197747, 197748, 197752, 197757, 197764, 197810, 197816, 197827, 197836, 197838, 197850, 197860, 197865, 197867, 197871, 197875, 197883, 197886, 197904, 197905, 197918, 197919, 197923, 197932, 197967, 197975, 197988, 197997, 198000, 198003, 198019, 198050, 198068, 198069, 198078, 198087, 198091, 198096, 198097, 198103, 198124, 198145, 198146, 198148, 198163, 198170, 198183, 198186, 198188, 198196, 198197, 198200, 198202, 198203, 198211, 198216, 198223, 198237, 198244, 198258, 198259, 198262, 198265, 198270, 198277, 198282, 198286, 198316, 198320, 198330, 198341, 198346, 198362, 198385, 198388, 198393, 198400, 198422, 198425, 198431, 198452, 198459, 198478, 198493, 198526, 198542, 198546, 198554, 198559, 198581, 198587, 198606, 198613, 198614, 198616, 198619, 198632, 198634, 198654, 198660, 198663, 198664, 198668, 198681, 198686, 198692, 198727, 198728, 198741, 198744, 198751, 198759, 198766, 198769, 198774, 198790, 198797, 198801, 198813, 198815, 198822, 198824, 198825, 198830, 198841, 198863, 198867, 198870, 198873, 198901, 198914, 198943, 198953, 198965, 198986, 198992, 198996, 198997, 199005, 199011, 199018, 199029, 199031, 199039, 199046, 199058, 199067, 199070, 199085, 199095, 199114, 199116, 199136, 199143, 199170, 199172, 199177, 199191, 199193, 199198, 199224, 199227, 199240, 199244, 199251, 199256, 199265, 199266, 199268, 199278, 199281, 199288, 199298, 199303, 199307, 199314, 199316, 199326, 199336, 199343, 199346, 199352, 199362, 199368, 199378, 199381, 199416, 199419, 199426, 199439, 199441, 199444, 199448, 199450, 199452, 199471, 199472, 199480, 199484, 199495, 199499, 199501, 199512, 199529, 199539, 199545, 199546, 199551, 199555, 199566, 199572, 199590, 199591, 199596, 199599, 199600, 199609, 199625, 199655, 199665, 199674, 199688, 199698, 199713, 199720, 199725, 199735, 199739, 199741, 199753, 199763, 199765, 199768, 199806, 199816, 199832, 199847, 199856, 199864, 199883, 199884, 199900, 199903, 199908, 199915, 199925, 199934, 199947, 199949, 199963, 199995, 199998, 200017, 200040, 200042, 200047, 200061, 200068, 200089, 200098, 200109, 200117, 200127, 200136, 200153, 200187, 200190, 200192, 200198, 200199, 200207, 200220, 200227, 200235, 200246, 200289, 200295, 200316, 200318, 200323, 200332, 200352, 200355, 200360, 200363, 200374, 200381, 200408, 200418, 200419, 200426, 200445, 200450, 200453, 200468, 200469, 200471, 200474, 200479, 200492, 200496, 200497, 200500, 200508, 200511, 200515, 200525, 200559, 200560, 200574, 200576, 200577, 200593, 200598, 200603, 200618, 200639, 200641, 200652, 200671, 200677, 200679, 200681, 200689, 200700, 200733, 200734, 200749, 200775, 200783, 200790, 200802, 200808, 200818, 200819, 200825, 200835, 200853, 200862, 200863, 200876, 200878, 200892, 200904, 200922, 200928, 200939, 200947, 200949, 200960, 200967, 200968, 200973, 200992, 200997, 201017, 201022, 201080, 201099, 201105, 201112, 201117, 201122, 201127, 201138, 201141, 201145, 201155, 201175, 201177, 201178, 201179, 201186, 201196, 201197, 201204, 201217, 201259, 201263, 201268, 201273, 201292, 201293, 201299, 201310, 201318, 201319, 201328, 201344, 201375, 201393, 201398, 201410, 201413, 201435, 201454, 201466, 201481, 201490, 201495, 201498, 201513, 201519, 201520, 201522, 201531, 201554, 201556, 201560, 201569, 201579, 201595, 201599, 201603, 201613, 201617, 201624, 201631, 201635, 201657, 201664, 201680, 201682, 201686, 201689, 201699, 201723, 201729, 201732, 201734, 201737, 201742, 201743, 201763, 201764, 201766, 201769, 201785, 201799, 201822, 201844, 201861, 201865, 201871, 201872, 201882, 201901, 201908, 201924, 201928, 201930, 201954, 201965, 201981, 201986, 201988, 201991, 202011, 202027, 202033, 202044, 202046, 202051, 202053, 202056, 202071, 202091, 202106, 202115, 202117, 202125, 202153, 202168, 202182, 202184, 202188, 202202, 202203, 202206, 202210, 202214, 202220, 202226, 202239, 202242, 202284, 202286, 202296, 202322, 202344, 202366, 202373, 202397, 202415, 202416, 202450, 202452, 202466, 202467, 202473, 202480, 202483, 202496, 202498, 202508, 202516, 202521, 202558, 202559, 202560, 202565, 202570, 202642, 202652, 202662, 202673, 202682, 202683, 202692, 202699, 202720, 202721, 202729, 202733, 202738, 202745, 202752, 202812, 202822, 202856, 202871, 202872, 202874, 202878, 202903, 202920, 202930, 202937, 202950, 202952, 202956, 202959, 202980, 202984, 202989, 202994, 203003, 203015, 203027, 203034, 203039, 203051, 203055, 203061, 203067, 203070, 203072, 203076, 203078, 203098, 203126, 203138, 203139, 203169, 203173, 203180, 203182, 203204, 203233, 203240, 203258, 203260, 203263, 203277, 203279, 203289, 203301, 203313, 203319, 203322, 203334, 203353, 203357, 203392, 203393, 203408, 203435, 203445, 203451, 203463, 203482, 203488, 203492, 203505, 203518, 203525, 203542, 203554, 203570, 203580, 203628, 203635, 203637, 203642, 203653, 203674, 203697, 203710, 203715, 203717, 203735, 203761, 203763, 203776, 203777, 203783, 203784, 203797, 203821, 203828, 203833, 203834, 203836, 203849, 203871, 203894, 203897, 203910, 203914, 203924, 203943, 203953, 203992, 204018, 204021, 204033, 204042, 204046, 204049, 204052, 204057, 204062, 204074, 204082, 204085, 204098, 204116, 204123, 204145, 204160, 204163, 204172, 204196, 204205, 204209, 204219, 204226, 204235, 204241, 204247, 204254, 204277, 204304, 204322, 204325, 204338, 204374, 204375, 204377, 204389, 204397, 204402, 204405, 204410, 204415, 204425, 204441, 204447, 204450, 204461, 204470, 204486, 204494, 204497, 204501, 204515, 204516, 204518, 204527, 204536, 204556, 204567, 204577, 204584, 204590, 204596, 204600, 204621, 204629, 204640, 204641, 204645, 204648, 204653, 204662, 204668, 204682, 204692, 204704, 204734, 204742, 204751, 204752, 204756, 204773, 204788, 204792, 204816, 204817, 204829, 204838, 204840, 204862, 204868, 204900, 204908, 204928, 204935, 204984, 204990, 204991, 205004, 205005, 205011, 205019, 205024, 205036, 205047, 205051, 205066, 205072, 205100, 205109, 205145, 205152, 205153, 205175, 205188, 205195, 205204, 205218, 205235, 205246, 205249, 205256, 205262, 205267, 205288, 205296, 205309, 205337, 205338, 205339, 205343, 205359, 205390, 205396, 205407, 205410, 205418, 205422, 205424, 205428, 205440, 205469, 205474, 205479, 205493, 205499, 205504, 205527, 205528, 205555, 205562, 205570, 205580, 205581, 205584, 205601, 205604, 205607, 205643, 205644, 205649, 205653, 205659, 205704, 205706, 205707, 205708, 205712, 205724, 205726, 205730, 205733, 205735, 205759, 205767, 205803, 205822, 205829, 205830, 205838, 205839, 205844, 205852, 205860, 205865, 205884, 205894, 205895, 205896, 205903, 205934, 205939, 205940, 205949, 205950, 205970, 205975, 205987, 206002, 206008, 206010, 206046, 206049, 206051, 206052, 206054, 206063, 206066, 206074, 206088, 206125, 206129, 206139, 206190, 206199, 206206, 206215, 206232, 206250, 206253, 206280, 206291, 206297, 206298, 206307, 206322, 206325, 206339, 206343, 206351, 206354, 206357, 206359, 206365, 206369, 206399, 206459, 206470, 206487, 206492, 206506, 206512, 206520, 206521, 206532, 206535, 206541, 206553, 206560, 206565, 206577, 206599, 206600, 206609, 206659, 206667, 206671, 206681, 206682, 206686, 206699, 206721, 206775, 206777, 206815, 206823, 206827, 206833, 206861, 206862, 206874, 206878, 206888, 206889, 206891, 206903, 206916, 206927, 206947, 206948, 206951, 206964, 206974, 206983, 206998, 207022, 207025, 207032, 207058, 207064, 207066, 207103, 207107, 207113, 207120, 207140, 207157, 207172, 207173, 207185, 207201, 207202, 207207, 207213, 207246, 207253, 207267, 207277, 207281, 207284, 207301, 207321, 207342, 207352, 207367, 207375, 207383, 207385, 207391, 207392, 207400, 207415, 207418, 207438, 207449, 207473, 207489, 207505, 207513, 207537, 207540, 207546, 207564, 207568, 207578, 207611, 207627, 207637, 207665, 207668, 207676, 207677, 207685, 207779, 207782, 207789, 207791, 207817, 207824, 207841, 207847, 207848, 207853, 207875, 207887, 207923, 207937, 207938, 207940, 207946, 207948, 207982, 207988, 208003, 208019, 208043, 208049, 208067, 208068, 208103, 208106, 208109, 208117, 208122, 208137, 208165, 208174, 208180, 208249, 208266, 208277, 208291, 208302, 208311, 208321, 208326, 208330, 208353, 208358, 208366, 208378, 208379, 208391, 208395, 208405, 208406, 208407, 208415, 208426, 208431, 208447, 208451, 208452, 208463, 208470, 208478, 208503, 208506, 208513, 208528, 208534, 208570, 208577, 208591, 208598, 208613, 208630, 208640, 208656, 208657, 208668, 208703, 208711, 208725, 208726, 208748, 208778, 208785, 208802, 208809, 208826, 208843, 208862, 208869, 208872, 208874, 208875, 208881, 208882, 208899, 208908, 208919, 208946, 208965, 208978, 208994, 208999, 209022, 209034, 209040, 209057, 209067, 209101, 209103, 209109, 209131, 209137, 209146, 209149, 209174, 209182, 209184, 209205, 209212, 209213, 209214, 209227, 209230, 209236, 209276, 209280, 209286, 209292, 209297, 209301, 209317, 209320, 209344, 209370, 209384, 209392, 209397, 209423, 209428, 209432, 209433, 209438, 209448, 209449, 209454, 209460, 209464, 209472, 209482, 209483, 209507, 209535, 209538, 209544, 209547, 209569, 209609, 209629, 209641, 209642, 209650, 209691, 209752, 209768, 209770, 209782, 209801, 209808, 209826, 209831, 209833, 209844, 209867, 209891, 209894, 209899, 209900, 209906, 209912, 209934, 209942, 209949, 209955, 209970, 209993, 210008, 210013, 210026, 210029, 210031, 210053, 210064, 210082, 210094, 210095, 210142, 210150, 210164, 210165, 210184, 210217, 210259, 210275, 210278, 210295, 210308, 210311, 210313, 210338, 210355, 210364, 210381, 210424, 210438, 210443, 210452, 210464, 210474, 210488, 210496, 210498, 210525, 210526, 210527, 210534, 210541, 210547, 210562, 210563, 210574, 210610, 210626, 210648, 210673, 210688, 210714, 210731, 210736, 210750, 210765, 210781, 210794, 210797, 210802, 210812, 210825, 210827, 210828, 210830, 210844, 210851, 210866, 210867, 210869, 210875, 210906, 210926, 210932, 210935, 210940, 210945, 210959, 210991, 211005, 211013, 211022, 211028, 211032, 211035, 211046, 211049, 211073, 211075, 211115, 211116, 211123, 211128, 211129, 211154, 211160, 211162, 211177, 211184, 211222, 211226, 211231, 211239, 211242, 211253, 211265, 211287, 211293, 211299, 211301, 211319, 211334, 211345, 211349, 211355, 211360, 211361, 211385, 211391, 211408, 211424, 211435, 211440, 211450, 211453, 211466, 211482, 211494, 211497, 211517, 211527, 211531, 211547, 211553, 211570, 211574, 211584, 211585, 211596, 211601, 211654, 211668, 211678, 211695, 211699, 211731, 211743, 211751, 211759, 211762, 211763, 211785, 211798, 211804, 211840, 211860, 211870, 211873, 211880, 211915, 211920, 211948, 211968, 212005, 212027, 212041, 212048, 212064, 212091, 212102, 212114, 212120, 212125, 212143, 212163, 212165, 212185, 212206, 212207, 212210, 212232, 212235, 212237, 212245, 212276, 212300, 212302, 212304, 212311, 212318, 212370, 212407, 212433, 212437, 212448, 212456, 212465, 212468, 212495, 212506, 212512, 212522, 212534, 212562, 212563, 212582, 212588, 212600, 212617, 212619, 212622, 212640, 212660, 212661, 212665, 212668, 212685, 212705, 212737, 212748, 212759, 212760, 212780, 212781, 212783, 212793, 212798, 212800, 212803, 212806, 212826, 212838, 212847, 212856, 212864, 212888, 212894, 212895, 212900, 212918, 212936, 212954, 212960, 213002, 213008, 213015, 213019, 213024, 213041, 213055, 213081, 213092, 213095, 213105, 213115, 213140, 213149, 213152, 213154, 213179, 213195, 213208, 213209, 213214, 213226, 213249, 213255, 213258, 213260, 213276, 213290, 213296, 213307, 213308, 213321, 213341, 213349, 213354, 213378, 213383, 213385, 213389, 213408, 213412, 213416, 213421, 213427, 213431, 213451, 213464, 213477, 213574, 213611, 213615, 213620, 213625, 213643, 213644, 213646, 213654, 213668, 213692, 213716, 213719, 213720, 213722, 213726, 213745, 213750, 213771, 213799, 213811, 213813, 213821, 213841, 213842, 213844, 213866, 213887, 213894, 213902, 213921, 213945, 213955, 213975, 213977, 214008, 214010, 214014, 214052, 214061, 214063, 214068, 214069, 214117, 214120, 214129, 214134, 214143, 214169, 214227, 214235, 214238, 214242, 214284, 214288, 214303, 214323, 214378, 214385, 214387, 214399, 214413, 214415, 214469, 214502, 214503, 214521, 214541, 214542, 214555, 214594, 214604, 214617, 214619, 214627, 214635, 214637, 214678, 214689, 214695, 214702, 214706, 214716, 214731, 214738, 214781, 214787, 214800, 214807, 214816, 214838, 214858, 214865, 214881, 214891, 214896, 214925, 214935, 214955, 214985, 214989, 214993, 215014, 215039, 215047, 215095, 215096, 215110, 215115, 215150, 215175, 215190, 215211, 215219, 215232, 215243, 215245, 215247, 215251, 215288, 215297, 215304, 215306, 215310, 215323, 215373, 215382, 215384, 215389, 215392, 215395, 215404, 215419, 215441, 215443, 215463, 215468, 215476, 215477, 215479, 215495, 215503, 215504, 215546, 215572, 215591, 215596, 215616, 215620, 215624, 215646, 215647, 215712, 215743, 215790, 215797, 215833, 215839, 215854, 215862, 215873, 215891, 215895, 215908, 215917, 215943, 215944, 215948, 215955, 215990, 216010, 216013, 216035, 216042, 216068, 216070, 216086, 216093, 216096, 216116, 216129, 216134, 216137, 216145, 216149, 216160, 216164, 216178, 216181, 216208, 216214, 216237, 216256, 216283, 216284, 216292, 216342, 216361, 216390, 216402, 216411, 216413, 216414, 216436, 216453, 216461, 216469, 216472, 216473, 216475, 216479, 216481, 216497, 216508, 216522, 216552, 216563, 216583, 216595, 216608, 216626, 216636, 216639, 216647, 216657, 216666, 216672, 216685, 216690, 216691, 216697, 216711, 216724, 216730, 216734, 216804, 216811, 216814, 216824, 216825, 216827, 216845, 216851, 216853, 216856, 216858, 216864, 216867, 216871, 216889, 216907, 216908, 216921, 216924, 216931, 216932, 216934, 216937, 216941, 216965, 216968, 216972, 216984, 216999, 217006, 217019, 217028, 217030, 217039, 217054, 217077, 217083, 217120, 217161, 217169, 217194, 217198, 217200, 217210, 217226, 217235, 217274, 217296, 217304, 217342, 217349, 217363, 217379, 217404, 217414, 217418, 217421, 217424, 217455, 217460, 217467, 217509, 217530, 217568, 217577, 217597, 217602, 217605, 217647, 217654, 217663, 217689, 217692, 217715, 217718, 217743, 217750, 217769, 217775, 217802, 217803, 217807, 217826, 217838, 217864, 217886, 217892, 217893, 217902, 217921, 217926, 217953, 217961, 217962, 217971, 217994, 218009, 218015, 218039, 218062, 218085, 218124, 218136, 218164, 218178, 218184, 218188, 218215, 218249, 218281, 218302, 218309, 218311, 218322, 218329, 218343, 218357, 218361, 218382, 218407, 218415, 218435, 218445, 218471, 218490, 218521, 218542, 218550, 218551, 218555, 218558, 218596, 218630, 218637, 218640, 218649, 218653, 218667, 218676, 218678, 218689, 218724, 218729, 218782, 218785, 218835, 218886, 218887, 218889, 218899, 218903, 218916, 218948, 218955, 218956, 218957, 218962, 218990, 218995, 219021, 219034, 219042, 219086, 219110, 219122, 219130, 219137, 219141, 219155, 219183, 219189, 219211, 219233, 219240, 219262, 219266, 219267, 219276, 219277, 219288, 219293, 219300, 219307, 219318, 219371, 219420, 219424, 219426, 219441, 219483, 219509, 219510, 219519, 219535, 219540, 219546, 219553, 219565, 219591, 219599, 219611, 219619, 219632, 219661, 219682, 219705, 219718, 219737, 219742, 219754, 219760, 219762, 219775, 219814, 219815, 219835, 219838, 219841, 219863, 219867, 219883, 219886, 219897, 219902, 219906, 219941, 219962, 219967, 219987, 220001, 220019, 220049, 220055, 220066, 220098, 220101, 220109, 220115, 220124, 220132, 220148, 220168, 220187, 220213, 220220, 220230, 220237, 220262, 220269, 220284, 220314, 220323, 220342, 220362, 220384, 220419, 220421, 220426, 220430, 220460, 220511, 220517, 220531, 220537, 220543, 220562, 220563, 220585, 220589, 220595, 220609, 220631, 220640, 220641, 220644, 220647, 220656, 220690, 220692, 220694, 220696, 220748, 220754, 220776, 220783, 220786, 220789, 220819, 220821, 220832, 220836, 220840, 220860, 220871, 220901, 220912, 220939, 220943, 220944, 220977, 220978, 220993, 221026, 221043, 221059, 221072, 221095, 221129, 221157, 221166, 221167, 221172, 221196, 221215, 221252, 221317, 221324, 221336, 221343, 221366, 221396, 221403, 221418, 221436, 221447, 221452, 221480, 221532, 221533, 221550, 221558, 221592, 221603, 221626, 221650, 221661, 221666, 221672, 221722, 221740, 221745, 221757, 221762, 221780, 221791, 221832, 221850, 221881, 221884, 221912, 221915, 221936, 221943, 221947, 221955, 221966, 221977, 222005, 222011, 222020, 222107, 222115, 222130, 222142, 222162, 222182, 222205, 222216, 222221, 222247, 222248, 222249, 222254, 222289, 222294, 222311, 222374, 222381, 222395, 222405, 222434, 222442, 222450, 222490, 222504, 222529, 222539, 222548, 222572, 222584, 222596, 222615, 222618, 222635, 222637, 222641, 222646, 222654, 222703, 222756, 222789, 222800, 222810, 222835, 222848, 222853, 222868, 222882, 222884, 222899, 222900, 222925, 222966, 222971, 222978, 222989, 222993, 223004, 223019, 223020, 223046, 223062, 223127, 223131, 223133, 223194, 223206, 223212, 223214, 223215, 223231, 223237, 223242, 223257, 223267, 223277, 223308, 223319, 223327, 223342, 223352, 223367, 223392, 223400, 223433, 223447, 223464, 223486, 223514, 223515, 223529, 223548, 223580, 223594, 223613, 223637, 223648, 223660, 223669, 223671, 223678, 223696, 223716, 223732, 223745, 223751, 223752, 223763, 223789, 223811, 223830, 223851, 223861, 223881, 223934, 223944, 223975, 223999, 224019, 224059, 224073, 224097, 224105, 224108, 224141, 224147, 224149, 224185, 224198, 224202, 224203, 224207, 224209, 224215, 224217, 224232, 224234, 224238, 224241, 224258, 224277, 224338, 224358, 224361, 224377, 224393, 224421, 224424, 224426, 224462, 224472, 224474, 224498, 224506, 224512, 224520, 224531, 224541, 224559, 224563, 224566, 224584, 224629, 224634, 224640, 224644, 224658, 224680, 224716, 224763, 224784, 224799, 224849, 224854, 224858, 224870, 224886, 224889, 224894, 224910, 224934, 224943, 224947, 224953, 224954, 224964, 224984, 225014, 225024, 225053, 225063, 225065, 225102, 225106, 225124, 225142, 225156, 225165, 225193, 225211, 225231, 225263, 225267, 225279, 225291, 225294, 225307, 225317, 225330, 225334, 225339, 225365, 225385, 225394, 225395, 225399, 225432, 225454, 225456, 225473, 225504, 225507, 225515, 225516, 225526, 225541, 225544, 225548, 225580, 225599, 225603, 225605, 225612, 225652, 225657, 225660, 225707, 225724, 225750, 225768, 225772, 225775, 225779, 225780, 225811, 225823, 225859, 225860, 225879, 225883, 225890, 225892, 225904, 225913, 225927, 225964, 225970, 225978, 226013, 226020, 226084, 226092, 226106, 226129, 226135, 226145, 226181, 226196, 226198, 226215, 226246, 226267, 226288, 226296, 226297, 226311, 226327, 226355, 226357, 226374, 226379, 226385, 226388, 226396, 226422, 226443, 226494, 226497, 226505, 226508, 226525, 226535, 226546, 226585, 226608, 226624, 226629, 226665, 226668, 226696, 226717, 226733, 226735, 226756, 226789, 226871, 226872, 226875, 226883, 226885, 226891, 226902, 226913, 226916, 226918, 226922, 226943, 226947, 226949, 226956, 226968, 226975, 226978, 226980, 226985, 226989, 227065, 227070, 227104, 227128, 227146, 227154, 227158, 227160, 227178, 227203, 227214, 227232, 227236, 227244, 227266, 227282, 227298, 227310, 227325, 227332, 227359, 227386, 227392, 227397, 227399, 227411, 227446, 227466, 227468, 227471, 227489, 227491, 227545, 227551, 227554, 227571, 227594, 227597, 227602, 227610, 227615, 227626, 227644, 227669, 227689, 227714, 227734, 227778, 227791, 227794, 227796, 227800, 227832, 227836, 227840, 227856, 227858, 227886, 227890, 227910, 227915, 227931, 227943, 227945, 227968, 227986, 227994, 228057, 228075, 228124, 228157, 228190, 228200, 228230, 228238, 228243, 228253, 228255, 228265, 228287, 228306, 228320, 228346, 228357, 228372, 228373, 228395, 228399, 228406, 228411, 228424, 228452, 228456, 228465, 228472, 228476, 228480, 228493, 228500, 228516, 228528, 228535, 228570, 228583, 228608, 228613, 228620, 228649, 228660, 228686, 228696, 228723, 228729, 228752, 228772, 228786, 228806, 228860, 228873, 228881, 228921, 228939, 228960, 229009, 229015, 229016, 229029, 229051, 229062, 229110, 229125, 229148, 229180, 229223, 229236, 229272, 229287, 229300, 229328, 229335, 229341, 229364, 229376, 229393, 229394, 229414, 229418, 229424, 229431, 229456, 229465, 229466, 229498, 229504, 229516, 229523, 229525, 229531, 229533, 229553, 229566, 229613, 229636, 229646, 229651, 229656, 229700, 229716, 229729, 229732, 229737, 229741, 229744, 229745, 229756, 229772, 229773, 229803, 229826, 229842, 229843, 229846, 229895, 229939, 229946, 229967, 229977, 229983, 229987, 229997, 230020, 230035, 230039, 230054, 230095, 230113, 230136, 230165, 230168, 230224, 230229, 230246, 230248, 230268, 230292, 230315, 230329, 230356, 230373, 230387, 230397, 230408, 230417, 230420, 230429, 230467, 230475, 230478, 230484, 230545, 230563, 230568, 230574, 230592, 230624, 230657, 230684, 230704, 230743, 230754, 230767, 230789, 230816, 230823, 230824, 230856, 230858, 230874, 230875, 230885, 230891, 230899, 230912, 230919, 230922, 230951, 230955, 230959, 230961, 230979, 231002, 231013, 231016, 231037, 231043, 231052, 231053, 231082, 231085, 231105, 231141, 231160, 231166, 231180, 231181, 231183, 231193, 231196, 231197, 231230, 231231, 231232, 231238, 231263, 231286, 231287, 231323, 231347, 231348, 231357, 231377, 231413, 231438, 231439, 231472, 231473, 231482, 231491, 231495, 231515, 231554, 231559, 231562, 231569, 231573, 231604, 231619, 231620, 231638, 231672, 231688, 231689, 231714, 231725, 231738, 231741, 231777, 231781, 231793, 231813, 231818, 231826, 231866, 231912, 231919, 231931, 231948, 231961, 231962, 231964, 231972, 231981, 231991, 232022, 232024, 232036, 232082, 232132, 232139, 232145, 232151, 232242, 232308, 232337, 232356, 232368, 232392, 232421, 232475, 232512, 232569, 232577, 232586, 232591, 232614, 232618, 232628, 232653, 232664, 232666, 232672, 232713, 232719, 232742, 232766, 232769, 232782, 232784, 232799, 232808, 232840, 232841, 232854, 232855, 232871, 232874, 232894, 232900, 232914, 232918, 232945, 232954, 232985, 232991, 232997, 233014, 233022, 233059, 233107, 233130, 233149, 233165, 233168, 233182, 233193, 233194, 233275, 233280, 233312, 233320, 233327, 233369, 233371, 233382, 233419, 233421, 233428, 233461, 233472, 233490, 233499, 233511, 233533, 233555, 233571, 233624, 233626, 233639, 233681, 233711, 233717, 233722, 233724, 233734, 233777, 233779, 233780, 233786, 233796, 233799, 233802, 233825, 233851, 233856, 233865, 233882, 233891, 233923, 233933, 233954, 233955, 233974, 233980, 233993, 234037, 234057, 234083, 234096, 234108, 234125, 234143, 234151, 234190, 234195, 234213, 234220, 234263, 234271, 234277, 234286, 234298, 234302, 234320, 234327, 234328, 234373, 234386, 234387, 234428, 234447, 234460, 234474, 234481, 234500, 234504, 234519, 234537, 234542, 234633, 234640, 234641, 234648, 234652, 234657, 234663, 234664, 234665, 234690, 234699, 234721, 234731, 234743, 234755, 234780, 234807, 234824, 234841, 234854, 234859, 234880, 234885, 234901, 234919, 234938, 234953, 234960, 234962, 234970, 234976, 235071, 235079, 235108, 235109, 235124, 235167, 235168, 235197, 235205, 235237, 235259, 235271, 235307, 235320, 235371, 235379, 235389, 235393, 235431, 235442, 235485, 235521, 235535, 235556, 235624, 235639, 235646, 235683, 235691, 235693, 235700, 235722, 235733, 235775, 235781, 235786, 235795, 235826, 235829, 235847, 235849, 235853, 235862, 235882, 235891, 235894, 235909, 235924, 235951, 235986, 236008, 236012, 236021, 236040, 236055, 236068, 236069, 236090, 236096, 236110, 236111, 236136, 236180, 236242, 236246, 236262, 236267, 236272, 236318, 236321, 236323, 236328, 236330, 236338, 236341, 236359, 236379, 236391, 236396, 236415, 236426, 236436, 236470, 236472, 236481, 236487, 236497, 236520, 236523, 236543, 236564, 236570, 236586, 236592, 236596, 236599, 236601, 236612, 236627, 236684, 236687, 236696, 236731, 236746, 236769, 236770, 236784, 236804, 236805, 236818, 236827, 236852, 236858, 236861, 236873, 236878, 236879, 236907, 236910, 236913, 236938, 236940, 236943, 236944, 236977, 236985, 236990, 236992, 236993, 236994, 237044, 237051, 237065, 237078, 237141, 237229, 237272, 237293, 237294, 237305, 237317, 237321, 237341, 237379, 237386, 237432, 237452, 237455, 237466, 237478, 237498, 237525, 237532, 237601, 237608, 237620, 237624, 237630, 237646, 237651, 237670, 237671, 237691, 237713, 237720, 237729, 237731, 237735, 237811, 237819, 237824, 237833, 237848, 237865, 237868, 237873, 237879, 237903, 237920, 237928, 237943, 237993, 237995, 238002, 238008, 238049, 238068, 238087, 238092, 238162, 238184, 238185, 238187, 238188, 238192, 238216, 238246, 238257, 238287, 238305, 238311, 238329, 238342, 238355, 238360, 238367, 238376, 238381, 238384, 238386, 238397, 238401, 238415, 238431, 238433, 238438, 238474, 238479, 238481, 238530, 238567, 238574, 238582, 238611, 238628, 238638, 238648, 238680, 238685, 238721, 238726, 238768, 238802, 238806, 238831, 238859, 238867, 238912, 238913, 238917, 238944, 238959, 238964, 238966, 238969, 238980, 239018, 239038, 239043, 239045, 239058, 239074, 239093, 239098, 239119, 239120, 239130, 239150, 239155, 239161, 239171, 239284, 239303, 239321, 239322, 239346, 239375, 239390, 239397, 239404, 239405, 239409, 239415, 239439, 239450, 239461, 239523, 239529, 239539, 239576, 239577, 239612, 239632, 239659, 239663, 239683, 239705, 239708, 239723, 239753, 239755, 239781, 239806, 239824, 239833, 239865, 239876, 239880, 239947, 239954, 240013, 240027, 240043, 240049, 240063, 240081, 240124, 240137, 240138, 240143, 240150, 240160, 240166, 240170, 240172, 240183, 240226, 240231, 240236, 240252, 240255, 240283, 240323, 240330, 240356, 240358, 240374, 240389, 240398, 240441, 240458, 240467, 240468, 240491, 240496, 240504, 240517, 240521, 240542, 240543, 240554, 240562, 240612, 240628, 240629, 240676, 240686, 240698, 240738, 240747, 240763, 240771, 240809, 240810, 240817, 240837, 240841, 240842, 240857, 240859, 240869, 240888, 240900, 240914, 240917, 240922, 240951, 240979, 240988, 241001, 241013, 241021, 241025, 241056, 241065, 241121, 241126, 241153, 241174, 241185, 241259, 241297, 241306, 241346, 241350, 241360, 241367, 241431, 241444, 241463, 241469, 241506, 241523, 241528, 241583, 241607, 241616, 241626, 241667, 241745, 241752, 241753, 241765, 241802, 241805, 241825, 241832, 241843, 241844, 241851, 241857, 241885, 241895, 241928, 241935, 241951, 241962, 241998, 242001, 242077, 242080, 242082, 242089, 242094, 242095, 242097, 242108, 242122, 242147, 242150, 242184, 242207, 242341, 242361, 242375, 242391, 242406, 242460, 242464, 242482, 242488, 242517, 242521, 242552, 242559, 242564, 242580, 242586, 242597, 242606, 242615, 242619, 242651, 242670, 242700, 242713, 242718, 242720, 242729, 242736, 242768, 242769, 242773, 242804, 242859, 242861, 242893, 242912, 242922, 242923, 242941, 242960, 242968, 242984, 242987, 242994, 243010, 243030, 243142, 243165, 243178, 243190, 243226, 243240, 243256, 243283, 243313, 243357, 243361, 243368, 243373, 243380, 243409, 243425, 243432, 243436, 243442, 243476, 243484, 243493, 243560, 243569, 243580, 243587, 243605, 243607, 243612, 243631, 243636, 243660, 243665, 243666, 243674, 243678, 243743, 243762, 243768, 243773, 243776, 243786, 243829, 243841, 243842, 243858, 243867, 243871, 243872, 243875, 243878, 243900, 243904, 243921, 243923, 243929, 243941, 243960, 243986, 243988, 244025, 244054, 244064, 244087, 244115, 244122, 244147, 244172, 244214, 244268, 244312, 244315, 244341, 244366, 244372, 244395, 244402, 244406, 244408, 244473, 244495, 244522, 244523, 244554, 244566, 244572, 244589, 244602, 244605, 244661, 244665, 244689, 244721, 244770, 244771, 244773, 244803, 244830, 244856, 244903, 244933, 244945, 244974, 245029, 245053, 245056, 245062, 245090, 245147, 245173, 245193, 245196, 245199, 245211, 245215, 245274, 245275, 245297, 245302, 245305, 245307, 245310, 245317, 245361, 245369, 245372, 245378, 245465, 245482, 245487, 245491, 245521, 245524, 245529, 245565, 245572, 245626, 245628, 245659, 245661, 245724, 245777, 245790, 245842, 245873, 245880, 245918, 245948, 245975, 246011, 246025, 246038, 246104, 246117, 246183, 246197, 246207, 246212, 246226, 246250, 246262, 246291, 246308, 246372, 246386, 246392, 246396, 246431, 246439, 246440, 246449, 246519, 246562, 246595, 246652, 246677, 246739, 246820, 246829, 246841, 246862, 246891, 246933, 246936, 246965, 246974, 247006, 247019, 247025, 247043, 247053, 247075, 247082, 247111, 247115, 247119, 247151, 247156, 247162, 247187, 247205, 247232, 247245, 247276, 247286, 247294, 247298, 247321, 247328, 247337, 247355, 247378, 247379, 247383, 247444, 247445, 247455, 247469, 247483, 247507, 247514, 247547, 247552, 247558, 247564, 247566, 247600, 247651, 247676, 247679, 247685, 247695, 247711, 247731, 247733, 247734, 247750, 247752, 247779, 247794, 247807, 247819, 247869, 247880, 247892, 247895, 247936, 247975, 247978, 247981, 247986, 247992, 248010, 248011, 248059, 248094, 248113, 248145, 248164, 248178, 248186, 248248, 248249, 248254, 248313, 248339, 248344, 248346, 248356, 248374, 248384, 248402, 248406, 248445, 248448, 248476, 248512, 248533, 248584, 248588, 248595, 248612, 248619, 248653, 248694, 248708, 248739, 248749, 248754, 248776, 248795, 248833, 248834, 248841, 248851, 248876, 248886, 248895, 248911, 248919, 248973, 248978, 248990, 248993, 249043, 249046, 249072, 249078, 249087, 249096, 249101, 249147, 249208, 249214, 249249, 249271, 249277, 249289, 249315, 249322, 249332, 249339, 249351, 249362, 249368, 249385, 249392, 249409, 249463, 249541, 249543, 249550, 249571, 249585, 249609, 249644, 249686, 249706, 249716, 249720, 249727, 249741, 249771, 249787, 249857, 249860, 249870, 249909, 249935, 249948, 249956, 249957, 249977, 249983, 250034, 250037, 250038, 250051, 250066, 250068, 250091, 250121, 250135, 250157, 250165, 250170, 250182, 250201, 250206, 250217, 250238, 250249, 250263, 250314, 250354, 250499, 250504, 250536, 250541, 250552, 250585, 250630, 250639, 250647, 250674, 250679, 250724, 250733, 250743, 250782, 250791, 250802, 250807, 250818, 250819, 250821, 250832, 250873, 250967, 250976, 251063, 251073, 251091, 251120, 251167, 251180, 251196, 251229, 251239, 251240, 251243, 251292, 251305, 251323, 251396, 251411, 251421, 251474, 251487, 251508, 251521, 251572, 251579, 251585, 251603, 251612, 251659, 251675, 251694, 251701, 251710, 251730, 251786, 251795, 251804, 251825, 251836, 251841, 251854, 251905, 251915, 251923, 251951, 252024, 252046, 252058, 252079, 252127, 252153, 252168, 252187, 252202, 252208, 252210, 252231, 252250, 252253, 252257, 252284, 252292, 252327, 252355, 252392, 252406, 252413, 252419, 252466, 252506, 252518, 252519, 252529, 252565, 252646, 252662, 252668, 252714, 252752, 252803, 252813, 252842, 252862, 252897, 252903, 252930, 252939, 252947, 252986, 252993, 253003, 253006, 253060, 253062, 253101, 253116, 253121, 253190, 253262, 253267, 253296, 253310, 253354, 253370, 253408, 253420, 253438, 253583, 253593, 253612, 253642, 253741, 253752, 253759, 253770, 253784, 253799, 253801, 253814, 253841, 253856, 253860, 253866, 253873, 253899, 253914, 254114, 254127, 254134, 254146, 254148, 254167, 254202, 254211, 254221, 254230, 254247, 254270, 254285, 254291, 254293, 254303, 254304, 254367, 254413, 254439, 254440, 254478, 254493, 254500, 254516, 254534, 254547, 254613, 254627, 254630, 254746, 254765, 254767, 254773, 254781, 254797, 254809, 254817, 254818, 254834, 254859, 254904, 254905, 254907, 254933, 254935, 254949, 254973, 254989, 255004, 255014, 255027, 255044, 255098, 255109, 255161, 255191, 255193, 255237, 255252, 255276, 255279, 255282, 255334, 255348, 255364, 255386, 255406, 255407, 255412, 255424, 255439, 255454, 255466, 255474, 255476, 255486, 255503, 255559, 255575, 255582, 255621, 255635, 255647, 255667, 255675, 255685, 255693, 255702, 255711, 255817, 255822, 255830, 255835, 255847, 255849, 255885, 255921, 255927, 255934, 255941, 255949, 255957, 255969, 256000, 256005, 256014, 256019, 256062, 256141, 256173, 256179, 256191, 256202, 256211, 256240, 256263, 256274, 256278, 256335, 256356, 256362, 256371, 256466, 256474, 256504, 256514, 256522, 256526, 256529, 256609, 256620, 256628, 256636, 256647, 256649, 256671, 256674, 256723, 256737, 256755, 256764, 256821, 256861, 256864, 256866, 256908, 256909, 256916, 256953, 256956, 256963, 256967, 256979, 256992, 256997, 257042, 257043, 257064, 257068, 257117, 257124, 257126, 257175, 257200, 257216, 257250, 257269, 257277, 257295, 257302, 257310, 257328, 257337, 257343, 257364, 257380, 257405, 257416, 257485, 257500, 257509, 257555, 257557, 257562, 257574, 257588, 257609, 257621, 257644, 257659, 257683, 257691, 257726, 257735, 257750, 257758, 257764, 257765, 257780, 257781, 257790, 257796, 257849, 257855, 257863, 257869, 257874, 257876, 257910, 257933, 257940, 257942, 257978, 257980, 258006, 258026, 258037, 258049, 258102, 258120, 258124, 258170, 258276, 258298, 258306, 258339, 258379, 258406, 258430, 258470, 258474, 258490, 258498, 258509, 258517, 258550, 258561, 258579, 258589, 258633, 258648, 258666, 258675, 258700, 258730, 258735, 258752, 258761, 258768, 258819, 258849, 258862, 258872, 258883, 258888, 258932, 258973, 259014, 259019, 259087, 259089, 259109, 259120, 259216, 259226, 259284, 259299, 259300, 259301, 259307, 259323, 259351, 259352, 259363, 259377, 259425, 259463, 259479, 259496, 259505, 259510, 259531, 259532, 259583, 259585, 259612, 259643, 259688, 259705, 259719, 259757, 259762, 259785, 259803, 259840, 259846, 259865, 259873, 259882, 259929, 259931, 260019, 260046, 260052, 260082, 260093, 260106, 260111, 260167, 260199, 260254, 260333, 260425, 260490, 260543, 260560, 260578, 260579, 260594, 260614, 260617, 260669, 260696, 260729, 260754, 260761, 260782, 260797, 260801, 260847, 260868, 260938, 260953, 260954, 260960, 260997, 261012, 261023, 261056, 261059, 261062, 261119, 261192, 261203, 261207, 261230, 261232, 261241, 261259, 261276, 261278, 261293, 261319, 261334, 261375, 261382, 261418, 261422, 261497, 261504, 261511, 261519, 261561, 261584, 261646, 261677, 261688, 261720, 261725, 261799, 261816, 261897, 261899, 261929, 261943, 261979, 262024, 262038, 262042, 262062, 262116, 262153, 262158, 262196, 262208, 262233, 262241, 262244, 262245, 262280, 262285, 262345, 262352, 262402, 262409, 262425, 262439, 262446, 262478, 262511, 262515, 262552, 262570, 262601, 262617, 262642, 262656, 262664, 262684, 262688, 262744, 262749, 262778, 262802, 262819, 262841, 262872, 262882, 262885, 262978, 262994, 263000, 263005, 263015, 263024, 263081, 263094, 263128, 263130, 263150, 263200, 263224, 263300, 263307, 263338, 263339, 263340, 263374, 263431, 263444, 263498, 263502, 263552, 263561, 263568, 263600, 263608, 263612, 263614, 263637, 263641, 263670, 263728, 263729, 263746, 263773, 263831, 263836, 263855, 263871, 263886, 263899, 263908, 263925, 263932, 263970, 263982, 264012, 264052, 264055, 264095, 264102, 264148, 264166, 264188, 264210, 264244, 264300, 264314, 264357, 264390, 264436, 264457, 264498, 264503, 264526, 264544, 264593, 264600, 264627, 264651, 264663, 264710, 264738, 264740, 264834, 264864, 264874, 264924, 264936, 264939, 264961, 264968, 265038, 265077, 265083, 265086, 265097, 265099, 265105, 265116, 265148, 265192, 265201, 265230, 265266, 265275, 265295, 265314, 265356, 265434, 265477, 265509, 265535, 265554, 265567, 265576, 265618, 265628, 265638, 265657, 265661, 265662, 265698, 265706, 265737, 265807, 265881, 265917, 265954, 266015, 266022, 266037, 266043, 266070, 266072, 266080, 266081, 266083, 266084, 266091, 266119, 266126, 266134, 266135, 266138, 266150, 266189, 266255, 266275, 266281, 266287, 266324, 266325, 266337, 266343, 266400, 266439, 266461, 266463, 266467, 266489, 266510, 266525, 266529, 266530, 266598, 266624, 266635, 266639, 266645, 266668, 266681, 266707, 266710, 266764, 266792, 266803, 266820, 266855, 266860, 266912, 266926, 266945, 266973, 267012, 267034, 267040, 267044, 267085, 267086, 267101, 267107, 267138, 267147, 267161, 267174, 267198, 267205, 267252, 267284, 267325, 267352, 267396, 267399, 267404, 267408, 267426, 267431, 267471, 267521, 267540, 267546, 267556, 267581, 267588, 267652, 267661, 267663, 267706, 267717, 267736, 267763, 267776, 267790, 267798, 267843, 267859, 267866, 267891, 267893, 267912, 267945, 267952, 267955, 267965, 267966, 267967, 267989, 268022, 268051, 268083, 268090, 268098, 268127, 268145, 268147, 268183, 268213, 268222, 268234, 268252, 268276, 268281, 268292, 268358, 268392, 268451, 268482, 268514, 268524, 268525, 268545, 268553, 268571, 268575, 268598, 268620, 268639, 268661, 268700, 268726, 268797, 268804, 268831, 268832, 268840, 268861, 268952, 268954, 268965, 269015, 269028, 269042, 269045, 269060, 269068, 269080, 269095, 269168, 269182, 269186, 269221, 269243, 269246, 269284, 269300, 269318, 269323, 269329, 269354, 269417, 269444, 269455, 269474, 269499, 269512, 269527, 269583, 269604, 269652, 269654, 269657, 269665, 269687, 269708, 269722, 269723, 269733, 269786, 269991, 270043, 270056, 270059, 270075, 270079, 270092, 270142, 270147, 270151, 270194, 270218, 270228, 270276, 270278, 270324, 270333, 270335, 270339, 270366, 270379, 270421, 270436, 270460, 270502, 270517, 270522, 270544, 270546, 270551, 270565, 270572, 270577, 270587, 270693, 270721, 270728, 270842, 270859, 270872, 270886, 270887, 270889, 270942, 270968, 270973, 270985, 271012, 271013, 271092, 271118, 271122, 271160, 271243, 271262, 271274, 271276, 271328, 271346, 271352, 271354, 271379, 271393, 271431, 271446, 271466, 271521, 271544, 271550, 271567, 271571, 271572, 271579, 271603, 271665, 271710, 271714, 271749, 271753, 271767, 271792, 271795, 271807, 271828, 271837, 271901, 271933, 271935, 271936, 271962, 272019, 272063, 272069, 272090, 272165, 272166, 272182, 272185, 272209, 272240, 272248, 272338, 272343, 272359, 272376, 272411, 272425, 272428, 272451, 272471, 272476, 272531, 272615, 272618, 272625, 272656, 272667, 272669, 272671, 272778, 272780, 272800, 272856, 272896, 272902, 272910, 272913, 272918, 272944, 272950, 272960, 272986, 273010, 273051, 273084, 273194, 273206, 273230, 273241, 273243, 273269, 273285, 273287, 273308, 273324, 273362, 273399, 273402, 273403, 273425, 273435, 273454, 273514, 273536, 273558, 273569, 273575, 273604, 273612, 273629, 273640, 273701, 273734, 273771, 273792, 273803, 273818, 273828, 273876, 273905, 273929, 274010, 274057, 274096, 274103, 274111, 274158, 274198, 274200, 274222, 274228, 274276, 274363, 274398, 274424, 274451, 274475, 274502, 274528, 274562, 274579, 274657, 274679, 274683, 274689, 274690, 274720, 274724, 274731, 274746, 274797, 274800, 274809, 274830, 274883, 274913, 274916, 274917, 274964, 274969, 275034, 275051, 275074, 275093, 275094, 275095, 275110, 275116, 275181, 275190, 275223, 275232, 275236, 275244, 275291, 275338, 275357, 275361, 275364, 275369, 275385, 275395, 275421, 275438, 275445, 275446, 275517, 275522, 275625, 275632, 275653, 275691, 275703, 275726, 275778, 275818, 275845, 275859, 275884, 275889, 275943, 275995, 276009, 276075, 276087, 276096, 276133, 276153, 276218, 276221, 276229, 276241, 276247, 276249, 276309, 276310, 276345, 276369, 276456, 276494, 276515, 276540, 276548, 276552, 276559, 276568, 276624, 276664, 276709, 276718, 276776, 276840, 276851, 276864, 276868, 276934, 276967, 276973, 277022, 277024, 277034, 277112, 277144, 277192, 277248, 277256, 277314, 277323, 277328, 277342, 277347, 277390, 277408, 277420, 277434, 277444, 277455, 277471, 277488, 277530, 277533, 277541, 277545, 277583, 277588, 277635, 277647, 277657, 277695, 277700, 277720, 277746, 277760, 277783, 277788, 277886, 277946, 277974, 278039, 278073, 278107, 278114, 278115, 278122, 278130, 278139, 278151, 278155, 278187, 278188, 278220, 278228, 278230, 278253, 278254, 278304, 278322, 278329, 278378, 278391, 278403, 278404, 278476, 278480, 278502, 278514, 278522, 278530, 278557, 278576, 278581, 278617, 278632, 278637, 278720, 278736, 278763, 278870, 278900, 278915, 278924, 278938, 279015, 279029, 279041, 279129, 279145, 279156, 279173, 279183, 279196, 279231, 279232, 279243, 279272, 279288, 279297, 279315, 279337, 279340, 279452, 279461, 279472, 279485, 279490, 279524, 279538, 279580, 279593, 279608, 279615, 279636, 279661, 279667, 279679, 279680, 279721, 279763, 279802, 279833, 279872, 279878, 279881, 279901, 279914, 279960, 279968, 279980, 280030, 280069, 280071, 280088, 280093, 280111, 280134, 280146, 280164, 280167, 280169, 280278, 280282, 280292, 280298, 280307, 280309, 280344, 280362, 280410, 280422, 280433, 280440, 280464, 280483, 280500, 280519, 280525, 280570, 280603, 280618, 280639, 280670, 280699, 280714, 280728, 280758, 280798, 280923, 280927, 280960, 280966, 281021, 281030, 281074, 281138, 281209, 281221, 281315, 281356, 281363, 281384, 281403, 281422, 281425, 281432, 281437, 281504, 281540, 281565, 281590, 281627, 281647, 281668, 281678, 281704, 281739, 281751, 281768, 281784, 281792, 281832, 281852, 281860, 281907, 281911, 281982, 282023, 282062, 282063, 282066, 282069, 282092, 282095, 282142, 282153, 282155, 282202, 282304, 282313, 282389, 282394, 282398, 282461, 282484, 282538, 282549, 282579, 282602, 282604, 282609, 282611, 282612, 282622, 282631, 282642, 282660, 282664, 282674, 282678, 282680, 282698, 282721, 282722, 282744, 282753, 282830, 282872, 282882, 282913, 282923, 282944, 282948, 282951, 282964, 282972, 282979, 283004, 283005, 283033, 283037, 283079, 283087, 283092, 283116, 283122, 283174, 283217, 283227, 283237, 283268, 283281, 283293, 283305, 283320, 283338, 283342, 283400, 283499, 283510, 283515, 283531, 283602, 283613, 283635, 283637, 283676, 283715, 283724, 283731, 283743, 283757, 283760, 283767, 283796, 283806, 283872, 283896, 283913, 283917, 283918, 283921, 283945, 283969, 284021, 284078, 284080, 284086, 284095, 284120, 284129, 284166, 284196, 284211, 284250, 284303, 284317, 284329, 284343, 284395, 284403, 284450, 284531, 284582, 284616, 284651, 284652, 284680, 284703, 284706, 284737, 284741, 284758, 284763, 284799, 284834, 284843, 284871, 284898, 284916, 284952, 285004, 285013, 285020, 285052, 285060, 285066, 285102, 285127, 285131, 285169, 285200, 285263, 285290, 285294, 285295, 285335, 285367, 285408, 285419, 285432, 285457, 285522, 285575, 285621, 285671, 285730, 285747, 285750, 285775, 285787, 285854, 285858, 285865, 285885, 285897, 285902, 286002, 286020, 286026, 286101, 286115, 286146, 286166, 286230, 286261, 286282, 286310, 286342, 286370, 286372, 286391, 286405, 286406, 286435, 286452, 286469, 286487, 286634, 286675, 286689, 286730, 286732, 286734, 286750, 286789, 286824, 286836, 286853, 286869, 286911, 286960, 286967, 286970, 286983, 286989, 287008, 287031, 287037, 287079, 287160, 287190, 287192, 287229, 287233, 287244, 287268, 287277, 287306, 287315, 287317, 287320, 287372, 287420, 287476, 287480, 287548, 287598, 287647, 287658, 287681, 287701, 287737, 287797, 287828, 287878, 287908, 287920, 287927, 287983, 287986, 287988, 288020, 288049, 288103, 288132, 288154, 288185, 288229, 288273, 288341, 288353, 288371, 288398, 288419, 288433, 288437, 288486, 288519, 288548, 288551, 288566, 288568, 288585, 288592, 288598, 288608, 288679, 288731, 288771, 288781, 288825, 288840, 288959, 288983, 288992, 289039, 289046, 289106, 289116, 289147, 289148, 289190, 289207, 289230, 289257, 289309, 289353, 289364, 289390, 289403, 289405, 289430, 289436, 289442, 289448, 289458, 289468, 289484, 289572, 289636, 289653, 289669, 289700, 289707, 289716, 289731, 289741, 289748, 289886, 289909, 289930, 289944, 289960, 289980, 289982, 289984, 289991, 290124, 290213, 290226, 290267, 290286, 290290, 290306, 290321, 290403, 290409, 290504, 290521, 290528, 290560, 290593, 290609, 290614, 290640, 290641, 290660, 290661, 290677, 290688, 290740, 290754, 290763, 290856, 290922, 290964, 291011, 291052, 291096, 291147, 291175, 291192, 291196, 291248, 291251, 291355, 291362, 291374, 291386, 291407, 291429, 291494, 291509, 291518, 291529, 291547, 291566, 291568, 291578, 291586, 291665, 291702, 291755, 291783, 291808, 291904, 291951, 291965, 291968, 291979, 291981, 292019, 292023, 292058, 292110, 292120, 292175, 292185, 292217, 292264, 292303, 292307, 292353, 292370, 292379, 292465, 292472, 292504, 292511, 292536, 292570, 292583, 292590, 292592, 292627, 292639, 292673, 292692, 292803, 292855, 292915, 292933, 292962, 293063, 293073, 293076, 293091, 293114, 293136, 293176, 293196, 293227, 293287, 293291, 293297, 293305, 293324, 293358, 293364, 293385, 293398, 293399, 293440, 293485, 293512, 293528, 293535, 293550, 293565, 293579, 293623, 293690, 293691, 293703, 293726, 293791, 293802, 293809, 293828, 293900, 293926, 293928, 293936, 293941, 293968, 293971, 293984, 294009, 294029, 294064, 294121, 294183, 294253, 294270, 294292, 294295, 294313, 294387, 294395, 294398, 294400, 294431, 294485, 294493, 294671, 294691, 294701, 294708, 294789, 294870, 294907, 294913, 294919, 294936, 294991, 295010, 295046, 295067, 295108, 295117, 295127, 295163, 295282, 295289, 295308, 295334, 295488, 295510, 295520, 295566, 295589, 295591, 295612, 295621, 295649, 295697, 295763, 295791, 295799, 295855, 295912, 295919, 295922, 295949, 295991, 296045, 296066, 296085, 296090, 296125, 296152, 296158, 296212, 296253, 296282, 296317, 296326, 296450, 296453, 296462, 296466, 296478, 296485, 296509, 296516, 296537, 296538, 296613, 296618, 296724, 296728, 296738, 296749, 296798, 296849, 296892, 296982, 296991, 296999, 297054, 297094, 297117, 297152, 297154, 297155, 297186, 297188, 297246, 297248, 297261, 297296, 297335, 297380, 297396, 297449, 297457, 297485, 297531, 297544, 297551, 297574, 297676, 297735, 297742, 297759, 297767, 297796, 297847, 297884, 297906, 297991, 298035, 298037, 298070, 298113, 298130, 298133, 298155, 298161, 298215, 298225, 298227, 298249, 298301, 298332, 298400, 298444, 298445, 298449, 298489, 298507, 298510, 298539, 298577, 298601, 298635, 298643, 298659, 298661, 298695, 298696, 298717, 298785, 298786, 298834, 298841, 298860, 298871, 298885, 298891, 298995, 299036, 299047, 299050, 299080, 299090, 299153, 299197, 299223, 299291, 299324, 299353, 299358, 299399, 299422, 299494, 299505, 299507, 299598, 299616, 299635, 299705, 299765, 299810, 299813, 299828, 299831, 299908, 300104, 300168, 300275, 300290, 300379, 300404, 300528, 300584, 300623, 300681, 300687, 300760, 300777, 300783, 300812, 300816, 300829, 300871, 300908, 300915, 300975, 301007, 301010, 301024, 301031, 301070, 301108, 301168, 301199, 301210, 301227, 301229, 301302, 301369, 301383, 301408, 301514, 301526, 301556, 301568, 301582, 301583, 301591, 301606, 301611, 301614, 301637, 301638, 301654, 301694, 301743, 301747, 301762, 301802, 301814, 301835, 301853, 301862, 301867, 301911, 301948, 302041, 302072, 302097, 302122, 302142, 302146, 302149, 302195, 302347, 302372, 302406, 302422, 302424, 302438, 302465, 302473, 302579, 302603, 302604, 302612, 302626, 302708, 302711, 302770, 302836, 302845, 302847, 302859, 302868, 302945, 303032, 303044, 303051, 303090, 303121, 303155, 303176, 303187, 303212, 303291, 303296, 303317, 303388, 303431, 303440, 303446, 303455, 303462, 303485, 303510, 303521, 303565, 303588, 303637, 303674, 303692, 303817, 303822, 303851, 303860, 303867, 303918, 303942, 303954, 303973, 303986, 303990, 304030, 304032, 304076, 304133, 304169, 304175, 304212, 304246, 304260, 304283, 304302, 304353, 304386, 304416, 304463, 304469, 304504, 304530, 304570, 304595, 304602, 304622, 304643, 304651, 304710, 304779, 304791, 304857, 304872, 304873, 304906, 304949, 304955, 304960, 304973, 305053, 305147, 305160, 305259, 305304, 305319, 305352, 305379, 305446, 305449, 305466, 305472, 305498, 305597, 305619, 305647, 305657, 305673, 305692, 305714, 305739, 305759, 305767, 305781, 305834, 305846, 305850, 305874, 306031, 306108, 306114, 306156, 306164, 306178, 306183, 306215, 306225, 306233, 306289, 306309, 306352, 306383, 306405, 306440, 306459, 306460, 306467, 306473, 306495, 306496, 306513, 306515, 306563, 306567, 306593, 306601, 306639, 306646, 306666, 306678, 306707, 306710, 306747, 306779, 306784, 306785, 306790, 306830, 306850, 306868, 306889, 306908, 306967, 306982, 306985, 307149, 307315, 307371, 307392, 307404, 307423, 307440, 307468, 307496, 307555, 307638, 307643, 307767, 307786, 307812, 307837, 308027, 308028, 308064, 308077, 308087, 308118, 308136, 308144, 308205, 308237, 308239, 308242, 308279, 308285, 308296, 308334, 308373, 308489, 308493, 308498, 308540, 308550, 308608, 308654, 308686, 308691, 308709, 308746, 308764, 308812, 308861, 308874, 308889, 308901, 308924, 308944, 308945, 308995, 309033, 309055, 309056, 309098, 309122, 309124, 309178, 309196, 309212, 309230, 309272, 309284, 309311, 309348, 309350, 309463, 309504, 309513, 309566, 309580, 309620, 309630, 309634, 309778, 309895, 309932, 309955, 309974, 310014, 310045, 310085, 310101, 310152, 310158, 310255, 310290, 310320, 310380, 310396, 310525, 310632, 310773, 310774, 310850, 310864, 310889, 310907, 310969, 311020, 311080, 311124, 311177, 311184, 311194, 311231, 311249, 311255, 311269, 311350, 311357, 311376, 311409, 311446, 311495, 311497, 311512, 311524, 311534, 311551, 311569, 311671, 311696, 311764, 311795, 311907, 311913, 311914, 311931, 311949, 311974, 312015, 312017, 312055, 312088, 312108, 312131, 312157, 312197, 312206, 312232, 312242, 312271, 312338, 312353, 312372, 312427, 312446, 312477, 312498, 312500, 312528, 312588, 312634, 312653, 312667, 312678, 312692, 312766, 312767, 312771, 312785, 312881, 312897, 312956, 312966, 313022, 313038, 313146, 313181, 313243, 313255, 313321, 313546, 313573, 313702, 313729, 313749, 313786, 313835, 313852, 313853, 313873, 313925, 313929, 313930, 313945, 313946, 313986, 314007, 314052, 314092, 314149, 314153, 314165, 314177, 314182, 314209, 314240, 314310, 314322, 314347, 314375, 314422, 314525, 314539, 314592, 314627, 314645, 314646, 314649, 314659, 314727, 314770, 314773, 314798, 314819, 314822, 314823, 314894, 314897, 314913, 314963, 315026, 315065, 315110, 315128, 315143, 315287, 315291, 315303, 315321, 315406, 315417, 315423, 315460, 315476, 315524, 315565, 315640, 315643, 315728, 315776, 315804, 315834, 315859, 315868, 315877, 315971, 315974, 315977, 315984, 315998, 316000, 316027, 316043, 316059, 316093, 316101, 316119, 316120, 316141, 316183, 316185, 316205, 316211, 316235, 316246, 316261, 316298, 316359, 316470, 316471, 316509, 316582, 316589, 316606, 316627, 316663, 316672, 316688, 316702, 316769, 316797, 316820, 316849, 316868, 316929, 317019, 317032, 317040, 317078, 317083, 317153, 317175, 317219, 317253, 317313, 317320, 317360, 317378, 317396, 317425, 317434, 317443, 317479, 317528, 317535, 317539, 317647, 317660, 317681, 317702, 317733, 317761, 317780, 317809, 317847, 317969, 318002, 318036, 318046, 318082, 318106, 318190, 318255, 318259, 318264, 318280, 318329, 318331, 318351, 318416, 318450, 318452, 318518, 318533, 318537, 318593, 318610, 318639, 318641, 318644, 318647, 318749, 318763, 318822, 318865, 318886, 318891, 318915, 318918, 318921, 318934, 318947, 318972, 318975, 318982, 318987, 319016, 319054, 319121, 319122, 319146, 319149, 319163, 319165, 319248, 319271, 319280, 319371, 319422, 319560, 319582, 319588, 319637, 319666, 319685, 319697, 319733, 319768, 319831, 319842, 319854, 319889, 320014, 320047, 320071, 320084, 320102, 320124, 320192, 320194, 320196, 320277, 320280, 320294, 320305, 320376, 320386, 320421, 320451, 320510, 320513, 320744, 320811, 320818, 320835, 320984, 321031, 321086, 321117, 321166, 321171, 321187, 321205, 321274, 321313, 321327, 321333, 321403, 321435, 321577, 321629, 321666, 321709, 321733, 321758, 321760, 321763, 321770, 321787, 321817, 321822, 321824, 321851, 321856, 321865, 321880, 321896, 321943, 321959, 321990, 322013, 322143, 322144, 322171, 322208, 322238, 322385, 322391, 322547, 322585, 322614, 322658, 322674, 322691, 322789, 322873, 322931, 322980, 322999, 323006, 323009, 323016, 323020, 323044, 323054, 323055, 323069, 323139, 323155, 323229, 323269, 323309, 323421, 323545, 323573, 323605, 323619, 323627, 323639, 323706, 323713, 323726, 323773, 323790, 323798, 323810, 323811, 324011, 324019, 324021, 324120, 324173, 324231, 324254, 324372, 324386, 324420, 324445, 324469, 324506, 324546, 324561, 324568, 324601, 324609, 324629, 324637, 324654, 324655, 324791, 324854, 324922, 324947, 324960, 325007, 325033, 325089, 325159, 325171, 325179, 325353, 325355, 325372, 325374, 325390, 325461, 325493, 325537, 325538, 325573, 325596, 325658, 325706, 325732, 325744, 325786, 325792, 325802, 325921, 325923, 325971, 326033, 326048, 326064, 326083, 326104, 326156, 326199, 326232, 326283, 326297, 326310, 326330, 326334, 326342, 326370, 326379, 326400, 326566, 326587, 326624, 326691, 326857, 326862, 326886, 327112, 327120, 327127, 327154, 327164, 327202, 327323, 327397, 327434, 327435, 327462, 327474, 327518, 327533, 327573, 327589, 327606, 327612, 327723, 327766, 327769, 327779, 327786, 327825, 327886, 327901, 327902, 327964, 328051, 328060, 328199, 328216, 328239, 328242, 328301, 328447, 328466, 328518, 328525, 328561, 328570, 328581, 328606, 328610, 328663, 328669, 328697, 328776, 328923, 328947, 328949, 328981, 329005, 329026, 329054, 329059, 329088, 329130, 329144, 329174, 329205, 329266, 329301, 329355, 329408, 329425, 329426, 329530, 329587, 329603, 329733, 329752, 329759, 329778, 329783, 329792, 329793, 329852, 329874, 329924, 329925, 329980, 329993, 330087, 330132, 330144, 330174, 330263, 330301, 330416, 330466, 330470, 330535, 330571, 330664, 330695, 330715, 330799, 330826, 330836, 330874, 330901, 331046, 331065, 331126, 331381, 331395, 331419, 331433, 331474, 331481, 331482, 331511, 331527, 331539, 331552, 331556, 331609, 331611, 331615, 331643, 331650, 331651, 331776, 331831, 331861, 331875, 331894, 331902, 332008, 332187, 332194, 332243, 332249, 332355, 332379, 332401, 332465, 332588, 332657, 332666, 332702, 332703, 332727, 332785, 332884, 332931, 333100, 333108, 333119, 333158, 333230, 333270, 333296, 333305, 333505, 333530, 333541, 333611, 333651, 333664, 333676, 333677, 333701, 333843, 333910, 333953, 333990, 334026, 334032, 334039, 334105, 334113, 334132, 334133, 334221, 334224, 334267, 334273, 334291, 334308, 334314, 334346, 334357, 334366, 334368, 334409, 334427, 334522, 334585, 334593, 334618, 334633, 334666, 334676, 334679, 334693, 334741, 334744, 334783, 334787, 334946, 334991, 334999, 335005, 335015, 335065, 335067, 335104, 335168, 335183, 335248, 335357, 335376, 335421, 335427, 335453, 335481, 335533, 335549, 335570, 335605, 335625, 335665, 335704, 335716, 335764, 335777, 335973, 335979, 335997, 335998, 336007, 336010, 336042, 336061, 336088, 336163, 336188, 336215, 336226, 336329, 336360, 336367, 336404, 336440, 336509, 336513, 336540, 336543, 336571, 336595, 336598, 336643, 336707, 336763, 336793, 336880, 336891, 336906, 336951, 336969, 336984, 337039, 337046, 337050, 337064, 337130, 337195, 337286, 337378, 337456, 337469, 337488, 337494, 337505, 337587, 337599, 337606, 337629, 337639, 337664, 337666, 337693, 337696, 337720, 337721, 337766, 337768, 337778, 337825, 337867, 337895, 337898, 337908, 337940, 337992, 338013, 338033, 338105, 338212, 338260, 338270, 338283, 338290, 338316, 338320, 338345, 338355, 338376, 338409, 338416, 338611, 338620, 338632, 338740, 338816, 338836, 339002, 339100, 339123, 339142, 339163, 339168, 339321, 339324, 339346, 339358, 339372, 339388, 339442, 339473, 339482, 339506, 339547, 339588, 339667, 339671, 339681, 339682, 339755, 339767, 339772, 339773, 339814, 339863, 339897, 339905, 339952, 339954, 339956, 340001, 340018, 340043, 340091, 340110, 340117, 340148, 340171, 340217, 340234, 340260, 340269, 340332, 340335, 340341, 340408, 340428, 340458, 340475, 340476, 340534, 340543, 340557, 340567, 340588, 340591, 340599, 340614, 340682, 340718, 340723, 340734, 340755, 340787, 340880, 340885, 340899, 340917, 340939, 340940, 340982, 341051, 341102, 341117, 341178, 341187, 341204, 341227, 341294, 341346, 341353, 341358, 341368, 341395, 341410, 341439, 341471, 341504, 341539, 341548, 341610, 341638, 341643, 341672, 341695, 341709, 341741, 341757, 341762, 341797, 341835, 341846, 341995, 342019, 342084, 342121, 342164, 342175, 342384, 342448, 342458, 342494, 342567, 342575, 342599, 342635, 342642, 342709, 342719, 342730, 342752, 342768, 342769, 342824, 342834, 342852, 342865, 342906, 342907, 342946, 342953, 342989, 343014, 343019, 343021, 343052, 343059, 343061, 343068, 343079, 343121, 343161, 343190, 343200, 343231, 343242, 343377, 343403, 343440, 343447, 343476, 343506, 343553, 343579, 343591, 343609, 343642, 343646, 343699, 343721, 343742, 343748, 343789, 343847, 343849, 343872, 343925, 343944, 343957, 344060, 344073, 344128, 344129, 344152, 344157, 344172, 344176, 344200, 344275, 344278, 344329, 344351, 344394, 344414, 344415, 344425, 344480, 344492, 344572, 344621, 344624, 344719, 344742, 344743, 344804, 344855, 344858, 344891, 344916, 344920, 344991, 345006, 345073, 345121, 345122, 345236, 345259, 345277, 345285, 345339, 345360, 345363, 345403, 345405, 345489, 345493, 345497, 345504, 345522, 345705, 345712, 345730, 345780, 345789, 345831, 345898, 345911, 345969, 346014, 346033, 346034, 346053, 346122, 346159, 346189, 346253, 346275, 346321, 346341, 346382, 346406, 346478, 346480, 346532, 346594, 346635, 346668, 346693, 346754, 346762, 346766, 346847, 346871, 346909, 346963, 346964, 346975, 346978, 347025, 347089, 347132, 347153, 347166, 347292, 347321, 347322, 347336, 347434, 347446, 347491, 347513, 347519, 347530, 347623, 347653, 347692, 347720, 347803, 347814, 347834, 347867, 347890, 347910, 347934, 347935, 347960, 348022, 348038, 348092, 348099, 348144, 348148, 348152, 348172, 348416, 348420, 348430, 348460, 348491, 348504, 348521, 348588, 348592, 348618, 348690, 348728, 348739, 348751, 348771, 348796, 348802, 348854, 348886, 348960, 348986, 349022, 349028, 349041, 349066, 349116, 349148, 349151, 349154, 349169, 349190, 349221, 349230, 349304, 349340, 349341, 349347, 349365, 349368, 349405, 349431, 349502, 349620, 349633, 349689, 349691, 349703, 349795, 349884, 349898, 349910, 349986, 350001, 350162, 350181, 350247, 350254, 350379, 350387, 350440, 350498, 350603, 350624, 350651, 350661, 350680, 350759, 350783, 350845, 350853, 350979, 350995, 351040, 351084, 351141, 351161, 351187, 351195, 351228, 351278, 351299, 351324, 351350, 351381, 351402, 351576, 351711, 351731, 351802, 351810, 351869, 351871, 351952, 352005, 352056, 352057, 352094, 352139, 352156, 352188, 352196, 352207, 352248, 352448, 352465, 352542, 352606, 352612, 352614, 352628, 352640, 352712, 352768, 352806, 352812, 352834, 352882, 352971, 353010, 353012, 353039, 353142, 353195, 353213, 353219, 353244, 353263, 353270, 353281, 353298, 353352, 353358, 353396, 353432, 353512, 353524, 353541, 353628, 353696, 353795, 353808, 353824, 353881, 353927, 353994, 354024, 354037, 354075, 354078, 354095, 354104, 354148, 354201, 354351, 354405, 354408, 354464, 354529, 354558, 354573, 354591, 354739, 354784, 354923, 354929, 354962, 355053, 355259, 355287, 355320, 355468, 355477, 355551, 355569, 355571, 355645, 355686, 355700, 355728, 355756, 355789, 355802, 355856, 355865, 355890, 355918, 355954, 355978, 355996, 356015, 356017, 356067, 356089, 356133, 356238, 356250, 356272, 356344, 356555, 356567, 356619, 356689, 356717, 356772, 356823, 356824, 356838, 356882, 356934, 357028, 357029, 357059, 357118, 357145, 357173, 357283, 357338, 357348, 357437, 357540, 357596, 357612, 357619, 357679, 357691, 357720, 357750, 357781, 357788, 357814, 357848, 357870, 357933, 357943, 357949, 357954, 357962, 358056, 358124, 358199, 358242, 358373, 358461, 358465, 358533, 358554, 358585, 358631, 358636, 358668, 358677, 358682, 358701, 358740, 358753, 358783, 358837, 358886, 358893, 358975, 359001, 359131, 359155, 359193, 359249, 359259, 359292, 359327, 359428, 359461, 359543, 359591, 359678, 359696, 359759, 359766, 359796, 359808, 359828, 359972, 359985, 360096, 360097, 360131, 360252, 360393, 360457, 360491, 360527, 360593, 360743, 360799, 360814, 360884, 361138, 361280, 361307, 361324, 361341, 361481, 361487, 361493, 361494, 361497, 361561, 361631, 361721, 361742, 361817, 361838, 361842, 361870, 361875, 361888, 362062, 362165, 362259, 362302, 362309, 362482, 362491, 362589, 362600, 362623, 362654, 362685, 362747, 362787, 362795, 362826, 362835, 362883, 362912, 362999, 363032, 363053, 363087, 363130, 363134, 363192, 363219, 363296, 363395, 363405, 363418, 363425, 363591, 363630, 363677, 363707, 363875, 363963, 364099, 364310, 364342, 364365, 364548, 364563, 364657, 364685, 364782, 364832, 364862, 364913, 364958, 365020, 365049, 365050, 365110, 365289, 365390, 365411, 365430, 365465, 365511, 365516, 365613, 365640, 365683, 365739, 365871, 365908, 365916, 365986, 365996, 366065, 366066, 366089, 366180, 366198, 366207, 366219, 366232, 366324, 366416, 366531, 366563, 366618, 366662, 366757, 366796, 366898, 366900, 366929, 366957, 367020, 367037, 367049, 367200, 367237, 367251, 367260, 367292, 367306, 367314, 367329, 367390, 367533, 367655, 367695, 367706, 367749, 367984, 368005, 368115, 368140, 368476, 368517, 368561, 368675, 368700, 368727, 368739, 368757, 368797, 368825, 368852, 368925, 368947, 368949, 369027, 369084, 369114, 369131, 369166, 369386, 369387, 369463, 369468, 369522, 369527, 369538, 369549, 369648, 369677, 369678, 369781, 369825, 369843, 369909, 370045, 370119, 370156, 370160, 370183, 370242, 370494, 370502, 370509, 370548, 370552, 370585, 370615, 370727, 370733, 370767, 370795, 370837, 370881, 370888, 370890, 370990, 371064, 371089, 371299, 371305, 371316, 371373, 371382, 371556, 371827, 371886, 371987, 372020, 372130, 372181, 372317, 372483, 372484, 372500, 372525, 372559, 372636, 372682, 372692, 372728, 372838, 372967, 373050, 373185, 373213, 373263, 373344, 373366, 373367, 373403, 373432, 373469, 373499, 373550, 373553, 373606, 373628, 373662, 373698, 373718, 373895, 373914, 373935, 373952, 374108, 374116, 374137, 374163, 374253, 374262, 374313, 374367, 374450, 374454, 374524, 374580, 374588, 374716, 374764, 374790, 374833, 374883, 374905, 374918, 374924, 374969, 374983, 375049, 375077, 375078, 375114, 375134, 375170, 375313, 375422, 375452, 375482, 375499, 375515, 375574, 375603, 375606, 375655, 375657, 375675, 375680, 375698, 375827, 375833, 375868, 375871, 375980, 376025, 376028, 376058, 376072, 376133, 376150, 376230, 376240, 376277, 376302, 376383, 376393, 376416, 376455, 376474, 376483, 376506, 376540, 376647, 376680, 376683, 376789, 376929, 376936, 376973, 376979, 377017, 377018, 377061, 377095, 377121, 377140, 377283, 377322, 377374, 377401, 377486, 377622, 377680, 377701, 377725, 377754, 377757, 377798, 377836, 377850, 377869, 377931, 378009, 378045, 378104, 378114, 378221, 378239, 378251, 378322, 378384, 378418, 378460, 378546, 378707, 378723, 378747, 378916, 379046, 379062, 379066, 379118, 379198, 379242, 379350, 379393, 379412, 379418, 379485, 379522, 379525, 379682, 379768, 379778, 379779, 379798, 379819, 379883, 379885, 379919, 379940, 379959, 380127, 380162, 380219, 380281, 380357, 380462, 380543, 380544, 380560, 380614, 380633, 380674, 380687, 380922, 381153, 381357, 381583, 381618, 381645, 381741, 381789, 381851, 381895, 381931, 381965, 382146, 382153, 382242, 382272, 382368, 382499, 382635, 382738, 382764, 382802, 382859, 383058, 383239, 383269, 383306, 383322, 383365, 383384, 383402, 383493, 383518, 383603, 383637, 383745, 384150, 384236, 384246, 384248, 384276, 384308, 384508, 384651, 384795, 385077, 385092, 385242, 385278, 385412, 385452, 385540, 385591, 385632, 385646, 385847, 385901, 385959, 386019, 386036, 386040, 386136, 386175, 386261, 386331, 386337, 386370, 386378, 386397, 386585, 386643, 386672, 386705, 386726, 386773, 386864, 386877, 386940, 386949, 387068, 387074, 387108, 387116, 387215, 387250, 387270, 387335, 387430, 387468, 387568, 387569, 387641, 387770, 387776, 387777, 387779, 387839, 387844, 387871, 388023, 388093, 388112, 388156, 388247, 388252, 388384, 388496, 388594, 388625, 388672, 388725, 388741, 388811, 388812, 388849, 388885, 388998, 389143, 389147, 389254, 389270, 389479, 389713, 389725, 389755, 389765, 389843, 389850, 389856, 389857, 389932, 389942, 390157, 390316, 390348, 390368, 390369, 390472, 390608, 390657, 390781, 390817, 390856, 390867, 390879, 390997, 391016, 391040, 391114, 391121, 391122, 391171, 391192, 391257, 391329, 391349, 391468, 391585, 391591, 391679, 391736, 391744, 391867, 391874, 391926, 392100, 392160, 392167, 392286, 392325, 392487, 392502, 392668, 392694, 392812, 392886, 393248, 393264, 393354, 393357, 393360, 393376, 393480, 393673, 393712, 393715, 393728, 393768, 393945, 393965, 394176, 394447, 394474, 394484, 394503, 394534, 394612, 394669, 394727, 394820, 394860, 394927, 395022, 395026, 395078, 395170, 395297, 395368, 395512, 395567, 395736, 395831, 396099, 396116, 396270, 396467, 396482, 396538, 396595, 396633, 396722, 396745, 396758, 396790, 396878, 396895, 397280, 397307, 397317, 397346, 397466, 397467, 397831, 397877, 397962, 397963, 398001, 398019, 398067, 398212, 398220, 398473, 398625, 398626, 398652, 398662, 398827, 398843, 398904, 398918, 398931, 398986, 398988, 399020, 399022, 399052, 399087, 399088, 399155, 399246, 399386, 399387, 399449, 399522, 399904, 400004, 400061, 400132, 400225, 400285, 400356, 400416, 400443, 400535, 400616, 400630, 400635, 400943, 400966, 401051, 401104, 401118, 401134, 401198, 401333, 401335, 401451, 401508, 401531, 401623, 401690, 401723, 401762, 401832, 401886, 401930, 401998, 402089, 402306, 402361, 402367, 402397, 402462, 402539, 402778, 402812, 402975, 402998, 403037, 403072, 403107, 403112, 403187, 403276, 403391, 403433, 403467, 403468, 403489, 403519, 403550, 403552, 403625, 403671, 403782, 403788, 403860, 403865, 403910, 403911, 404023, 404062, 404085, 404416, 404421, 404453, 404547, 404573, 404599, 404601, 404616, 404661, 404868, 404951, 404998, 405083, 405155, 405177, 405284, 405309, 405362, 405374, 405386, 405526, 405577, 405644, 405684, 405723, 405765, 405793, 405855, 405913, 406051, 406078, 406463, 406468, 406603, 406641, 406662, 406811, 406826, 406920, 406955, 406978, 407043, 407068, 407138, 407338, 407425, 407495, 407618, 407669, 407672, 407684, 407759, 407913, 407930, 408229, 408328, 408383, 408427, 408473, 408498, 408531, 408537, 408623, 408717, 408773, 408788, 408813, 409172, 409189, 409200, 409201, 409230, 409505, 409604, 409622, 409815, 409842, 409902, 409922, 410034, 410114, 410186, 410216, 410240, 410351, 410439, 410446, 410450, 410489, 410543, 410615, 410867, 410913, 410919, 410980, 411007, 411068, 411273, 411395, 411560, 411587, 411652, 411797, 411862, 411950, 412149, 412156, 412248, 412296, 412316, 412379, 412435, 412952, 413227, 413297, 413345, 413363, 413373, 413557, 413648, 413760, 414525, 414545, 414683, 414721, 414791, 414812, 414871, 414991, 414994, 415037, 415051, 415287, 415354, 415500, 415520, 415578, 415706, 415847, 415913, 416059, 416103, 416129, 416164, 416165, 416338, 416356, 416415, 416577, 416745, 416829, 417136, 417419, 417605, 417657, 417668, 417941, 418020, 418176, 418324, 418405, 418702, 418961, 419053, 419134, 419146, 419394, 419554, 419658, 419691, 419721, 419722, 419732, 419740, 419895, 420054, 420277, 420282, 420351, 420537, 420629, 420691, 420749, 420779, 420895, 420917, 420973, 420986, 421065, 421132, 421223, 421412, 421446, 421449, 421467, 421561, 421633, 421837, 421871, 421967, 422013, 422149, 422249, 422275, 422718, 422813, 422836, 422933, 422960, 423024, 423052, 423064, 423158, 423217, 423222, 423250, 423297, 423460, 423561, 423605, 423616, 423711, 423770, 423863, 424012, 424034, 424079, 424094, 424468, 424478, 424494, 424591, 424719, 424855, 424884, 424988, 425049, 425092, 425161, 425199, 425447, 425497, 425528, 425622, 425627, 425785, 425804, 426001, 426017, 426263, 426431, 426467, 426562, 426836, 426895, 427055, 427382, 427422, 427474, 427686, 427744, 427781, 427862, 427952, 427965, 428030, 428271, 428299, 428350, 428405, 428499, 428584, 429346, 429507, 429897, 430005, 430035, 430084, 430175, 430283, 430471, 430554, 430828, 431192, 431245, 431307, 431426, 431513, 431515, 431637, 431745, 431861, 432052, 432154, 432376, 432555, 432565, 433170, 433330, 433375, 433491, 433665, 433669, 433705, 433788, 433906, 433989, 434097, 434102, 434114, 434268, 434292, 434430, 434463, 434467, 434710, 434894, 435022, 435469, 435503, 435604, 435638, 435835, 435836, 435842, 436006, 436107, 436163, 436253, 436341, 436361, 436493, 436770, 436798, 436861, 437281, 437666, 437727, 437825, 437851, 437890, 437909, 437994, 438139, 438176, 438427, 438696, 438711, 438839, 438996, 439263, 439592, 439608, 439779, 439919, 440129, 440138, 440417, 440456, 440607, 440647, 440706, 440969, 441210, 441454, 441542, 441591, 441620, 441637, 441700, 442035, 442045, 442131, 442274, 442359, 442429, 442612, 443040, 443179, 443508, 443546, 443742, 443855, 444089, 444134, 444219, 444304, 444554, 444607, 444743, 444822, 445168, 445382, 445728, 445758, 445824, 445940, 446140, 446219, 446358, 446512, 446559, 446654, 446771, 446839, 447066, 447079, 447346, 447488, 447555, 447579, 447739, 447882, 448026, 448337, 448626, 449101, 449257, 449354, 449432, 449576, 450246, 450544, 450580, 450695, 450920, 450924, 451059, 451744, 451940, 451951, 451996, 452205, 452283, 452402, 452405, 452406, 452452, 452640, 452808, 452924, 453067, 454063, 454508, 454614, 454843, 454915, 454934, 454941, 454989, 455361, 455379, 455553, 455995, 456062, 456110, 456236, 456367, 456399, 456460, 456572, 456604, 456618, 456661, 456922, 456956, 457237, 457402, 458549, 458558, 459007, 459189, 459248, 459342, 459463, 459465, 459548, 460046, 460214, 460408, 460437, 460835, 461337, 461678, 461715, 461929, 462180, 462255, 462294, 462440, 462820, 462832, 462838, 462869, 462890, 462966, 463072, 463194, 463667, 464103, 464502, 464536, 464945, 465326, 465507, 465974, 466224, 466325, 466458, 466498, 466502, 467108, 467579, 467611, 467799, 468706, 468713, 469056, 469454, 469572, 469602, 469697, 469705, 469864, 469907, 469921, 470203, 470368, 470663, 470875, 471452, 471990, 472070, 472166, 472580, 472604, 472789, 472807, 473040, 473133, 473171, 473547, 473625, 473748, 473836, 474136, 474617, 475028, 475322, 475324, 476334, 476391, 476558, 476573, 476599, 476653, 477106, 477209, 477505, 477697, 477867, 477983, 478205, 478315, 478346, 478380, 478457, 478829, 478994, 479482, 479611, 479621, 479765, 480717, 480861, 481060, 481096, 481175, 481987, 482082, 482732, 482927, 483201, 483261, 483450, 483530, 483596, 483777, 483822, 484024, 484298, 484475, 484669, 484861, 485117, 485496, 485710, 486332, 487085, 487330, 487347, 487411, 487486, 487742, 488541, 488706, 488720, 489085, 490332, 491000, 491421, 491862, 492263, 493034, 493363, 493443, 493689, 493862, 494223, 494638, 494784, 495061, 495888, 495982, 496025, 496382, 496414, 496526, 496538, 496743, 496856, 497253, 497280, 497300, 497486, 497788, 498079, 498216, 498325, 498328, 498349, 498785, 499001, 499197, 499233, 499249, 499935, 500002, 500509, 500720, 501144, 501172, 501671, 502316, 502752, 502837, 503012, 503454, 503675, 503923, 504725, 504871, 504951, 505119, 505438, 505980, 506329, 506436, 506830, 506858, 507086, 507875, 508336, 508548, 508891, 509048, 509060, 509350, 509364, 509462, 509500, 509629, 509866, 510072, 511068, 511289, 511331, 511361, 511517, 511668, 512103, 512771, 512828, 512992, 513416, 513660, 514033, 514716, 515025, 515629, 515712, 515797, 516337, 517000, 517036, 517995, 518030, 518530, 519006, 519627, 520033, 520078, 520231, 520586, 520759, 520775, 521400, 521665, 522881, 523067, 523095, 523484, 523910, 525878, 526164, 526528, 526734, 526968, 527162, 528616, 529104, 529216, 529223, 530099, 530454, 531055, 532379, 532845, 533147, 535978, 536725, 537222, 538319, 538443, 538583, 538822, 539563, 539864, 540712, 541282, 541343, 541737, 542265, 543028, 543042, 543162, 543477, 543922, 544091, 544268, 544686, 544792, 545483, 547886, 548256, 548303, 548361, 548510, 548580, 548664, 549174, 549341, 549349, 549413, 549430, 550848, 551962, 552354, 553405, 553473, 554206, 554317, 554986, 556652, 556660, 556688, 556902, 557082, 557236, 557349, 557644, 557853, 558183, 558490, 558944, 560804, 561334, 561489, 562336, 562558, 563883, 564135, 565313, 566049, 566117, 566537, 567788, 568490, 569761, 569930, 570002, 570562, 570821, 571017, 571853, 572751, 573583, 574005, 574271, 575442, 577521, 578377, 578701, 580248, 581071, 583755, 584259, 584790, 585203, 585361, 586657, 587310, 588003, 588484, 588905, 589809, 591711, 592930, 593246, 594187, 595000, 595088, 595461, 596776, 597843, 598606, 598802, 598995, 599629, 602513, 604045, 604380, 604506, 604537, 605502, 606111, 606752, 607799, 607848, 608184, 609789, 609935, 611029, 615367, 615893, 617021, 617860, 617898, 618191, 628797, 631947, 632593, 632613, 632834, 633742, 634226, 635913, 636017, 637080, 637222, 640383, 642830, 647882, 648223, 651396, 653574, 654141, 656036, 657397, 659273, 659504, 659558, 660461, 660870, 663394, 664366, 664670, 664821, 668319, 668362, 671292, 672412, 673764, 675421, 680390, 682947, 684015, 688355, 691830, 691903, 693066, 694812, 695136, 695411, 698363, 698418, 703067, 703107, 704108, 706026, 706180, 709445, 709798, 715938, 716066, 716416, 721161, 721712, 732102, 732569, 734193, 737315, 738812, 745768, 745817, 746432, 746786, 747719, 749105, 749636, 750972, 755858, 758700, 761006, 766115, 767403, 791084, 795830, 799281, 806316, 806552, 809585, 816750, 849857, 857532, 860348, 889965, 910398, 913447, 917220, 930948, 953588, 972354, 981628, 1033222, 1038553, 1085515, 1097453, 1125613, 1161363, 1184622, 1226583, 1268339, 1366120, 1455435, 1484705]\n",
            "\n",
            "Total unique values of feature fnlwgt: 21648\n",
            "\n"
          ]
        },
        {
          "output_type": "display_data",
          "data": {
            "text/plain": [
              "count    3.256100e+04\n",
              "mean     1.897784e+05\n",
              "std      1.055500e+05\n",
              "min      1.228500e+04\n",
              "25%      1.178270e+05\n",
              "50%      1.783560e+05\n",
              "75%      2.370510e+05\n",
              "max      1.484705e+06\n",
              "Name: fnlwgt, dtype: float64"
            ]
          },
          "metadata": {}
        }
      ]
    },
    {
      "cell_type": "code",
      "source": [
        "ax=df[var].hist(bins=100)\n",
        "ax.set_title('Data distribution of feature '+var)\n",
        "ax.set_ylabel('Number of People')\n",
        "ax.set_xlabel('fnlwgt')\n",
        "plt.show()\n",
        "\n",
        "sns.boxplot(y='fnlwgt', x='income', data=df)\n",
        "plt.show()"
      ],
      "metadata": {
        "colab": {
          "base_uri": "https://localhost:8080/",
          "height": 1000
        },
        "id": "6xioa6LoaAhm",
        "outputId": "3d3aa7fd-9cc5-42a0-a7c0-af8f2e65888b"
      },
      "execution_count": null,
      "outputs": [
        {
          "output_type": "display_data",
          "data": {
            "text/plain": [
              "<Figure size 720x576 with 1 Axes>"
            ],
            "image/png": "[encoded data removed]"
          },
          "metadata": {
            "needs_background": "light"
          }
        },
        {
          "output_type": "display_data",
          "data": {
            "text/plain": [
              "<Figure size 720x576 with 1 Axes>"
            ],
            "image/png": "[encoded data removed]"
          },
          "metadata": {
            "needs_background": "light"
          }
        }
      ]
    },
    {
      "cell_type": "markdown",
      "source": [
        "*   Numerical feature with large scale values, and almost a distinct value to each person.\n",
        "\n",
        "* No missing or null data.\n",
        "\n",
        "* Regarding the relationship between features fnlwgt and income, we note that the boxplots for both classes of the target feature regarding the data distribution of fnlwgt did not show notable differences.\n",
        "\n",
        "* This may indicate that fnlwgt is not so useful for the model.\n",
        "\n",
        "* We also note outliers in both classes of the target regarding the values of fnlwgt."
      ],
      "metadata": {
        "id": "xRgSWxSNd6WH"
      }
    },
    {
      "cell_type": "markdown",
      "source": [
        "Feature **education**"
      ],
      "metadata": {
        "id": "OxX0qmQ3eYYv"
      }
    },
    {
      "cell_type": "code",
      "source": [
        "var=\"education\"\n",
        "categorical_feature_analysis(df,var)"
      ],
      "metadata": {
        "colab": {
          "base_uri": "https://localhost:8080/"
        },
        "id": "ZiVrZ07LeZbC",
        "outputId": "6283826d-3c96-4bff-f672-004840835b06"
      },
      "execution_count": null,
      "outputs": [
        {
          "output_type": "stream",
          "name": "stdout",
          "text": [
            "Data values by class of feature education:\n",
            " HS-grad         10501\n",
            " Some-college     7291\n",
            " Bachelors        5355\n",
            " Masters          1723\n",
            " Assoc-voc        1382\n",
            " 11th             1175\n",
            " Assoc-acdm       1067\n",
            " 10th              933\n",
            " 7th-8th           646\n",
            " Prof-school       576\n",
            " 9th               514\n",
            " 12th              433\n",
            " Doctorate         413\n",
            " 5th-6th           333\n",
            " 1st-4th           168\n",
            " Preschool          51\n",
            "Name: education, dtype: int64\n",
            "\n",
            "Percentage of data values by class of feature education:\n",
            " HS-grad         0.322502\n",
            " Some-college    0.223918\n",
            " Bachelors       0.164461\n",
            " Masters         0.052916\n",
            " Assoc-voc       0.042443\n",
            " 11th            0.036086\n",
            " Assoc-acdm      0.032769\n",
            " 10th            0.028654\n",
            " 7th-8th         0.019840\n",
            " Prof-school     0.017690\n",
            " 9th             0.015786\n",
            " 12th            0.013298\n",
            " Doctorate       0.012684\n",
            " 5th-6th         0.010227\n",
            " 1st-4th         0.005160\n",
            " Preschool       0.001566\n",
            "Name: education, dtype: float64\n",
            "\n",
            "Unique values of feature education:\n",
            "[' Bachelors' ' HS-grad' ' 11th' ' Masters' ' 9th' ' Some-college'\n",
            " ' Assoc-acdm' ' Assoc-voc' ' 7th-8th' ' Doctorate' ' Prof-school'\n",
            " ' 5th-6th' ' 10th' ' 1st-4th' ' Preschool' ' 12th']\n",
            "\n"
          ]
        }
      ]
    },
    {
      "cell_type": "code",
      "source": [
        "##plot distribution\n",
        "ax=df[var].value_counts(normalize=True).plot.bar()\n",
        "ax.set_title('Data distribution of feature '+var)\n",
        "ax.set_ylabel('Percentage of people')\n",
        "ax.set_xlabel('Education')\n",
        "ax.set_xticklabels(labels=[' HS-grad', ' Some-college', ' Bachelors', ' Masters', ' Assoc-voc', ' 11th', ' Assoc-acdm', ' 10th', ' 7th-8th', ' Prof-school', ' 9th', ' 12th', ' Doctorate', ' 5th-6th', ' 1st-4th', ' Preschool'])\n",
        "plt.show()\n"
      ],
      "metadata": {
        "colab": {
          "base_uri": "https://localhost:8080/",
          "height": 573
        },
        "id": "Utitt3kTenFq",
        "outputId": "6eb6263a-36a6-441d-aedc-e46c162aaf58"
      },
      "execution_count": null,
      "outputs": [
        {
          "output_type": "display_data",
          "data": {
            "text/plain": [
              "<Figure size 720x576 with 1 Axes>"
            ],
            "image/png": "[encoded data removed]"
          },
          "metadata": {
            "needs_background": "light"
          }
        }
      ]
    },
    {
      "cell_type": "code",
      "source": [],
      "metadata": {
        "id": "rAOtgOYrg56-"
      },
      "execution_count": null,
      "outputs": []
    },
    {
      "cell_type": "code",
      "source": [
        "print('Percentage of people with HS-grad that makes >$50K/yr: ', len(df[(df['education']==' HS-grad') & (df['income']==' >50K')])/len(df)*100)\n",
        "print('Percentage of people with some college degree that makes >$50K/yr: ', len(df[(df['education']=='Some-college') & (df['income']==' >50K')])/len(df)*100)\n",
        "print('Percentage of people with bachelors that makes >$50K/yr: ', len(df[(df['education']==' Bachelors') & (df['income']==' >50K')])/len(df)*100)\n",
        "print('Percentage of people with doctorate degree that makes >$50K/yr: ', len(df[(df['education']==' Doctorate') & (df['income']==' >50K')])/len(df)*100)\n",
        "\n",
        "#pd.crosstab([train_data['education'], train_data['workclass']], train_data['income'], normalize='index')\n",
        "display(pd.crosstab([df['education']], df['income'], normalize='index'))\n",
        "\n",
        "pd.crosstab([df['education']], df['income'], normalize='index').plot.bar()\n",
        "plt.ylabel('Percentage of People (normalized by class)')"
      ],
      "metadata": {
        "id": "yp0_QIVKgbmu",
        "colab": {
          "base_uri": "https://localhost:8080/",
          "height": 1000
        },
        "outputId": "6ed50b80-cff4-489b-fc76-e84146eb4f71"
      },
      "execution_count": null,
      "outputs": [
        {
          "output_type": "stream",
          "name": "stdout",
          "text": [
            "Percentage of people with HS-grad that makes >$50K/yr:  5.144190903227788\n",
            "Percentage of people with some college degree that makes >$50K/yr:  0.0\n",
            "Percentage of people with bachelors that makes >$50K/yr:  6.821043579742637\n",
            "Percentage of people with doctorate degree that makes >$50K/yr:  0.9397745769478825\n"
          ]
        },
        {
          "output_type": "display_data",
          "data": {
            "text/plain": [
              "income            <=50K      >50K\n",
              "education                        \n",
              " 10th          0.933548  0.066452\n",
              " 11th          0.948936  0.051064\n",
              " 12th          0.923788  0.076212\n",
              " 1st-4th       0.964286  0.035714\n",
              " 5th-6th       0.951952  0.048048\n",
              " 7th-8th       0.938080  0.061920\n",
              " 9th           0.947471  0.052529\n",
              " Assoc-acdm    0.751640  0.248360\n",
              " Assoc-voc     0.738784  0.261216\n",
              " Bachelors     0.585247  0.414753\n",
              " Doctorate     0.259080  0.740920\n",
              " HS-grad       0.840491  0.159509\n",
              " Masters       0.443413  0.556587\n",
              " Preschool     1.000000  0.000000\n",
              " Prof-school   0.265625  0.734375\n",
              " Some-college  0.809765  0.190235"
            ],
            "text/html": [
              "\n",
              "  <div id=\"df-f65d1e39-a1fb-4982-af53-84233d079b25\">\n",
              "    <div class=\"colab-df-container\">\n",
              "      <div>\n",
              "<style scoped>\n",
              "    .dataframe tbody tr th:only-of-type {\n",
              "        vertical-align: middle;\n",
              "    }\n",
              "\n",
              "    .dataframe tbody tr th {\n",
              "        vertical-align: top;\n",
              "    }\n",
              "\n",
              "    .dataframe thead th {\n",
              "        text-align: right;\n",
              "    }\n",
              "</style>\n",
              "<table border=\"1\" class=\"dataframe\">\n",
              "  <thead>\n",
              "    <tr style=\"text-align: right;\">\n",
              "      <th>income</th>\n",
              "      <th>&lt;=50K</th>\n",
              "      <th>&gt;50K</th>\n",
              "    </tr>\n",
              "    <tr>\n",
              "      <th>education</th>\n",
              "      <th></th>\n",
              "      <th></th>\n",
              "    </tr>\n",
              "  </thead>\n",
              "  <tbody>\n",
              "    <tr>\n",
              "      <th>10th</th>\n",
              "      <td>0.933548</td>\n",
              "      <td>0.066452</td>\n",
              "    </tr>\n",
              "    <tr>\n",
              "      <th>11th</th>\n",
              "      <td>0.948936</td>\n",
              "      <td>0.051064</td>\n",
              "    </tr>\n",
              "    <tr>\n",
              "      <th>12th</th>\n",
              "      <td>0.923788</td>\n",
              "      <td>0.076212</td>\n",
              "    </tr>\n",
              "    <tr>\n",
              "      <th>1st-4th</th>\n",
              "      <td>0.964286</td>\n",
              "      <td>0.035714</td>\n",
              "    </tr>\n",
              "    <tr>\n",
              "      <th>5th-6th</th>\n",
              "      <td>0.951952</td>\n",
              "      <td>0.048048</td>\n",
              "    </tr>\n",
              "    <tr>\n",
              "      <th>7th-8th</th>\n",
              "      <td>0.938080</td>\n",
              "      <td>0.061920</td>\n",
              "    </tr>\n",
              "    <tr>\n",
              "      <th>9th</th>\n",
              "      <td>0.947471</td>\n",
              "      <td>0.052529</td>\n",
              "    </tr>\n",
              "    <tr>\n",
              "      <th>Assoc-acdm</th>\n",
              "      <td>0.751640</td>\n",
              "      <td>0.248360</td>\n",
              "    </tr>\n",
              "    <tr>\n",
              "      <th>Assoc-voc</th>\n",
              "      <td>0.738784</td>\n",
              "      <td>0.261216</td>\n",
              "    </tr>\n",
              "    <tr>\n",
              "      <th>Bachelors</th>\n",
              "      <td>0.585247</td>\n",
              "      <td>0.414753</td>\n",
              "    </tr>\n",
              "    <tr>\n",
              "      <th>Doctorate</th>\n",
              "      <td>0.259080</td>\n",
              "      <td>0.740920</td>\n",
              "    </tr>\n",
              "    <tr>\n",
              "      <th>HS-grad</th>\n",
              "      <td>0.840491</td>\n",
              "      <td>0.159509</td>\n",
              "    </tr>\n",
              "    <tr>\n",
              "      <th>Masters</th>\n",
              "      <td>0.443413</td>\n",
              "      <td>0.556587</td>\n",
              "    </tr>\n",
              "    <tr>\n",
              "      <th>Preschool</th>\n",
              "      <td>1.000000</td>\n",
              "      <td>0.000000</td>\n",
              "    </tr>\n",
              "    <tr>\n",
              "      <th>Prof-school</th>\n",
              "      <td>0.265625</td>\n",
              "      <td>0.734375</td>\n",
              "    </tr>\n",
              "    <tr>\n",
              "      <th>Some-college</th>\n",
              "      <td>0.809765</td>\n",
              "      <td>0.190235</td>\n",
              "    </tr>\n",
              "  </tbody>\n",
              "</table>\n",
              "</div>\n",
              "      <button class=\"colab-df-convert\" onclick=\"convertToInteractive('df-f65d1e39-a1fb-4982-af53-84233d079b25')\"\n",
              "              title=\"Convert this dataframe to an interactive table.\"\n",
              "              style=\"display:none;\">\n",
              "        \n",
              "  <svg xmlns=\"http://www.w3.org/2000/svg\" height=\"24px\"viewBox=\"0 0 24 24\"\n",
              "       width=\"24px\">\n",
              "    <path d=\"M0 0h24v24H0V0z\" fill=\"none\"/>\n",
              "    <path d=\"M18.56 5.44l.94 2.06.94-2.06 2.06-.94-2.06-.94-.94-2.06-.94 2.06-2.06.94zm-11 1L8.5 8.5l.94-2.06 2.06-.94-2.06-.94L8.5 2.5l-.94 2.06-2.06.94zm10 10l.94 2.06.94-2.06 2.06-.94-2.06-.94-.94-2.06-.94 2.06-2.06.94z\"/><path d=\"M17.41 7.96l-1.37-1.37c-.4-.4-.92-.59-1.43-.59-.52 0-1.04.2-1.43.59L10.3 9.45l-7.72 7.72c-.78.78-.78 2.05 0 2.83L4 21.41c.39.39.9.59 1.41.59.51 0 1.02-.2 1.41-.59l7.78-7.78 2.81-2.81c.8-.78.8-2.07 0-2.86zM5.41 20L4 18.59l7.72-7.72 1.47 1.35L5.41 20z\"/>\n",
              "  </svg>\n",
              "      </button>\n",
              "      \n",
              "  <style>\n",
              "    .colab-df-container {\n",
              "      display:flex;\n",
              "      flex-wrap:wrap;\n",
              "      gap: 12px;\n",
              "    }\n",
              "\n",
              "    .colab-df-convert {\n",
              "      background-color: #E8F0FE;\n",
              "      border: none;\n",
              "      border-radius: 50%;\n",
              "      cursor: pointer;\n",
              "      display: none;\n",
              "      fill: #1967D2;\n",
              "      height: 32px;\n",
              "      padding: 0 0 0 0;\n",
              "      width: 32px;\n",
              "    }\n",
              "\n",
              "    .colab-df-convert:hover {\n",
              "      background-color: #E2EBFA;\n",
              "      box-shadow: 0px 1px 2px rgba(60, 64, 67, 0.3), 0px 1px 3px 1px rgba(60, 64, 67, 0.15);\n",
              "      fill: #174EA6;\n",
              "    }\n",
              "\n",
              "    [theme=dark] .colab-df-convert {\n",
              "      background-color: #3B4455;\n",
              "      fill: #D2E3FC;\n",
              "    }\n",
              "\n",
              "    [theme=dark] .colab-df-convert:hover {\n",
              "      background-color: #434B5C;\n",
              "      box-shadow: 0px 1px 3px 1px rgba(0, 0, 0, 0.15);\n",
              "      filter: drop-shadow(0px 1px 2px rgba(0, 0, 0, 0.3));\n",
              "      fill: #FFFFFF;\n",
              "    }\n",
              "  </style>\n",
              "\n",
              "      <script>\n",
              "        const buttonEl =\n",
              "          document.querySelector('#df-f65d1e39-a1fb-4982-af53-84233d079b25 button.colab-df-convert');\n",
              "        buttonEl.style.display =\n",
              "          google.colab.kernel.accessAllowed ? 'block' : 'none';\n",
              "\n",
              "        async function convertToInteractive(key) {\n",
              "          const element = document.querySelector('#df-f65d1e39-a1fb-4982-af53-84233d079b25');\n",
              "          const dataTable =\n",
              "            await google.colab.kernel.invokeFunction('convertToInteractive',\n",
              "                                                     [key], {});\n",
              "          if (!dataTable) return;\n",
              "\n",
              "          const docLinkHtml = 'Like what you see? Visit the ' +\n",
              "            '<a target=\"_blank\" href=https://colab.research.google.com/notebooks/data_table.ipynb>data table notebook</a>'\n",
              "            + ' to learn more about interactive tables.';\n",
              "          element.innerHTML = '';\n",
              "          dataTable['output_type'] = 'display_data';\n",
              "          await google.colab.output.renderOutput(dataTable, element);\n",
              "          const docLink = document.createElement('div');\n",
              "          docLink.innerHTML = docLinkHtml;\n",
              "          element.appendChild(docLink);\n",
              "        }\n",
              "      </script>\n",
              "    </div>\n",
              "  </div>\n",
              "  "
            ]
          },
          "metadata": {}
        },
        {
          "output_type": "execute_result",
          "data": {
            "text/plain": [
              "Text(0, 0.5, 'Percentage of People (normalized by class)')"
            ]
          },
          "metadata": {},
          "execution_count": 33
        },
        {
          "output_type": "display_data",
          "data": {
            "text/plain": [
              "<Figure size 720x576 with 1 Axes>"
            ],
            "image/png": "[encoded data removed]"
          },
          "metadata": {
            "needs_background": "light"
          }
        }
      ]
    },
    {
      "cell_type": "code",
      "source": [
        "print('Percentage of people with some college degree that makes >$50K/yr: ', len(train_data[(train_data['education']==' Some-college') & (train_data['income']==' >5"
      ],
      "metadata": {
        "id": "y8hygKJIhqR2"
      },
      "execution_count": null,
      "outputs": []
    }
  ]
}